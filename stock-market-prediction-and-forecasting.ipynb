{
 "cells": [
  {
   "cell_type": "markdown",
   "id": "48b47f0a",
   "metadata": {
    "papermill": {
     "duration": 0.010631,
     "end_time": "2024-09-24T18:01:02.964937",
     "exception": false,
     "start_time": "2024-09-24T18:01:02.954306",
     "status": "completed"
    },
    "tags": []
   },
   "source": [
    "# Import Necessary Libraries "
   ]
  },
  {
   "cell_type": "code",
   "execution_count": 1,
   "id": "7581aa63",
   "metadata": {
    "execution": {
     "iopub.execute_input": "2024-09-24T18:01:02.987884Z",
     "iopub.status.busy": "2024-09-24T18:01:02.986780Z",
     "iopub.status.idle": "2024-09-24T18:01:05.788753Z",
     "shell.execute_reply": "2024-09-24T18:01:05.787469Z"
    },
    "id": "24zrjE-vvF7n",
    "papermill": {
     "duration": 2.816921,
     "end_time": "2024-09-24T18:01:05.791639",
     "exception": false,
     "start_time": "2024-09-24T18:01:02.974718",
     "status": "completed"
    },
    "tags": []
   },
   "outputs": [],
   "source": [
    "import pandas as pd\n",
    "import numpy as np\n",
    "from sklearn import linear_model\n",
    "from sklearn.utils import shuffle\n",
    "import matplotlib.pyplot as pyplot\n",
    "import pickle\n",
    "from matplotlib import style\n",
    "from sklearn.model_selection import train_test_split\n",
    "from sklearn.linear_model import LinearRegression\n",
    "from sklearn.metrics import mean_squared_error, r2_score\n",
    "from sklearn.tree import DecisionTreeRegressor\n",
    "from sklearn.ensemble import RandomForestRegressor\n",
    "from sklearn.preprocessing import StandardScaler"
   ]
  },
  {
   "cell_type": "code",
   "execution_count": 2,
   "id": "d285944e",
   "metadata": {
    "execution": {
     "iopub.execute_input": "2024-09-24T18:01:05.813185Z",
     "iopub.status.busy": "2024-09-24T18:01:05.812571Z",
     "iopub.status.idle": "2024-09-24T18:01:06.438184Z",
     "shell.execute_reply": "2024-09-24T18:01:06.436938Z"
    },
    "id": "7IydOJMJv5IA",
    "outputId": "43af2ec3-f053-4a86-be28-f23b22a86eb7",
    "papermill": {
     "duration": 0.6394,
     "end_time": "2024-09-24T18:01:06.440795",
     "exception": false,
     "start_time": "2024-09-24T18:01:05.801395",
     "status": "completed"
    },
    "tags": []
   },
   "outputs": [
    {
     "data": {
      "text/html": [
       "<div>\n",
       "<style scoped>\n",
       "    .dataframe tbody tr th:only-of-type {\n",
       "        vertical-align: middle;\n",
       "    }\n",
       "\n",
       "    .dataframe tbody tr th {\n",
       "        vertical-align: top;\n",
       "    }\n",
       "\n",
       "    .dataframe thead th {\n",
       "        text-align: right;\n",
       "    }\n",
       "</style>\n",
       "<table border=\"1\" class=\"dataframe\">\n",
       "  <thead>\n",
       "    <tr style=\"text-align: right;\">\n",
       "      <th></th>\n",
       "      <th>Date</th>\n",
       "      <th>Open</th>\n",
       "      <th>High</th>\n",
       "      <th>Low</th>\n",
       "      <th>Last</th>\n",
       "      <th>Close</th>\n",
       "      <th>Total Trade Quantity</th>\n",
       "      <th>Turnover (Lacs)</th>\n",
       "    </tr>\n",
       "  </thead>\n",
       "  <tbody>\n",
       "    <tr>\n",
       "      <th>0</th>\n",
       "      <td>2018-09-28</td>\n",
       "      <td>234.05</td>\n",
       "      <td>235.95</td>\n",
       "      <td>230.20</td>\n",
       "      <td>233.50</td>\n",
       "      <td>233.75</td>\n",
       "      <td>3069914</td>\n",
       "      <td>7162.35</td>\n",
       "    </tr>\n",
       "    <tr>\n",
       "      <th>1</th>\n",
       "      <td>2018-09-27</td>\n",
       "      <td>234.55</td>\n",
       "      <td>236.80</td>\n",
       "      <td>231.10</td>\n",
       "      <td>233.80</td>\n",
       "      <td>233.25</td>\n",
       "      <td>5082859</td>\n",
       "      <td>11859.95</td>\n",
       "    </tr>\n",
       "    <tr>\n",
       "      <th>2</th>\n",
       "      <td>2018-09-26</td>\n",
       "      <td>240.00</td>\n",
       "      <td>240.00</td>\n",
       "      <td>232.50</td>\n",
       "      <td>235.00</td>\n",
       "      <td>234.25</td>\n",
       "      <td>2240909</td>\n",
       "      <td>5248.60</td>\n",
       "    </tr>\n",
       "    <tr>\n",
       "      <th>3</th>\n",
       "      <td>2018-09-25</td>\n",
       "      <td>233.30</td>\n",
       "      <td>236.75</td>\n",
       "      <td>232.00</td>\n",
       "      <td>236.25</td>\n",
       "      <td>236.10</td>\n",
       "      <td>2349368</td>\n",
       "      <td>5503.90</td>\n",
       "    </tr>\n",
       "    <tr>\n",
       "      <th>4</th>\n",
       "      <td>2018-09-24</td>\n",
       "      <td>233.55</td>\n",
       "      <td>239.20</td>\n",
       "      <td>230.75</td>\n",
       "      <td>234.00</td>\n",
       "      <td>233.30</td>\n",
       "      <td>3423509</td>\n",
       "      <td>7999.55</td>\n",
       "    </tr>\n",
       "    <tr>\n",
       "      <th>...</th>\n",
       "      <td>...</td>\n",
       "      <td>...</td>\n",
       "      <td>...</td>\n",
       "      <td>...</td>\n",
       "      <td>...</td>\n",
       "      <td>...</td>\n",
       "      <td>...</td>\n",
       "      <td>...</td>\n",
       "    </tr>\n",
       "    <tr>\n",
       "      <th>2030</th>\n",
       "      <td>2010-07-27</td>\n",
       "      <td>117.60</td>\n",
       "      <td>119.50</td>\n",
       "      <td>112.00</td>\n",
       "      <td>118.80</td>\n",
       "      <td>118.65</td>\n",
       "      <td>586100</td>\n",
       "      <td>694.98</td>\n",
       "    </tr>\n",
       "    <tr>\n",
       "      <th>2031</th>\n",
       "      <td>2010-07-26</td>\n",
       "      <td>120.10</td>\n",
       "      <td>121.00</td>\n",
       "      <td>117.10</td>\n",
       "      <td>117.10</td>\n",
       "      <td>117.60</td>\n",
       "      <td>658440</td>\n",
       "      <td>780.01</td>\n",
       "    </tr>\n",
       "    <tr>\n",
       "      <th>2032</th>\n",
       "      <td>2010-07-23</td>\n",
       "      <td>121.80</td>\n",
       "      <td>121.95</td>\n",
       "      <td>120.25</td>\n",
       "      <td>120.35</td>\n",
       "      <td>120.65</td>\n",
       "      <td>281312</td>\n",
       "      <td>340.31</td>\n",
       "    </tr>\n",
       "    <tr>\n",
       "      <th>2033</th>\n",
       "      <td>2010-07-22</td>\n",
       "      <td>120.30</td>\n",
       "      <td>122.00</td>\n",
       "      <td>120.25</td>\n",
       "      <td>120.75</td>\n",
       "      <td>120.90</td>\n",
       "      <td>293312</td>\n",
       "      <td>355.17</td>\n",
       "    </tr>\n",
       "    <tr>\n",
       "      <th>2034</th>\n",
       "      <td>2010-07-21</td>\n",
       "      <td>122.10</td>\n",
       "      <td>123.00</td>\n",
       "      <td>121.05</td>\n",
       "      <td>121.10</td>\n",
       "      <td>121.55</td>\n",
       "      <td>658666</td>\n",
       "      <td>803.56</td>\n",
       "    </tr>\n",
       "  </tbody>\n",
       "</table>\n",
       "<p>2035 rows × 8 columns</p>\n",
       "</div>"
      ],
      "text/plain": [
       "            Date    Open    High     Low    Last   Close  \\\n",
       "0     2018-09-28  234.05  235.95  230.20  233.50  233.75   \n",
       "1     2018-09-27  234.55  236.80  231.10  233.80  233.25   \n",
       "2     2018-09-26  240.00  240.00  232.50  235.00  234.25   \n",
       "3     2018-09-25  233.30  236.75  232.00  236.25  236.10   \n",
       "4     2018-09-24  233.55  239.20  230.75  234.00  233.30   \n",
       "...          ...     ...     ...     ...     ...     ...   \n",
       "2030  2010-07-27  117.60  119.50  112.00  118.80  118.65   \n",
       "2031  2010-07-26  120.10  121.00  117.10  117.10  117.60   \n",
       "2032  2010-07-23  121.80  121.95  120.25  120.35  120.65   \n",
       "2033  2010-07-22  120.30  122.00  120.25  120.75  120.90   \n",
       "2034  2010-07-21  122.10  123.00  121.05  121.10  121.55   \n",
       "\n",
       "      Total Trade Quantity  Turnover (Lacs)  \n",
       "0                  3069914          7162.35  \n",
       "1                  5082859         11859.95  \n",
       "2                  2240909          5248.60  \n",
       "3                  2349368          5503.90  \n",
       "4                  3423509          7999.55  \n",
       "...                    ...              ...  \n",
       "2030                586100           694.98  \n",
       "2031                658440           780.01  \n",
       "2032                281312           340.31  \n",
       "2033                293312           355.17  \n",
       "2034                658666           803.56  \n",
       "\n",
       "[2035 rows x 8 columns]"
      ]
     },
     "execution_count": 2,
     "metadata": {},
     "output_type": "execute_result"
    }
   ],
   "source": [
    "df = pd.read_csv('https://raw.githubusercontent.com/mwitiderrick/stockprice/master/NSE-TATAGLOBAL.csv')\n",
    "df"
   ]
  },
  {
   "cell_type": "markdown",
   "id": "6087b9b6",
   "metadata": {
    "papermill": {
     "duration": 0.009799,
     "end_time": "2024-09-24T18:01:06.460659",
     "exception": false,
     "start_time": "2024-09-24T18:01:06.450860",
     "status": "completed"
    },
    "tags": []
   },
   "source": [
    "# Data Exploratory & Prerocessing"
   ]
  },
  {
   "cell_type": "code",
   "execution_count": 3,
   "id": "3aad8592",
   "metadata": {
    "execution": {
     "iopub.execute_input": "2024-09-24T18:01:06.483497Z",
     "iopub.status.busy": "2024-09-24T18:01:06.483068Z",
     "iopub.status.idle": "2024-09-24T18:01:06.506022Z",
     "shell.execute_reply": "2024-09-24T18:01:06.504204Z"
    },
    "id": "Xf0uyyqHwERW",
    "outputId": "87234d58-b539-4bb2-df86-dcbe68357504",
    "papermill": {
     "duration": 0.038111,
     "end_time": "2024-09-24T18:01:06.508837",
     "exception": false,
     "start_time": "2024-09-24T18:01:06.470726",
     "status": "completed"
    },
    "tags": []
   },
   "outputs": [
    {
     "name": "stdout",
     "output_type": "stream",
     "text": [
      "<class 'pandas.core.frame.DataFrame'>\n",
      "RangeIndex: 2035 entries, 0 to 2034\n",
      "Data columns (total 8 columns):\n",
      " #   Column                Non-Null Count  Dtype  \n",
      "---  ------                --------------  -----  \n",
      " 0   Date                  2035 non-null   object \n",
      " 1   Open                  2035 non-null   float64\n",
      " 2   High                  2035 non-null   float64\n",
      " 3   Low                   2035 non-null   float64\n",
      " 4   Last                  2035 non-null   float64\n",
      " 5   Close                 2035 non-null   float64\n",
      " 6   Total Trade Quantity  2035 non-null   int64  \n",
      " 7   Turnover (Lacs)       2035 non-null   float64\n",
      "dtypes: float64(6), int64(1), object(1)\n",
      "memory usage: 127.3+ KB\n"
     ]
    }
   ],
   "source": [
    "df.info()"
   ]
  },
  {
   "cell_type": "code",
   "execution_count": 4,
   "id": "3312d0f4",
   "metadata": {
    "execution": {
     "iopub.execute_input": "2024-09-24T18:01:06.531175Z",
     "iopub.status.busy": "2024-09-24T18:01:06.530730Z",
     "iopub.status.idle": "2024-09-24T18:01:06.540451Z",
     "shell.execute_reply": "2024-09-24T18:01:06.539336Z"
    },
    "id": "n66AaT59wSQa",
    "outputId": "734a6880-0efa-487c-886d-d5c99c6aba46",
    "papermill": {
     "duration": 0.024193,
     "end_time": "2024-09-24T18:01:06.543120",
     "exception": false,
     "start_time": "2024-09-24T18:01:06.518927",
     "status": "completed"
    },
    "tags": []
   },
   "outputs": [
    {
     "data": {
      "text/plain": [
       "Date                    0\n",
       "Open                    0\n",
       "High                    0\n",
       "Low                     0\n",
       "Last                    0\n",
       "Close                   0\n",
       "Total Trade Quantity    0\n",
       "Turnover (Lacs)         0\n",
       "dtype: int64"
      ]
     },
     "execution_count": 4,
     "metadata": {},
     "output_type": "execute_result"
    }
   ],
   "source": [
    "df.isnull().sum()"
   ]
  },
  {
   "cell_type": "code",
   "execution_count": 5,
   "id": "2b8a878e",
   "metadata": {
    "execution": {
     "iopub.execute_input": "2024-09-24T18:01:06.565658Z",
     "iopub.status.busy": "2024-09-24T18:01:06.565247Z",
     "iopub.status.idle": "2024-09-24T18:01:06.575243Z",
     "shell.execute_reply": "2024-09-24T18:01:06.573914Z"
    },
    "id": "g-tuPpr1wbcy",
    "outputId": "9a38fedb-f419-4430-8fe2-344d807bee26",
    "papermill": {
     "duration": 0.024279,
     "end_time": "2024-09-24T18:01:06.577808",
     "exception": false,
     "start_time": "2024-09-24T18:01:06.553529",
     "status": "completed"
    },
    "tags": []
   },
   "outputs": [
    {
     "data": {
      "text/plain": [
       "Date                    0\n",
       "Open                    0\n",
       "High                    0\n",
       "Low                     0\n",
       "Last                    0\n",
       "Close                   0\n",
       "Total Trade Quantity    0\n",
       "Turnover (Lacs)         0\n",
       "dtype: int64"
      ]
     },
     "execution_count": 5,
     "metadata": {},
     "output_type": "execute_result"
    }
   ],
   "source": [
    "df.isna().sum()"
   ]
  },
  {
   "cell_type": "code",
   "execution_count": 6,
   "id": "c3f1246d",
   "metadata": {
    "execution": {
     "iopub.execute_input": "2024-09-24T18:01:06.601150Z",
     "iopub.status.busy": "2024-09-24T18:01:06.600704Z",
     "iopub.status.idle": "2024-09-24T18:01:06.611329Z",
     "shell.execute_reply": "2024-09-24T18:01:06.610158Z"
    },
    "id": "4h50yOPQwgCZ",
    "outputId": "263271ff-44bb-4182-a64a-09c2591d7d4d",
    "papermill": {
     "duration": 0.025744,
     "end_time": "2024-09-24T18:01:06.614089",
     "exception": false,
     "start_time": "2024-09-24T18:01:06.588345",
     "status": "completed"
    },
    "tags": []
   },
   "outputs": [
    {
     "data": {
      "text/plain": [
       "0"
      ]
     },
     "execution_count": 6,
     "metadata": {},
     "output_type": "execute_result"
    }
   ],
   "source": [
    "df.duplicated().sum()"
   ]
  },
  {
   "cell_type": "code",
   "execution_count": 7,
   "id": "773f3bcd",
   "metadata": {
    "execution": {
     "iopub.execute_input": "2024-09-24T18:01:06.638655Z",
     "iopub.status.busy": "2024-09-24T18:01:06.638221Z",
     "iopub.status.idle": "2024-09-24T18:01:06.674221Z",
     "shell.execute_reply": "2024-09-24T18:01:06.672921Z"
    },
    "id": "O68NWmm4wjB3",
    "outputId": "f69e1db9-6b5c-45e1-8383-c63fe2564f15",
    "papermill": {
     "duration": 0.051703,
     "end_time": "2024-09-24T18:01:06.677197",
     "exception": false,
     "start_time": "2024-09-24T18:01:06.625494",
     "status": "completed"
    },
    "tags": []
   },
   "outputs": [
    {
     "data": {
      "text/html": [
       "<div>\n",
       "<style scoped>\n",
       "    .dataframe tbody tr th:only-of-type {\n",
       "        vertical-align: middle;\n",
       "    }\n",
       "\n",
       "    .dataframe tbody tr th {\n",
       "        vertical-align: top;\n",
       "    }\n",
       "\n",
       "    .dataframe thead th {\n",
       "        text-align: right;\n",
       "    }\n",
       "</style>\n",
       "<table border=\"1\" class=\"dataframe\">\n",
       "  <thead>\n",
       "    <tr style=\"text-align: right;\">\n",
       "      <th></th>\n",
       "      <th>Open</th>\n",
       "      <th>High</th>\n",
       "      <th>Low</th>\n",
       "      <th>Last</th>\n",
       "      <th>Close</th>\n",
       "      <th>Total Trade Quantity</th>\n",
       "      <th>Turnover (Lacs)</th>\n",
       "    </tr>\n",
       "  </thead>\n",
       "  <tbody>\n",
       "    <tr>\n",
       "      <th>count</th>\n",
       "      <td>2035.000000</td>\n",
       "      <td>2035.000000</td>\n",
       "      <td>2035.000000</td>\n",
       "      <td>2035.000000</td>\n",
       "      <td>2035.00000</td>\n",
       "      <td>2.035000e+03</td>\n",
       "      <td>2035.000000</td>\n",
       "    </tr>\n",
       "    <tr>\n",
       "      <th>mean</th>\n",
       "      <td>149.713735</td>\n",
       "      <td>151.992826</td>\n",
       "      <td>147.293931</td>\n",
       "      <td>149.474251</td>\n",
       "      <td>149.45027</td>\n",
       "      <td>2.335681e+06</td>\n",
       "      <td>3899.980565</td>\n",
       "    </tr>\n",
       "    <tr>\n",
       "      <th>std</th>\n",
       "      <td>48.664509</td>\n",
       "      <td>49.413109</td>\n",
       "      <td>47.931958</td>\n",
       "      <td>48.732570</td>\n",
       "      <td>48.71204</td>\n",
       "      <td>2.091778e+06</td>\n",
       "      <td>4570.767877</td>\n",
       "    </tr>\n",
       "    <tr>\n",
       "      <th>min</th>\n",
       "      <td>81.100000</td>\n",
       "      <td>82.800000</td>\n",
       "      <td>80.000000</td>\n",
       "      <td>81.000000</td>\n",
       "      <td>80.95000</td>\n",
       "      <td>3.961000e+04</td>\n",
       "      <td>37.040000</td>\n",
       "    </tr>\n",
       "    <tr>\n",
       "      <th>25%</th>\n",
       "      <td>120.025000</td>\n",
       "      <td>122.100000</td>\n",
       "      <td>118.300000</td>\n",
       "      <td>120.075000</td>\n",
       "      <td>120.05000</td>\n",
       "      <td>1.146444e+06</td>\n",
       "      <td>1427.460000</td>\n",
       "    </tr>\n",
       "    <tr>\n",
       "      <th>50%</th>\n",
       "      <td>141.500000</td>\n",
       "      <td>143.400000</td>\n",
       "      <td>139.600000</td>\n",
       "      <td>141.100000</td>\n",
       "      <td>141.25000</td>\n",
       "      <td>1.783456e+06</td>\n",
       "      <td>2512.030000</td>\n",
       "    </tr>\n",
       "    <tr>\n",
       "      <th>75%</th>\n",
       "      <td>157.175000</td>\n",
       "      <td>159.400000</td>\n",
       "      <td>155.150000</td>\n",
       "      <td>156.925000</td>\n",
       "      <td>156.90000</td>\n",
       "      <td>2.813594e+06</td>\n",
       "      <td>4539.015000</td>\n",
       "    </tr>\n",
       "    <tr>\n",
       "      <th>max</th>\n",
       "      <td>327.700000</td>\n",
       "      <td>328.750000</td>\n",
       "      <td>321.650000</td>\n",
       "      <td>325.950000</td>\n",
       "      <td>325.75000</td>\n",
       "      <td>2.919102e+07</td>\n",
       "      <td>55755.080000</td>\n",
       "    </tr>\n",
       "  </tbody>\n",
       "</table>\n",
       "</div>"
      ],
      "text/plain": [
       "              Open         High          Low         Last       Close  \\\n",
       "count  2035.000000  2035.000000  2035.000000  2035.000000  2035.00000   \n",
       "mean    149.713735   151.992826   147.293931   149.474251   149.45027   \n",
       "std      48.664509    49.413109    47.931958    48.732570    48.71204   \n",
       "min      81.100000    82.800000    80.000000    81.000000    80.95000   \n",
       "25%     120.025000   122.100000   118.300000   120.075000   120.05000   \n",
       "50%     141.500000   143.400000   139.600000   141.100000   141.25000   \n",
       "75%     157.175000   159.400000   155.150000   156.925000   156.90000   \n",
       "max     327.700000   328.750000   321.650000   325.950000   325.75000   \n",
       "\n",
       "       Total Trade Quantity  Turnover (Lacs)  \n",
       "count          2.035000e+03      2035.000000  \n",
       "mean           2.335681e+06      3899.980565  \n",
       "std            2.091778e+06      4570.767877  \n",
       "min            3.961000e+04        37.040000  \n",
       "25%            1.146444e+06      1427.460000  \n",
       "50%            1.783456e+06      2512.030000  \n",
       "75%            2.813594e+06      4539.015000  \n",
       "max            2.919102e+07     55755.080000  "
      ]
     },
     "execution_count": 7,
     "metadata": {},
     "output_type": "execute_result"
    }
   ],
   "source": [
    "df.describe()"
   ]
  },
  {
   "cell_type": "code",
   "execution_count": 8,
   "id": "ba929f92",
   "metadata": {
    "execution": {
     "iopub.execute_input": "2024-09-24T18:01:06.701666Z",
     "iopub.status.busy": "2024-09-24T18:01:06.701202Z",
     "iopub.status.idle": "2024-09-24T18:01:06.708389Z",
     "shell.execute_reply": "2024-09-24T18:01:06.707378Z"
    },
    "id": "BVoC5nr4wqyP",
    "outputId": "91323f25-afa2-449c-ff17-5eb1de6f8d77",
    "papermill": {
     "duration": 0.022383,
     "end_time": "2024-09-24T18:01:06.710730",
     "exception": false,
     "start_time": "2024-09-24T18:01:06.688347",
     "status": "completed"
    },
    "tags": []
   },
   "outputs": [
    {
     "data": {
      "text/plain": [
       "(2035, 8)"
      ]
     },
     "execution_count": 8,
     "metadata": {},
     "output_type": "execute_result"
    }
   ],
   "source": [
    "df.shape"
   ]
  },
  {
   "cell_type": "code",
   "execution_count": 9,
   "id": "dcaa820f",
   "metadata": {
    "execution": {
     "iopub.execute_input": "2024-09-24T18:01:06.734567Z",
     "iopub.status.busy": "2024-09-24T18:01:06.734134Z",
     "iopub.status.idle": "2024-09-24T18:01:06.751509Z",
     "shell.execute_reply": "2024-09-24T18:01:06.750581Z"
    },
    "id": "DliBy-irw11d",
    "papermill": {
     "duration": 0.032259,
     "end_time": "2024-09-24T18:01:06.753953",
     "exception": false,
     "start_time": "2024-09-24T18:01:06.721694",
     "status": "completed"
    },
    "tags": []
   },
   "outputs": [],
   "source": [
    "df['Date'] = pd.to_datetime(df['Date'])\n",
    "df['year'] = df['Date'].dt.year\n",
    "df['month'] = df['Date'].dt.month\n",
    "df['day'] = df['Date'].dt.day\n",
    "df.drop('Date', axis=1, inplace=True)"
   ]
  },
  {
   "cell_type": "code",
   "execution_count": 10,
   "id": "fd7f812a",
   "metadata": {
    "execution": {
     "iopub.execute_input": "2024-09-24T18:01:06.777953Z",
     "iopub.status.busy": "2024-09-24T18:01:06.777525Z",
     "iopub.status.idle": "2024-09-24T18:01:06.801193Z",
     "shell.execute_reply": "2024-09-24T18:01:06.799930Z"
    },
    "id": "crJX8c6lxHRk",
    "outputId": "f8c95dfe-153b-4e5b-b56a-679e60be3039",
    "papermill": {
     "duration": 0.038917,
     "end_time": "2024-09-24T18:01:06.804156",
     "exception": false,
     "start_time": "2024-09-24T18:01:06.765239",
     "status": "completed"
    },
    "tags": []
   },
   "outputs": [
    {
     "data": {
      "text/html": [
       "<div>\n",
       "<style scoped>\n",
       "    .dataframe tbody tr th:only-of-type {\n",
       "        vertical-align: middle;\n",
       "    }\n",
       "\n",
       "    .dataframe tbody tr th {\n",
       "        vertical-align: top;\n",
       "    }\n",
       "\n",
       "    .dataframe thead th {\n",
       "        text-align: right;\n",
       "    }\n",
       "</style>\n",
       "<table border=\"1\" class=\"dataframe\">\n",
       "  <thead>\n",
       "    <tr style=\"text-align: right;\">\n",
       "      <th></th>\n",
       "      <th>Open</th>\n",
       "      <th>High</th>\n",
       "      <th>Low</th>\n",
       "      <th>Last</th>\n",
       "      <th>Close</th>\n",
       "      <th>Total Trade Quantity</th>\n",
       "      <th>Turnover (Lacs)</th>\n",
       "      <th>year</th>\n",
       "      <th>month</th>\n",
       "      <th>day</th>\n",
       "    </tr>\n",
       "  </thead>\n",
       "  <tbody>\n",
       "    <tr>\n",
       "      <th>0</th>\n",
       "      <td>234.05</td>\n",
       "      <td>235.95</td>\n",
       "      <td>230.20</td>\n",
       "      <td>233.50</td>\n",
       "      <td>233.75</td>\n",
       "      <td>3069914</td>\n",
       "      <td>7162.35</td>\n",
       "      <td>2018</td>\n",
       "      <td>9</td>\n",
       "      <td>28</td>\n",
       "    </tr>\n",
       "    <tr>\n",
       "      <th>1</th>\n",
       "      <td>234.55</td>\n",
       "      <td>236.80</td>\n",
       "      <td>231.10</td>\n",
       "      <td>233.80</td>\n",
       "      <td>233.25</td>\n",
       "      <td>5082859</td>\n",
       "      <td>11859.95</td>\n",
       "      <td>2018</td>\n",
       "      <td>9</td>\n",
       "      <td>27</td>\n",
       "    </tr>\n",
       "    <tr>\n",
       "      <th>2</th>\n",
       "      <td>240.00</td>\n",
       "      <td>240.00</td>\n",
       "      <td>232.50</td>\n",
       "      <td>235.00</td>\n",
       "      <td>234.25</td>\n",
       "      <td>2240909</td>\n",
       "      <td>5248.60</td>\n",
       "      <td>2018</td>\n",
       "      <td>9</td>\n",
       "      <td>26</td>\n",
       "    </tr>\n",
       "    <tr>\n",
       "      <th>3</th>\n",
       "      <td>233.30</td>\n",
       "      <td>236.75</td>\n",
       "      <td>232.00</td>\n",
       "      <td>236.25</td>\n",
       "      <td>236.10</td>\n",
       "      <td>2349368</td>\n",
       "      <td>5503.90</td>\n",
       "      <td>2018</td>\n",
       "      <td>9</td>\n",
       "      <td>25</td>\n",
       "    </tr>\n",
       "    <tr>\n",
       "      <th>4</th>\n",
       "      <td>233.55</td>\n",
       "      <td>239.20</td>\n",
       "      <td>230.75</td>\n",
       "      <td>234.00</td>\n",
       "      <td>233.30</td>\n",
       "      <td>3423509</td>\n",
       "      <td>7999.55</td>\n",
       "      <td>2018</td>\n",
       "      <td>9</td>\n",
       "      <td>24</td>\n",
       "    </tr>\n",
       "    <tr>\n",
       "      <th>...</th>\n",
       "      <td>...</td>\n",
       "      <td>...</td>\n",
       "      <td>...</td>\n",
       "      <td>...</td>\n",
       "      <td>...</td>\n",
       "      <td>...</td>\n",
       "      <td>...</td>\n",
       "      <td>...</td>\n",
       "      <td>...</td>\n",
       "      <td>...</td>\n",
       "    </tr>\n",
       "    <tr>\n",
       "      <th>2030</th>\n",
       "      <td>117.60</td>\n",
       "      <td>119.50</td>\n",
       "      <td>112.00</td>\n",
       "      <td>118.80</td>\n",
       "      <td>118.65</td>\n",
       "      <td>586100</td>\n",
       "      <td>694.98</td>\n",
       "      <td>2010</td>\n",
       "      <td>7</td>\n",
       "      <td>27</td>\n",
       "    </tr>\n",
       "    <tr>\n",
       "      <th>2031</th>\n",
       "      <td>120.10</td>\n",
       "      <td>121.00</td>\n",
       "      <td>117.10</td>\n",
       "      <td>117.10</td>\n",
       "      <td>117.60</td>\n",
       "      <td>658440</td>\n",
       "      <td>780.01</td>\n",
       "      <td>2010</td>\n",
       "      <td>7</td>\n",
       "      <td>26</td>\n",
       "    </tr>\n",
       "    <tr>\n",
       "      <th>2032</th>\n",
       "      <td>121.80</td>\n",
       "      <td>121.95</td>\n",
       "      <td>120.25</td>\n",
       "      <td>120.35</td>\n",
       "      <td>120.65</td>\n",
       "      <td>281312</td>\n",
       "      <td>340.31</td>\n",
       "      <td>2010</td>\n",
       "      <td>7</td>\n",
       "      <td>23</td>\n",
       "    </tr>\n",
       "    <tr>\n",
       "      <th>2033</th>\n",
       "      <td>120.30</td>\n",
       "      <td>122.00</td>\n",
       "      <td>120.25</td>\n",
       "      <td>120.75</td>\n",
       "      <td>120.90</td>\n",
       "      <td>293312</td>\n",
       "      <td>355.17</td>\n",
       "      <td>2010</td>\n",
       "      <td>7</td>\n",
       "      <td>22</td>\n",
       "    </tr>\n",
       "    <tr>\n",
       "      <th>2034</th>\n",
       "      <td>122.10</td>\n",
       "      <td>123.00</td>\n",
       "      <td>121.05</td>\n",
       "      <td>121.10</td>\n",
       "      <td>121.55</td>\n",
       "      <td>658666</td>\n",
       "      <td>803.56</td>\n",
       "      <td>2010</td>\n",
       "      <td>7</td>\n",
       "      <td>21</td>\n",
       "    </tr>\n",
       "  </tbody>\n",
       "</table>\n",
       "<p>2035 rows × 10 columns</p>\n",
       "</div>"
      ],
      "text/plain": [
       "        Open    High     Low    Last   Close  Total Trade Quantity  \\\n",
       "0     234.05  235.95  230.20  233.50  233.75               3069914   \n",
       "1     234.55  236.80  231.10  233.80  233.25               5082859   \n",
       "2     240.00  240.00  232.50  235.00  234.25               2240909   \n",
       "3     233.30  236.75  232.00  236.25  236.10               2349368   \n",
       "4     233.55  239.20  230.75  234.00  233.30               3423509   \n",
       "...      ...     ...     ...     ...     ...                   ...   \n",
       "2030  117.60  119.50  112.00  118.80  118.65                586100   \n",
       "2031  120.10  121.00  117.10  117.10  117.60                658440   \n",
       "2032  121.80  121.95  120.25  120.35  120.65                281312   \n",
       "2033  120.30  122.00  120.25  120.75  120.90                293312   \n",
       "2034  122.10  123.00  121.05  121.10  121.55                658666   \n",
       "\n",
       "      Turnover (Lacs)  year  month  day  \n",
       "0             7162.35  2018      9   28  \n",
       "1            11859.95  2018      9   27  \n",
       "2             5248.60  2018      9   26  \n",
       "3             5503.90  2018      9   25  \n",
       "4             7999.55  2018      9   24  \n",
       "...               ...   ...    ...  ...  \n",
       "2030           694.98  2010      7   27  \n",
       "2031           780.01  2010      7   26  \n",
       "2032           340.31  2010      7   23  \n",
       "2033           355.17  2010      7   22  \n",
       "2034           803.56  2010      7   21  \n",
       "\n",
       "[2035 rows x 10 columns]"
      ]
     },
     "execution_count": 10,
     "metadata": {},
     "output_type": "execute_result"
    }
   ],
   "source": [
    "df"
   ]
  },
  {
   "cell_type": "markdown",
   "id": "030cfbbc",
   "metadata": {
    "papermill": {
     "duration": 0.011496,
     "end_time": "2024-09-24T18:01:06.827520",
     "exception": false,
     "start_time": "2024-09-24T18:01:06.816024",
     "status": "completed"
    },
    "tags": []
   },
   "source": [
    "# Data Visualzation"
   ]
  },
  {
   "cell_type": "code",
   "execution_count": 11,
   "id": "a9481bc5",
   "metadata": {
    "execution": {
     "iopub.execute_input": "2024-09-24T18:01:06.852713Z",
     "iopub.status.busy": "2024-09-24T18:01:06.851890Z",
     "iopub.status.idle": "2024-09-24T18:01:08.113148Z",
     "shell.execute_reply": "2024-09-24T18:01:08.111967Z"
    },
    "id": "hC0vaO-R1c0j",
    "papermill": {
     "duration": 1.276878,
     "end_time": "2024-09-24T18:01:08.115823",
     "exception": false,
     "start_time": "2024-09-24T18:01:06.838945",
     "status": "completed"
    },
    "tags": []
   },
   "outputs": [],
   "source": [
    "import plotly.express as px\n",
    "import plotly.graph_objects as go\n",
    "from plotly.subplots import make_subplots\n",
    "import matplotlib.pyplot as plt\n",
    "import seaborn as sns"
   ]
  },
  {
   "cell_type": "code",
   "execution_count": 12,
   "id": "d8f564e4",
   "metadata": {
    "execution": {
     "iopub.execute_input": "2024-09-24T18:01:08.141954Z",
     "iopub.status.busy": "2024-09-24T18:01:08.140568Z",
     "iopub.status.idle": "2024-09-24T18:01:10.293338Z",
     "shell.execute_reply": "2024-09-24T18:01:10.292197Z"
    },
    "id": "UAmP_LUX2JGK",
    "outputId": "137f5146-f2ec-455c-b548-c9a0c0c67bd9",
    "papermill": {
     "duration": 2.168804,
     "end_time": "2024-09-24T18:01:10.296284",
     "exception": false,
     "start_time": "2024-09-24T18:01:08.127480",
     "status": "completed"
    },
    "tags": []
   },
   "outputs": [
    {
     "data": {
      "text/html": [
       "        <script type=\"text/javascript\">\n",
       "        window.PlotlyConfig = {MathJaxConfig: 'local'};\n",
       "        if (window.MathJax && window.MathJax.Hub && window.MathJax.Hub.Config) {window.MathJax.Hub.Config({SVG: {font: \"STIX-Web\"}});}\n",
       "        if (typeof require !== 'undefined') {\n",
       "        require.undef(\"plotly\");\n",
       "        requirejs.config({\n",
       "            paths: {\n",
       "                'plotly': ['https://cdn.plot.ly/plotly-2.32.0.min']\n",
       "            }\n",
       "        });\n",
       "        require(['plotly'], function(Plotly) {\n",
       "            window._Plotly = Plotly;\n",
       "        });\n",
       "        }\n",
       "        </script>\n",
       "        "
      ]
     },
     "metadata": {},
     "output_type": "display_data"
    },
    {
     "data": {
      "text/html": [
       "<div>                            <div id=\"5f9459b3-c2f7-4dcb-b37a-391847817161\" class=\"plotly-graph-div\" style=\"height:525px; width:100%;\"></div>            <script type=\"text/javascript\">                require([\"plotly\"], function(Plotly) {                    window.PLOTLYENV=window.PLOTLYENV || {};                                    if (document.getElementById(\"5f9459b3-c2f7-4dcb-b37a-391847817161\")) {                    Plotly.newPlot(                        \"5f9459b3-c2f7-4dcb-b37a-391847817161\",                        [{\"hovertemplate\":\"index=%{x}\\u003cbr\\u003eClose=%{y}\\u003cextra\\u003e\\u003c\\u002fextra\\u003e\",\"legendgroup\":\"\",\"line\":{\"color\":\"#636efa\",\"dash\":\"solid\"},\"marker\":{\"symbol\":\"circle\"},\"mode\":\"lines\",\"name\":\"\",\"showlegend\":false,\"x\":[0,1,2,3,4,5,6,7,8,9,10,11,12,13,14,15,16,17,18,19,20,21,22,23,24,25,26,27,28,29,30,31,32,33,34,35,36,37,38,39,40,41,42,43,44,45,46,47,48,49,50,51,52,53,54,55,56,57,58,59,60,61,62,63,64,65,66,67,68,69,70,71,72,73,74,75,76,77,78,79,80,81,82,83,84,85,86,87,88,89,90,91,92,93,94,95,96,97,98,99,100,101,102,103,104,105,106,107,108,109,110,111,112,113,114,115,116,117,118,119,120,121,122,123,124,125,126,127,128,129,130,131,132,133,134,135,136,137,138,139,140,141,142,143,144,145,146,147,148,149,150,151,152,153,154,155,156,157,158,159,160,161,162,163,164,165,166,167,168,169,170,171,172,173,174,175,176,177,178,179,180,181,182,183,184,185,186,187,188,189,190,191,192,193,194,195,196,197,198,199,200,201,202,203,204,205,206,207,208,209,210,211,212,213,214,215,216,217,218,219,220,221,222,223,224,225,226,227,228,229,230,231,232,233,234,235,236,237,238,239,240,241,242,243,244,245,246,247,248,249,250,251,252,253,254,255,256,257,258,259,260,261,262,263,264,265,266,267,268,269,270,271,272,273,274,275,276,277,278,279,280,281,282,283,284,285,286,287,288,289,290,291,292,293,294,295,296,297,298,299,300,301,302,303,304,305,306,307,308,309,310,311,312,313,314,315,316,317,318,319,320,321,322,323,324,325,326,327,328,329,330,331,332,333,334,335,336,337,338,339,340,341,342,343,344,345,346,347,348,349,350,351,352,353,354,355,356,357,358,359,360,361,362,363,364,365,366,367,368,369,370,371,372,373,374,375,376,377,378,379,380,381,382,383,384,385,386,387,388,389,390,391,392,393,394,395,396,397,398,399,400,401,402,403,404,405,406,407,408,409,410,411,412,413,414,415,416,417,418,419,420,421,422,423,424,425,426,427,428,429,430,431,432,433,434,435,436,437,438,439,440,441,442,443,444,445,446,447,448,449,450,451,452,453,454,455,456,457,458,459,460,461,462,463,464,465,466,467,468,469,470,471,472,473,474,475,476,477,478,479,480,481,482,483,484,485,486,487,488,489,490,491,492,493,494,495,496,497,498,499,500,501,502,503,504,505,506,507,508,509,510,511,512,513,514,515,516,517,518,519,520,521,522,523,524,525,526,527,528,529,530,531,532,533,534,535,536,537,538,539,540,541,542,543,544,545,546,547,548,549,550,551,552,553,554,555,556,557,558,559,560,561,562,563,564,565,566,567,568,569,570,571,572,573,574,575,576,577,578,579,580,581,582,583,584,585,586,587,588,589,590,591,592,593,594,595,596,597,598,599,600,601,602,603,604,605,606,607,608,609,610,611,612,613,614,615,616,617,618,619,620,621,622,623,624,625,626,627,628,629,630,631,632,633,634,635,636,637,638,639,640,641,642,643,644,645,646,647,648,649,650,651,652,653,654,655,656,657,658,659,660,661,662,663,664,665,666,667,668,669,670,671,672,673,674,675,676,677,678,679,680,681,682,683,684,685,686,687,688,689,690,691,692,693,694,695,696,697,698,699,700,701,702,703,704,705,706,707,708,709,710,711,712,713,714,715,716,717,718,719,720,721,722,723,724,725,726,727,728,729,730,731,732,733,734,735,736,737,738,739,740,741,742,743,744,745,746,747,748,749,750,751,752,753,754,755,756,757,758,759,760,761,762,763,764,765,766,767,768,769,770,771,772,773,774,775,776,777,778,779,780,781,782,783,784,785,786,787,788,789,790,791,792,793,794,795,796,797,798,799,800,801,802,803,804,805,806,807,808,809,810,811,812,813,814,815,816,817,818,819,820,821,822,823,824,825,826,827,828,829,830,831,832,833,834,835,836,837,838,839,840,841,842,843,844,845,846,847,848,849,850,851,852,853,854,855,856,857,858,859,860,861,862,863,864,865,866,867,868,869,870,871,872,873,874,875,876,877,878,879,880,881,882,883,884,885,886,887,888,889,890,891,892,893,894,895,896,897,898,899,900,901,902,903,904,905,906,907,908,909,910,911,912,913,914,915,916,917,918,919,920,921,922,923,924,925,926,927,928,929,930,931,932,933,934,935,936,937,938,939,940,941,942,943,944,945,946,947,948,949,950,951,952,953,954,955,956,957,958,959,960,961,962,963,964,965,966,967,968,969,970,971,972,973,974,975,976,977,978,979,980,981,982,983,984,985,986,987,988,989,990,991,992,993,994,995,996,997,998,999,1000,1001,1002,1003,1004,1005,1006,1007,1008,1009,1010,1011,1012,1013,1014,1015,1016,1017,1018,1019,1020,1021,1022,1023,1024,1025,1026,1027,1028,1029,1030,1031,1032,1033,1034,1035,1036,1037,1038,1039,1040,1041,1042,1043,1044,1045,1046,1047,1048,1049,1050,1051,1052,1053,1054,1055,1056,1057,1058,1059,1060,1061,1062,1063,1064,1065,1066,1067,1068,1069,1070,1071,1072,1073,1074,1075,1076,1077,1078,1079,1080,1081,1082,1083,1084,1085,1086,1087,1088,1089,1090,1091,1092,1093,1094,1095,1096,1097,1098,1099,1100,1101,1102,1103,1104,1105,1106,1107,1108,1109,1110,1111,1112,1113,1114,1115,1116,1117,1118,1119,1120,1121,1122,1123,1124,1125,1126,1127,1128,1129,1130,1131,1132,1133,1134,1135,1136,1137,1138,1139,1140,1141,1142,1143,1144,1145,1146,1147,1148,1149,1150,1151,1152,1153,1154,1155,1156,1157,1158,1159,1160,1161,1162,1163,1164,1165,1166,1167,1168,1169,1170,1171,1172,1173,1174,1175,1176,1177,1178,1179,1180,1181,1182,1183,1184,1185,1186,1187,1188,1189,1190,1191,1192,1193,1194,1195,1196,1197,1198,1199,1200,1201,1202,1203,1204,1205,1206,1207,1208,1209,1210,1211,1212,1213,1214,1215,1216,1217,1218,1219,1220,1221,1222,1223,1224,1225,1226,1227,1228,1229,1230,1231,1232,1233,1234,1235,1236,1237,1238,1239,1240,1241,1242,1243,1244,1245,1246,1247,1248,1249,1250,1251,1252,1253,1254,1255,1256,1257,1258,1259,1260,1261,1262,1263,1264,1265,1266,1267,1268,1269,1270,1271,1272,1273,1274,1275,1276,1277,1278,1279,1280,1281,1282,1283,1284,1285,1286,1287,1288,1289,1290,1291,1292,1293,1294,1295,1296,1297,1298,1299,1300,1301,1302,1303,1304,1305,1306,1307,1308,1309,1310,1311,1312,1313,1314,1315,1316,1317,1318,1319,1320,1321,1322,1323,1324,1325,1326,1327,1328,1329,1330,1331,1332,1333,1334,1335,1336,1337,1338,1339,1340,1341,1342,1343,1344,1345,1346,1347,1348,1349,1350,1351,1352,1353,1354,1355,1356,1357,1358,1359,1360,1361,1362,1363,1364,1365,1366,1367,1368,1369,1370,1371,1372,1373,1374,1375,1376,1377,1378,1379,1380,1381,1382,1383,1384,1385,1386,1387,1388,1389,1390,1391,1392,1393,1394,1395,1396,1397,1398,1399,1400,1401,1402,1403,1404,1405,1406,1407,1408,1409,1410,1411,1412,1413,1414,1415,1416,1417,1418,1419,1420,1421,1422,1423,1424,1425,1426,1427,1428,1429,1430,1431,1432,1433,1434,1435,1436,1437,1438,1439,1440,1441,1442,1443,1444,1445,1446,1447,1448,1449,1450,1451,1452,1453,1454,1455,1456,1457,1458,1459,1460,1461,1462,1463,1464,1465,1466,1467,1468,1469,1470,1471,1472,1473,1474,1475,1476,1477,1478,1479,1480,1481,1482,1483,1484,1485,1486,1487,1488,1489,1490,1491,1492,1493,1494,1495,1496,1497,1498,1499,1500,1501,1502,1503,1504,1505,1506,1507,1508,1509,1510,1511,1512,1513,1514,1515,1516,1517,1518,1519,1520,1521,1522,1523,1524,1525,1526,1527,1528,1529,1530,1531,1532,1533,1534,1535,1536,1537,1538,1539,1540,1541,1542,1543,1544,1545,1546,1547,1548,1549,1550,1551,1552,1553,1554,1555,1556,1557,1558,1559,1560,1561,1562,1563,1564,1565,1566,1567,1568,1569,1570,1571,1572,1573,1574,1575,1576,1577,1578,1579,1580,1581,1582,1583,1584,1585,1586,1587,1588,1589,1590,1591,1592,1593,1594,1595,1596,1597,1598,1599,1600,1601,1602,1603,1604,1605,1606,1607,1608,1609,1610,1611,1612,1613,1614,1615,1616,1617,1618,1619,1620,1621,1622,1623,1624,1625,1626,1627,1628,1629,1630,1631,1632,1633,1634,1635,1636,1637,1638,1639,1640,1641,1642,1643,1644,1645,1646,1647,1648,1649,1650,1651,1652,1653,1654,1655,1656,1657,1658,1659,1660,1661,1662,1663,1664,1665,1666,1667,1668,1669,1670,1671,1672,1673,1674,1675,1676,1677,1678,1679,1680,1681,1682,1683,1684,1685,1686,1687,1688,1689,1690,1691,1692,1693,1694,1695,1696,1697,1698,1699,1700,1701,1702,1703,1704,1705,1706,1707,1708,1709,1710,1711,1712,1713,1714,1715,1716,1717,1718,1719,1720,1721,1722,1723,1724,1725,1726,1727,1728,1729,1730,1731,1732,1733,1734,1735,1736,1737,1738,1739,1740,1741,1742,1743,1744,1745,1746,1747,1748,1749,1750,1751,1752,1753,1754,1755,1756,1757,1758,1759,1760,1761,1762,1763,1764,1765,1766,1767,1768,1769,1770,1771,1772,1773,1774,1775,1776,1777,1778,1779,1780,1781,1782,1783,1784,1785,1786,1787,1788,1789,1790,1791,1792,1793,1794,1795,1796,1797,1798,1799,1800,1801,1802,1803,1804,1805,1806,1807,1808,1809,1810,1811,1812,1813,1814,1815,1816,1817,1818,1819,1820,1821,1822,1823,1824,1825,1826,1827,1828,1829,1830,1831,1832,1833,1834,1835,1836,1837,1838,1839,1840,1841,1842,1843,1844,1845,1846,1847,1848,1849,1850,1851,1852,1853,1854,1855,1856,1857,1858,1859,1860,1861,1862,1863,1864,1865,1866,1867,1868,1869,1870,1871,1872,1873,1874,1875,1876,1877,1878,1879,1880,1881,1882,1883,1884,1885,1886,1887,1888,1889,1890,1891,1892,1893,1894,1895,1896,1897,1898,1899,1900,1901,1902,1903,1904,1905,1906,1907,1908,1909,1910,1911,1912,1913,1914,1915,1916,1917,1918,1919,1920,1921,1922,1923,1924,1925,1926,1927,1928,1929,1930,1931,1932,1933,1934,1935,1936,1937,1938,1939,1940,1941,1942,1943,1944,1945,1946,1947,1948,1949,1950,1951,1952,1953,1954,1955,1956,1957,1958,1959,1960,1961,1962,1963,1964,1965,1966,1967,1968,1969,1970,1971,1972,1973,1974,1975,1976,1977,1978,1979,1980,1981,1982,1983,1984,1985,1986,1987,1988,1989,1990,1991,1992,1993,1994,1995,1996,1997,1998,1999,2000,2001,2002,2003,2004,2005,2006,2007,2008,2009,2010,2011,2012,2013,2014,2015,2016,2017,2018,2019,2020,2021,2022,2023,2024,2025,2026,2027,2028,2029,2030,2031,2032,2033,2034],\"xaxis\":\"x\",\"y\":[233.75,233.25,234.25,236.1,233.3,234.6,234.9,235.05,236.6,233.95,222.65,216.0,222.0,222.95,221.05,222.4,223.7,236.7,234.3,236.0,234.55,233.35,237.05,231.0,235.45,240.55,245.15,243.0,239.35,237.55,234.55,233.55,237.3,236.35,237.6,239.5,234.65,235.45,235.65,246.9,242.2,242.25,239.1,236.9,246.3,243.3,238.6,233.1,238.65,247.9,243.25,258.9,265.2,269.8,274.75,275.25,266.3,271.25,277.3,281.0,264.45,269.35,263.95,265.6,267.35,264.5,262.1,258.2,260.85,267.05,275.35,272.15,277.8,269.6,267.6,263.7,266.95,267.1,265.75,263.75,255.25,263.25,269.2,264.5,257.5,260.65,257.85,254.5,250.2,247.15,243.55,244.7,247.5,241.1,242.65,255.9,287.5,285.25,292.0,289.7,294.2,287.8,286.65,292.75,297.55,292.1,291.2,289.1,283.15,283.6,286.3,286.2,284.1,280.95,279.65,275.5,273.85,273.85,275.5,277.8,272.7,273.0,270.25,274.8,276.95,258.75,263.8,262.2,257.9,258.85,263.2,262.05,260.6,272.4,279.6,278.5,278.2,276.05,268.35,273.4,268.9,274.15,275.65,274.85,275.5,275.0,273.5,270.7,262.15,266.6,262.85,267.95,275.6,279.05,281.95,285.1,278.25,280.45,280.15,266.7,273.1,274.85,288.35,290.65,304.0,301.8,304.25,304.25,307.2,308.85,308.35,305.45,313.55,316.4,323.0,325.75,313.3,314.1,315.3,317.6,312.95,312.25,311.2,311.15,312.9,316.4,306.6,305.55,305.95,302.75,300.15,300.85,300.65,290.85,286.85,284.3,284.45,287.8,298.35,288.45,284.0,274.95,279.95,279.05,283.55,287.1,280.2,287.75,277.45,278.7,274.8,274.05,273.15,274.9,259.9,251.95,250.9,246.7,234.4,236.15,240.45,224.5,225.0,234.7,225.3,226.35,227.8,226.95,226.8,220.5,209.8,205.3,209.65,203.1,204.6,206.8,210.3,209.6,210.25,212.0,209.4,208.45,208.3,209.6,209.45,204.95,206.45,205.8,203.15,198.6,204.65,196.65,201.15,212.2,213.7,216.2,213.3,210.55,212.05,207.3,212.05,209.25,206.9,205.75,205.95,196.7,193.3,197.6,198.0,197.05,190.35,193.3,194.25,196.55,189.85,196.15,194.4,190.6,193.85,178.75,164.2,156.0,162.1,166.0,170.45,166.45,166.65,165.1,167.5,169.55,169.15,168.4,172.2,171.15,170.0,172.2,171.3,175.15,173.75,177.0,174.2,175.4,173.75,169.5,166.55,157.75,153.35,156.15,150.05,151.6,150.65,148.5,149.15,147.35,151.15,154.75,156.8,156.85,156.4,158.2,159.1,158.45,156.45,152.1,154.4,154.6,155.55,153.0,154.95,154.85,152.4,149.4,145.55,145.4,146.9,143.05,141.7,144.75,147.8,149.5,147.5,152.85,154.45,154.6,152.65,154.0,154.85,154.05,152.6,152.3,155.35,156.2,157.7,153.1,152.1,153.75,151.7,151.95,151.3,152.15,150.2,148.15,149.45,150.5,151.75,153.4,150.95,150.6,153.05,152.65,151.9,150.55,150.15,150.6,150.55,148.6,151.15,151.6,143.1,145.9,146.45,144.8,144.7,140.9,139.5,137.1,140.8,141.4,142.75,143.25,143.35,141.1,143.6,138.05,138.9,139.25,140.0,141.6,141.6,140.15,140.1,138.75,141.2,141.95,143.95,143.9,146.15,141.65,142.75,141.85,137.65,130.1,128.85,130.45,129.2,128.35,128.45,127.9,126.4,130.5,128.65,127.6,127.65,128.35,125.15,127.55,124.45,124.75,124.65,125.2,124.45,124.45,123.55,122.0,121.1,119.6,120.55,117.0,118.85,119.4,121.6,121.25,124.3,124.3,124.45,122.75,123.35,123.35,123.9,123.85,122.3,123.4,123.65,121.55,121.9,123.85,121.95,120.95,118.5,115.1,117.65,117.3,115.65,120.1,118.6,121.3,117.0,118.65,125.4,121.9,127.45,128.0,126.85,131.35,134.95,138.6,139.4,139.95,137.75,145.4,150.0,154.05,152.5,152.35,154.6,151.9,150.25,153.2,147.85,151.65,151.25,150.9,153.3,141.8,142.35,139.6,137.0,146.75,144.55,140.65,142.4,138.9,138.05,138.0,139.9,139.85,137.0,137.45,135.3,139.7,142.2,142.2,141.75,141.6,141.1,140.25,140.2,139.0,139.9,140.45,140.25,139.6,138.4,141.25,138.85,137.65,138.05,136.95,137.3,137.75,143.25,142.9,139.1,138.3,135.75,138.4,141.0,142.15,140.15,137.45,131.15,133.45,131.5,131.8,133.85,130.05,129.95,132.6,132.6,132.15,132.9,133.1,132.6,134.45,133.9,134.1,134.9,131.2,129.7,127.85,125.95,124.25,126.75,127.25,125.45,126.15,125.7,126.1,127.0,126.5,128.15,123.65,124.95,124.4,119.35,119.3,120.2,119.25,118.05,117.75,117.95,117.3,118.6,119.5,121.75,120.4,120.05,119.95,120.95,120.35,120.65,119.55,118.95,117.3,118.2,118.75,118.1,116.35,116.95,119.45,121.1,120.05,120.3,122.4,121.8,121.2,120.25,120.1,121.85,120.0,120.65,118.35,119.5,117.7,118.7,118.85,118.25,121.2,122.55,121.25,121.4,119.3,119.4,119.45,121.4,119.9,118.9,115.8,115.1,115.45,115.65,115.85,116.45,116.85,115.65,113.25,109.5,109.9,108.9,103.55,104.75,106.2,106.7,106.65,109.1,107.3,104.55,104.0,102.65,106.0,104.3,105.25,118.35,120.75,123.9,122.5,121.6,121.75,124.25,126.6,126.5,123.15,124.45,124.3,125.55,121.75,122.55,126.4,121.85,128.5,134.05,135.6,139.5,141.9,144.45,140.05,145.25,148.35,143.7,146.4,146.2,146.35,141.9,144.05,144.8,142.0,141.2,142.9,141.9,142.2,136.55,133.85,134.35,133.2,135.3,132.15,135.0,135.35,133.65,134.9,136.2,136.25,137.55,136.95,134.95,134.35,132.95,133.8,130.9,128.75,132.5,128.15,128.0,127.9,125.7,128.8,125.85,128.0,131.75,131.75,132.65,133.45,135.9,135.6,135.8,138.9,137.8,137.55,139.4,134.7,134.0,134.7,134.0,132.3,134.55,134.7,133.35,133.05,130.55,131.85,130.05,127.8,126.6,127.1,124.2,125.0,123.9,125.5,125.45,123.1,125.4,124.05,123.25,123.75,123.65,120.95,120.45,120.2,124.15,118.85,115.2,119.6,118.15,116.35,117.3,117.55,114.85,130.4,132.9,133.8,134.15,131.0,132.1,130.0,133.05,137.7,138.95,141.95,143.75,142.15,143.3,140.85,140.2,137.15,138.65,137.45,137.55,140.8,140.85,139.5,137.5,141.75,139.0,138.0,138.15,137.05,136.8,134.55,133.95,134.9,138.2,135.0,136.1,137.1,135.55,132.2,129.55,133.85,135.7,133.2,133.85,135.0,133.75,132.6,132.35,128.7,129.1,128.15,134.4,136.6,137.55,134.85,138.5,137.75,137.35,140.8,145.15,146.25,144.9,148.7,148.8,147.45,147.95,146.65,145.95,147.55,147.95,147.4,146.3,144.55,142.85,143.35,141.05,137.75,139.8,144.55,143.55,142.1,142.55,141.95,142.15,147.25,150.2,149.65,150.2,153.25,157.55,159.3,158.95,161.5,161.2,152.05,151.6,151.1,151.45,151.1,148.8,149.75,145.75,147.3,149.0,147.95,147.2,149.95,153.85,155.85,156.7,154.75,154.85,160.0,157.85,157.25,159.05,159.3,158.35,163.55,158.35,154.9,156.05,152.55,153.5,155.55,155.95,159.7,157.0,156.85,155.15,157.4,155.2,154.35,151.55,149.55,152.4,154.75,158.55,160.45,163.6,158.7,158.25,158.75,159.4,161.15,158.85,158.0,156.35,156.55,154.3,155.65,154.85,155.25,157.35,155.6,153.7,148.45,148.15,152.95,152.5,150.7,150.95,149.05,148.65,146.85,146.9,148.3,147.5,147.4,147.5,145.0,144.25,151.6,152.95,155.65,156.0,154.85,158.3,161.1,163.4,163.25,163.35,159.55,161.3,161.0,155.3,154.2,156.95,156.75,156.95,157.85,159.4,159.9,155.25,154.2,155.85,158.25,157.75,160.9,161.65,163.75,160.1,157.45,157.3,156.35,156.3,158.35,156.5,155.55,154.7,153.35,152.35,156.4,157.5,160.25,161.25,160.25,158.8,158.85,159.35,159.0,159.65,160.3,164.75,164.45,170.6,168.6,164.85,161.6,159.45,167.2,169.55,167.4,162.55,165.2,164.6,162.25,162.2,154.25,155.4,153.9,150.5,153.1,152.95,155.45,155.45,157.1,158.5,156.5,154.4,152.1,151.15,154.45,151.9,150.65,154.15,153.8,154.9,155.5,154.3,153.5,152.9,155.2,153.5,156.55,156.8,158.7,159.2,160.65,160.35,157.2,153.75,151.8,149.8,155.45,154.95,158.7,167.05,167.85,169.2,174.35,174.8,172.75,171.1,167.8,169.5,167.3,167.95,162.35,162.9,163.55,167.05,166.0,163.7,168.65,169.35,174.85,171.2,171.1,154.05,153.0,150.3,147.5,149.1,148.9,156.25,156.4,156.45,157.55,155.55,153.1,153.45,150.7,144.75,144.2,147.3,146.4,144.55,145.0,142.45,144.6,145.1,146.7,148.35,149.45,151.3,152.85,152.95,156.1,157.85,156.15,157.45,150.5,153.05,152.75,153.1,154.4,151.45,152.2,151.55,153.5,154.25,150.05,148.0,141.8,142.75,142.9,142.85,143.65,143.4,141.4,141.3,143.15,142.7,142.55,145.65,145.15,143.8,143.3,142.55,140.9,140.4,135.95,139.7,139.8,141.2,142.7,142.0,141.1,140.35,140.2,138.9,140.55,141.75,144.05,144.85,143.6,143.35,141.15,143.05,143.15,140.7,141.0,140.45,142.15,138.95,141.35,144.25,148.2,149.85,147.85,148.3,146.2,149.05,152.05,152.05,152.9,155.95,157.25,157.1,156.5,156.8,156.35,154.95,160.5,160.45,159.8,158.05,161.05,157.25,154.7,153.1,147.5,148.2,144.75,143.45,145.15,146.75,147.0,147.45,146.7,146.2,146.65,145.55,146.8,149.3,148.9,147.65,145.05,145.5,142.4,141.8,143.65,145.35,144.55,147.7,143.95,144.3,154.55,156.55,160.1,160.35,163.55,167.6,169.5,167.7,164.0,165.0,162.4,163.25,163.85,165.45,158.75,161.85,159.6,164.2,162.0,158.05,159.45,160.05,160.15,155.55,155.8,156.2,153.0,155.2,149.8,143.85,146.2,145.95,145.9,143.15,144.9,149.0,150.55,147.65,148.05,150.05,152.15,150.75,150.7,146.65,147.0,147.2,143.85,141.55,143.8,139.0,137.95,136.05,141.3,144.05,146.75,146.25,141.9,140.9,141.65,140.45,147.65,146.55,145.5,146.5,141.9,137.95,142.8,146.4,147.05,159.7,158.85,159.4,156.7,151.75,153.55,154.75,154.6,155.7,154.95,157.05,153.75,154.05,147.6,147.65,149.1,145.1,147.45,145.15,143.5,141.6,140.1,141.5,134.4,129.3,133.45,133.9,133.35,136.4,140.8,143.5,142.9,140.4,139.95,139.1,141.6,142.6,146.0,149.1,149.6,150.2,149.9,147.05,145.9,148.0,143.0,144.7,143.7,141.3,138.75,142.65,144.4,144.05,146.6,143.25,147.3,141.0,146.45,147.7,146.15,148.05,151.0,149.05,147.55,147.35,149.0,147.25,144.25,140.4,136.05,138.35,140.55,138.75,137.1,133.65,132.3,131.75,131.4,131.0,130.15,132.8,128.2,127.4,130.65,134.2,131.45,127.85,123.5,123.55,125.9,124.6,128.35,130.15,131.1,133.4,134.35,133.5,133.2,132.75,134.1,131.65,130.05,132.05,126.6,127.95,125.2,132.2,131.85,133.4,138.15,138.0,145.05,146.35,141.9,141.05,139.05,141.55,142.05,140.8,142.5,144.85,142.25,141.5,145.15,146.8,149.35,143.9,147.75,147.65,148.0,145.5,149.0,151.85,154.0,153.0,154.95,156.5,158.55,159.45,158.65,161.0,162.45,163.75,162.75,164.15,165.85,166.65,160.8,159.95,160.45,159.65,160.15,160.65,160.85,162.95,165.15,165.2,165.65,168.75,168.05,172.05,169.8,172.85,169.85,165.75,165.6,166.25,168.55,165.95,162.6,163.05,163.4,163.4,159.95,160.85,159.0,164.15,173.4,178.85,171.45,168.8,168.9,167.35,159.55,157.85,158.65,158.3,159.8,150.15,150.7,148.0,151.4,154.85,156.95,159.6,157.95,162.05,162.45,161.25,160.0,161.25,160.05,156.15,153.4,155.55,150.2,151.9,155.4,145.65,142.85,131.65,130.55,128.85,128.8,131.05,127.4,129.75,128.5,133.65,133.9,134.4,134.8,135.35,136.65,136.6,135.6,133.65,131.6,130.4,129.8,130.3,125.2,127.9,128.45,128.85,131.0,131.8,132.9,134.7,133.9,133.9,135.15,132.85,131.25,130.1,129.85,129.95,131.15,130.05,127.05,127.0,122.65,120.65,120.05,120.8,123.4,115.65,118.75,121.35,119.05,116.35,114.45,114.2,115.4,116.45,115.7,114.15,117.8,119.45,118.8,119.55,117.95,115.95,115.75,117.15,115.15,109.45,108.2,107.7,106.25,104.9,105.65,107.65,105.85,108.5,112.05,110.85,112.05,109.15,107.9,105.35,104.55,105.65,107.6,107.55,110.0,111.1,107.95,109.6,107.9,107.0,106.8,105.55,107.35,107.85,104.85,103.05,108.45,112.45,110.5,112.85,116.2,114.4,117.45,119.35,116.9,116.4,115.7,115.45,116.65,118.5,117.4,121.7,124.0,119.15,118.95,118.5,116.8,121.2,118.25,117.4,116.95,117.7,118.95,115.35,112.35,108.3,109.85,110.05,109.15,112.7,110.95,114.7,113.1,109.7,112.95,116.0,120.4,118.1,116.8,118.2,116.1,113.8,116.0,120.4,120.55,123.35,125.55,120.7,113.05,119.95,120.0,117.2,120.8,119.2,120.9,121.0,120.8,121.45,118.95,123.05,117.75,113.4,116.05,119.75,110.0,109.15,107.75,97.9,97.1,95.25,93.3,92.05,92.65,93.9,93.0,97.2,98.5,94.15,92.9,92.9,93.95,93.1,93.35,93.5,93.1,95.4,94.55,90.95,90.1,90.1,87.45,88.0,88.7,88.7,89.85,86.35,85.05,84.5,86.4,89.8,87.5,88.8,87.55,89.7,89.75,90.85,90.55,91.75,88.25,83.95,84.1,83.75,81.55,82.4,80.95,82.7,82.0,82.6,82.5,83.7,85.75,87.7,88.3,89.15,90.75,90.95,90.7,91.15,91.65,92.6,89.75,87.9,86.85,85.15,84.7,85.25,87.55,87.55,90.3,87.9,86.75,88.1,86.65,85.65,82.55,81.1,82.9,84.0,85.8,85.7,86.45,88.6,86.7,87.05,86.2,92.8,92.15,90.65,90.55,92.6,92.0,91.15,91.05,93.3,94.55,94.4,94.2,91.6,92.7,93.55,93.35,89.35,92.15,91.2,92.1,90.6,87.6,88.6,95.35,98.45,102.3,102.95,106.65,102.75,106.3,106.35,111.0,107.65,104.6,107.0,106.55,108.0,108.55,104.95,105.4,102.8,99.25,100.95,102.8,103.15,100.85,102.55,101.65,100.4,101.45,100.0,105.0,103.2,103.0,104.35,97.75,96.55,93.05,92.7,92.05,91.8,90.6,90.25,92.35,93.4,98.6,96.95,98.65,100.05,99.9,95.85,96.65,98.2,94.2,93.15,93.6,94.0,91.6,87.4,86.85,88.2,85.75,88.2,92.15,95.45,97.3,96.2,96.4,96.35,97.25,99.15,97.95,100.75,99.8,97.7,97.55,96.35,97.9,99.45,100.0,100.75,102.6,103.95,104.45,102.15,103.05,101.8,101.45,100.4,103.25,103.3,102.5,104.65,108.9,106.65,105.4,101.85,100.65,97.75,97.05,96.0,98.5,98.15,99.25,97.65,97.9,98.25,97.6,97.3,99.1,98.5,102.1,101.3,96.4,96.35,93.6,88.75,90.75,90.4,91.0,89.25,88.6,87.4,95.3,96.4,96.15,94.5,101.65,94.45,95.75,94.6,91.7,88.1,87.85,92.5,95.75,95.3,96.05,97.35,98.3,99.45,99.8,106.35,106.2,106.25,105.65,106.5,104.95,104.75,104.9,104.4,103.25,103.75,101.9,104.25,108.3,111.0,112.3,113.1,111.5,108.1,107.25,109.4,109.55,109.75,112.5,112.4,113.6,115.8,115.45,115.15,114.8,114.1,112.8,110.95,111.5,114.85,115.25,114.95,114.1,115.25,114.75,112.95,112.95,112.45,109.95,116.8,117.2,119.9,120.1,119.6,121.2,124.75,124.85,128.1,131.9,127.4,125.15,125.6,124.3,124.55,125.15,124.55,124.65,128.95,127.25,127.35,128.45,128.55,130.4,129.35,129.75,129.6,129.85,133.05,133.75,131.0,134.25,132.6,133.4,129.3,127.0,124.65,123.5,120.2,121.5,122.85,123.6,125.1,123.55,120.8,122.5,124.55,122.65,122.15,123.25,123.9,125.95,127.8,127.25,127.7,123.15,122.15,122.4,123.0,120.5,117.6,117.75,118.15,117.0,116.45,116.7,111.5,113.05,108.85,110.1,111.25,114.15,112.55,113.9,112.3,112.85,112.1,114.05,116.5,118.3,117.3,116.05,116.6,118.25,118.65,117.6,120.65,120.9,121.55],\"yaxis\":\"y\",\"type\":\"scattergl\"}],                        {\"template\":{\"data\":{\"histogram2dcontour\":[{\"type\":\"histogram2dcontour\",\"colorbar\":{\"outlinewidth\":0,\"ticks\":\"\"},\"colorscale\":[[0.0,\"#0d0887\"],[0.1111111111111111,\"#46039f\"],[0.2222222222222222,\"#7201a8\"],[0.3333333333333333,\"#9c179e\"],[0.4444444444444444,\"#bd3786\"],[0.5555555555555556,\"#d8576b\"],[0.6666666666666666,\"#ed7953\"],[0.7777777777777778,\"#fb9f3a\"],[0.8888888888888888,\"#fdca26\"],[1.0,\"#f0f921\"]]}],\"choropleth\":[{\"type\":\"choropleth\",\"colorbar\":{\"outlinewidth\":0,\"ticks\":\"\"}}],\"histogram2d\":[{\"type\":\"histogram2d\",\"colorbar\":{\"outlinewidth\":0,\"ticks\":\"\"},\"colorscale\":[[0.0,\"#0d0887\"],[0.1111111111111111,\"#46039f\"],[0.2222222222222222,\"#7201a8\"],[0.3333333333333333,\"#9c179e\"],[0.4444444444444444,\"#bd3786\"],[0.5555555555555556,\"#d8576b\"],[0.6666666666666666,\"#ed7953\"],[0.7777777777777778,\"#fb9f3a\"],[0.8888888888888888,\"#fdca26\"],[1.0,\"#f0f921\"]]}],\"heatmap\":[{\"type\":\"heatmap\",\"colorbar\":{\"outlinewidth\":0,\"ticks\":\"\"},\"colorscale\":[[0.0,\"#0d0887\"],[0.1111111111111111,\"#46039f\"],[0.2222222222222222,\"#7201a8\"],[0.3333333333333333,\"#9c179e\"],[0.4444444444444444,\"#bd3786\"],[0.5555555555555556,\"#d8576b\"],[0.6666666666666666,\"#ed7953\"],[0.7777777777777778,\"#fb9f3a\"],[0.8888888888888888,\"#fdca26\"],[1.0,\"#f0f921\"]]}],\"heatmapgl\":[{\"type\":\"heatmapgl\",\"colorbar\":{\"outlinewidth\":0,\"ticks\":\"\"},\"colorscale\":[[0.0,\"#0d0887\"],[0.1111111111111111,\"#46039f\"],[0.2222222222222222,\"#7201a8\"],[0.3333333333333333,\"#9c179e\"],[0.4444444444444444,\"#bd3786\"],[0.5555555555555556,\"#d8576b\"],[0.6666666666666666,\"#ed7953\"],[0.7777777777777778,\"#fb9f3a\"],[0.8888888888888888,\"#fdca26\"],[1.0,\"#f0f921\"]]}],\"contourcarpet\":[{\"type\":\"contourcarpet\",\"colorbar\":{\"outlinewidth\":0,\"ticks\":\"\"}}],\"contour\":[{\"type\":\"contour\",\"colorbar\":{\"outlinewidth\":0,\"ticks\":\"\"},\"colorscale\":[[0.0,\"#0d0887\"],[0.1111111111111111,\"#46039f\"],[0.2222222222222222,\"#7201a8\"],[0.3333333333333333,\"#9c179e\"],[0.4444444444444444,\"#bd3786\"],[0.5555555555555556,\"#d8576b\"],[0.6666666666666666,\"#ed7953\"],[0.7777777777777778,\"#fb9f3a\"],[0.8888888888888888,\"#fdca26\"],[1.0,\"#f0f921\"]]}],\"surface\":[{\"type\":\"surface\",\"colorbar\":{\"outlinewidth\":0,\"ticks\":\"\"},\"colorscale\":[[0.0,\"#0d0887\"],[0.1111111111111111,\"#46039f\"],[0.2222222222222222,\"#7201a8\"],[0.3333333333333333,\"#9c179e\"],[0.4444444444444444,\"#bd3786\"],[0.5555555555555556,\"#d8576b\"],[0.6666666666666666,\"#ed7953\"],[0.7777777777777778,\"#fb9f3a\"],[0.8888888888888888,\"#fdca26\"],[1.0,\"#f0f921\"]]}],\"mesh3d\":[{\"type\":\"mesh3d\",\"colorbar\":{\"outlinewidth\":0,\"ticks\":\"\"}}],\"scatter\":[{\"fillpattern\":{\"fillmode\":\"overlay\",\"size\":10,\"solidity\":0.2},\"type\":\"scatter\"}],\"parcoords\":[{\"type\":\"parcoords\",\"line\":{\"colorbar\":{\"outlinewidth\":0,\"ticks\":\"\"}}}],\"scatterpolargl\":[{\"type\":\"scatterpolargl\",\"marker\":{\"colorbar\":{\"outlinewidth\":0,\"ticks\":\"\"}}}],\"bar\":[{\"error_x\":{\"color\":\"#2a3f5f\"},\"error_y\":{\"color\":\"#2a3f5f\"},\"marker\":{\"line\":{\"color\":\"#E5ECF6\",\"width\":0.5},\"pattern\":{\"fillmode\":\"overlay\",\"size\":10,\"solidity\":0.2}},\"type\":\"bar\"}],\"scattergeo\":[{\"type\":\"scattergeo\",\"marker\":{\"colorbar\":{\"outlinewidth\":0,\"ticks\":\"\"}}}],\"scatterpolar\":[{\"type\":\"scatterpolar\",\"marker\":{\"colorbar\":{\"outlinewidth\":0,\"ticks\":\"\"}}}],\"histogram\":[{\"marker\":{\"pattern\":{\"fillmode\":\"overlay\",\"size\":10,\"solidity\":0.2}},\"type\":\"histogram\"}],\"scattergl\":[{\"type\":\"scattergl\",\"marker\":{\"colorbar\":{\"outlinewidth\":0,\"ticks\":\"\"}}}],\"scatter3d\":[{\"type\":\"scatter3d\",\"line\":{\"colorbar\":{\"outlinewidth\":0,\"ticks\":\"\"}},\"marker\":{\"colorbar\":{\"outlinewidth\":0,\"ticks\":\"\"}}}],\"scattermapbox\":[{\"type\":\"scattermapbox\",\"marker\":{\"colorbar\":{\"outlinewidth\":0,\"ticks\":\"\"}}}],\"scatterternary\":[{\"type\":\"scatterternary\",\"marker\":{\"colorbar\":{\"outlinewidth\":0,\"ticks\":\"\"}}}],\"scattercarpet\":[{\"type\":\"scattercarpet\",\"marker\":{\"colorbar\":{\"outlinewidth\":0,\"ticks\":\"\"}}}],\"carpet\":[{\"aaxis\":{\"endlinecolor\":\"#2a3f5f\",\"gridcolor\":\"white\",\"linecolor\":\"white\",\"minorgridcolor\":\"white\",\"startlinecolor\":\"#2a3f5f\"},\"baxis\":{\"endlinecolor\":\"#2a3f5f\",\"gridcolor\":\"white\",\"linecolor\":\"white\",\"minorgridcolor\":\"white\",\"startlinecolor\":\"#2a3f5f\"},\"type\":\"carpet\"}],\"table\":[{\"cells\":{\"fill\":{\"color\":\"#EBF0F8\"},\"line\":{\"color\":\"white\"}},\"header\":{\"fill\":{\"color\":\"#C8D4E3\"},\"line\":{\"color\":\"white\"}},\"type\":\"table\"}],\"barpolar\":[{\"marker\":{\"line\":{\"color\":\"#E5ECF6\",\"width\":0.5},\"pattern\":{\"fillmode\":\"overlay\",\"size\":10,\"solidity\":0.2}},\"type\":\"barpolar\"}],\"pie\":[{\"automargin\":true,\"type\":\"pie\"}]},\"layout\":{\"autotypenumbers\":\"strict\",\"colorway\":[\"#636efa\",\"#EF553B\",\"#00cc96\",\"#ab63fa\",\"#FFA15A\",\"#19d3f3\",\"#FF6692\",\"#B6E880\",\"#FF97FF\",\"#FECB52\"],\"font\":{\"color\":\"#2a3f5f\"},\"hovermode\":\"closest\",\"hoverlabel\":{\"align\":\"left\"},\"paper_bgcolor\":\"white\",\"plot_bgcolor\":\"#E5ECF6\",\"polar\":{\"bgcolor\":\"#E5ECF6\",\"angularaxis\":{\"gridcolor\":\"white\",\"linecolor\":\"white\",\"ticks\":\"\"},\"radialaxis\":{\"gridcolor\":\"white\",\"linecolor\":\"white\",\"ticks\":\"\"}},\"ternary\":{\"bgcolor\":\"#E5ECF6\",\"aaxis\":{\"gridcolor\":\"white\",\"linecolor\":\"white\",\"ticks\":\"\"},\"baxis\":{\"gridcolor\":\"white\",\"linecolor\":\"white\",\"ticks\":\"\"},\"caxis\":{\"gridcolor\":\"white\",\"linecolor\":\"white\",\"ticks\":\"\"}},\"coloraxis\":{\"colorbar\":{\"outlinewidth\":0,\"ticks\":\"\"}},\"colorscale\":{\"sequential\":[[0.0,\"#0d0887\"],[0.1111111111111111,\"#46039f\"],[0.2222222222222222,\"#7201a8\"],[0.3333333333333333,\"#9c179e\"],[0.4444444444444444,\"#bd3786\"],[0.5555555555555556,\"#d8576b\"],[0.6666666666666666,\"#ed7953\"],[0.7777777777777778,\"#fb9f3a\"],[0.8888888888888888,\"#fdca26\"],[1.0,\"#f0f921\"]],\"sequentialminus\":[[0.0,\"#0d0887\"],[0.1111111111111111,\"#46039f\"],[0.2222222222222222,\"#7201a8\"],[0.3333333333333333,\"#9c179e\"],[0.4444444444444444,\"#bd3786\"],[0.5555555555555556,\"#d8576b\"],[0.6666666666666666,\"#ed7953\"],[0.7777777777777778,\"#fb9f3a\"],[0.8888888888888888,\"#fdca26\"],[1.0,\"#f0f921\"]],\"diverging\":[[0,\"#8e0152\"],[0.1,\"#c51b7d\"],[0.2,\"#de77ae\"],[0.3,\"#f1b6da\"],[0.4,\"#fde0ef\"],[0.5,\"#f7f7f7\"],[0.6,\"#e6f5d0\"],[0.7,\"#b8e186\"],[0.8,\"#7fbc41\"],[0.9,\"#4d9221\"],[1,\"#276419\"]]},\"xaxis\":{\"gridcolor\":\"white\",\"linecolor\":\"white\",\"ticks\":\"\",\"title\":{\"standoff\":15},\"zerolinecolor\":\"white\",\"automargin\":true,\"zerolinewidth\":2},\"yaxis\":{\"gridcolor\":\"white\",\"linecolor\":\"white\",\"ticks\":\"\",\"title\":{\"standoff\":15},\"zerolinecolor\":\"white\",\"automargin\":true,\"zerolinewidth\":2},\"scene\":{\"xaxis\":{\"backgroundcolor\":\"#E5ECF6\",\"gridcolor\":\"white\",\"linecolor\":\"white\",\"showbackground\":true,\"ticks\":\"\",\"zerolinecolor\":\"white\",\"gridwidth\":2},\"yaxis\":{\"backgroundcolor\":\"#E5ECF6\",\"gridcolor\":\"white\",\"linecolor\":\"white\",\"showbackground\":true,\"ticks\":\"\",\"zerolinecolor\":\"white\",\"gridwidth\":2},\"zaxis\":{\"backgroundcolor\":\"#E5ECF6\",\"gridcolor\":\"white\",\"linecolor\":\"white\",\"showbackground\":true,\"ticks\":\"\",\"zerolinecolor\":\"white\",\"gridwidth\":2}},\"shapedefaults\":{\"line\":{\"color\":\"#2a3f5f\"}},\"annotationdefaults\":{\"arrowcolor\":\"#2a3f5f\",\"arrowhead\":0,\"arrowwidth\":1},\"geo\":{\"bgcolor\":\"white\",\"landcolor\":\"#E5ECF6\",\"subunitcolor\":\"white\",\"showland\":true,\"showlakes\":true,\"lakecolor\":\"white\"},\"title\":{\"x\":0.05},\"mapbox\":{\"style\":\"light\"}}},\"xaxis\":{\"anchor\":\"y\",\"domain\":[0.0,1.0],\"title\":{\"text\":\"index\"}},\"yaxis\":{\"anchor\":\"x\",\"domain\":[0.0,1.0],\"title\":{\"text\":\"Close\"}},\"legend\":{\"tracegroupgap\":0},\"title\":{\"text\":\"Stock Closing Price Over Time\"}},                        {\"responsive\": true}                    ).then(function(){\n",
       "                            \n",
       "var gd = document.getElementById('5f9459b3-c2f7-4dcb-b37a-391847817161');\n",
       "var x = new MutationObserver(function (mutations, observer) {{\n",
       "        var display = window.getComputedStyle(gd).display;\n",
       "        if (!display || display === 'none') {{\n",
       "            console.log([gd, 'removed!']);\n",
       "            Plotly.purge(gd);\n",
       "            observer.disconnect();\n",
       "        }}\n",
       "}});\n",
       "\n",
       "// Listen for the removal of the full notebook cells\n",
       "var notebookContainer = gd.closest('#notebook-container');\n",
       "if (notebookContainer) {{\n",
       "    x.observe(notebookContainer, {childList: true});\n",
       "}}\n",
       "\n",
       "// Listen for the clearing of the current output cell\n",
       "var outputEl = gd.closest('.output');\n",
       "if (outputEl) {{\n",
       "    x.observe(outputEl, {childList: true});\n",
       "}}\n",
       "\n",
       "                        })                };                });            </script>        </div>"
      ]
     },
     "metadata": {},
     "output_type": "display_data"
    }
   ],
   "source": [
    "fig = px.line(df, x=df.index, y='Close', title='Stock Closing Price Over Time')\n",
    "fig.show()"
   ]
  },
  {
   "cell_type": "code",
   "execution_count": 13,
   "id": "a52636d9",
   "metadata": {
    "execution": {
     "iopub.execute_input": "2024-09-24T18:01:10.323096Z",
     "iopub.status.busy": "2024-09-24T18:01:10.322628Z",
     "iopub.status.idle": "2024-09-24T18:01:10.364878Z",
     "shell.execute_reply": "2024-09-24T18:01:10.363664Z"
    },
    "id": "ASPm21MQ4FZe",
    "outputId": "fb76f6a5-55a0-498b-8eb4-801193228b3f",
    "papermill": {
     "duration": 0.059134,
     "end_time": "2024-09-24T18:01:10.367895",
     "exception": false,
     "start_time": "2024-09-24T18:01:10.308761",
     "status": "completed"
    },
    "tags": []
   },
   "outputs": [
    {
     "data": {
      "text/html": [
       "<div>                            <div id=\"ab7211be-7fbd-42ee-8ba4-bd1cd40148fd\" class=\"plotly-graph-div\" style=\"height:525px; width:100%;\"></div>            <script type=\"text/javascript\">                require([\"plotly\"], function(Plotly) {                    window.PLOTLYENV=window.PLOTLYENV || {};                                    if (document.getElementById(\"ab7211be-7fbd-42ee-8ba4-bd1cd40148fd\")) {                    Plotly.newPlot(                        \"ab7211be-7fbd-42ee-8ba4-bd1cd40148fd\",                        [{\"close\":[233.75,233.25,234.25,236.1,233.3,234.6,234.9,235.05,236.6,233.95,222.65,216.0,222.0,222.95,221.05,222.4,223.7,236.7,234.3,236.0,234.55,233.35,237.05,231.0,235.45,240.55,245.15,243.0,239.35,237.55,234.55,233.55,237.3,236.35,237.6,239.5,234.65,235.45,235.65,246.9,242.2,242.25,239.1,236.9,246.3,243.3,238.6,233.1,238.65,247.9,243.25,258.9,265.2,269.8,274.75,275.25,266.3,271.25,277.3,281.0,264.45,269.35,263.95,265.6,267.35,264.5,262.1,258.2,260.85,267.05,275.35,272.15,277.8,269.6,267.6,263.7,266.95,267.1,265.75,263.75,255.25,263.25,269.2,264.5,257.5,260.65,257.85,254.5,250.2,247.15,243.55,244.7,247.5,241.1,242.65,255.9,287.5,285.25,292.0,289.7,294.2,287.8,286.65,292.75,297.55,292.1,291.2,289.1,283.15,283.6,286.3,286.2,284.1,280.95,279.65,275.5,273.85,273.85,275.5,277.8,272.7,273.0,270.25,274.8,276.95,258.75,263.8,262.2,257.9,258.85,263.2,262.05,260.6,272.4,279.6,278.5,278.2,276.05,268.35,273.4,268.9,274.15,275.65,274.85,275.5,275.0,273.5,270.7,262.15,266.6,262.85,267.95,275.6,279.05,281.95,285.1,278.25,280.45,280.15,266.7,273.1,274.85,288.35,290.65,304.0,301.8,304.25,304.25,307.2,308.85,308.35,305.45,313.55,316.4,323.0,325.75,313.3,314.1,315.3,317.6,312.95,312.25,311.2,311.15,312.9,316.4,306.6,305.55,305.95,302.75,300.15,300.85,300.65,290.85,286.85,284.3,284.45,287.8,298.35,288.45,284.0,274.95,279.95,279.05,283.55,287.1,280.2,287.75,277.45,278.7,274.8,274.05,273.15,274.9,259.9,251.95,250.9,246.7,234.4,236.15,240.45,224.5,225.0,234.7,225.3,226.35,227.8,226.95,226.8,220.5,209.8,205.3,209.65,203.1,204.6,206.8,210.3,209.6,210.25,212.0,209.4,208.45,208.3,209.6,209.45,204.95,206.45,205.8,203.15,198.6,204.65,196.65,201.15,212.2,213.7,216.2,213.3,210.55,212.05,207.3,212.05,209.25,206.9,205.75,205.95,196.7,193.3,197.6,198.0,197.05,190.35,193.3,194.25,196.55,189.85,196.15,194.4,190.6,193.85,178.75,164.2,156.0,162.1,166.0,170.45,166.45,166.65,165.1,167.5,169.55,169.15,168.4,172.2,171.15,170.0,172.2,171.3,175.15,173.75,177.0,174.2,175.4,173.75,169.5,166.55,157.75,153.35,156.15,150.05,151.6,150.65,148.5,149.15,147.35,151.15,154.75,156.8,156.85,156.4,158.2,159.1,158.45,156.45,152.1,154.4,154.6,155.55,153.0,154.95,154.85,152.4,149.4,145.55,145.4,146.9,143.05,141.7,144.75,147.8,149.5,147.5,152.85,154.45,154.6,152.65,154.0,154.85,154.05,152.6,152.3,155.35,156.2,157.7,153.1,152.1,153.75,151.7,151.95,151.3,152.15,150.2,148.15,149.45,150.5,151.75,153.4,150.95,150.6,153.05,152.65,151.9,150.55,150.15,150.6,150.55,148.6,151.15,151.6,143.1,145.9,146.45,144.8,144.7,140.9,139.5,137.1,140.8,141.4,142.75,143.25,143.35,141.1,143.6,138.05,138.9,139.25,140.0,141.6,141.6,140.15,140.1,138.75,141.2,141.95,143.95,143.9,146.15,141.65,142.75,141.85,137.65,130.1,128.85,130.45,129.2,128.35,128.45,127.9,126.4,130.5,128.65,127.6,127.65,128.35,125.15,127.55,124.45,124.75,124.65,125.2,124.45,124.45,123.55,122.0,121.1,119.6,120.55,117.0,118.85,119.4,121.6,121.25,124.3,124.3,124.45,122.75,123.35,123.35,123.9,123.85,122.3,123.4,123.65,121.55,121.9,123.85,121.95,120.95,118.5,115.1,117.65,117.3,115.65,120.1,118.6,121.3,117.0,118.65,125.4,121.9,127.45,128.0,126.85,131.35,134.95,138.6,139.4,139.95,137.75,145.4,150.0,154.05,152.5,152.35,154.6,151.9,150.25,153.2,147.85,151.65,151.25,150.9,153.3,141.8,142.35,139.6,137.0,146.75,144.55,140.65,142.4,138.9,138.05,138.0,139.9,139.85,137.0,137.45,135.3,139.7,142.2,142.2,141.75,141.6,141.1,140.25,140.2,139.0,139.9,140.45,140.25,139.6,138.4,141.25,138.85,137.65,138.05,136.95,137.3,137.75,143.25,142.9,139.1,138.3,135.75,138.4,141.0,142.15,140.15,137.45,131.15,133.45,131.5,131.8,133.85,130.05,129.95,132.6,132.6,132.15,132.9,133.1,132.6,134.45,133.9,134.1,134.9,131.2,129.7,127.85,125.95,124.25,126.75,127.25,125.45,126.15,125.7,126.1,127.0,126.5,128.15,123.65,124.95,124.4,119.35,119.3,120.2,119.25,118.05,117.75,117.95,117.3,118.6,119.5,121.75,120.4,120.05,119.95,120.95,120.35,120.65,119.55,118.95,117.3,118.2,118.75,118.1,116.35,116.95,119.45,121.1,120.05,120.3,122.4,121.8,121.2,120.25,120.1,121.85,120.0,120.65,118.35,119.5,117.7,118.7,118.85,118.25,121.2,122.55,121.25,121.4,119.3,119.4,119.45,121.4,119.9,118.9,115.8,115.1,115.45,115.65,115.85,116.45,116.85,115.65,113.25,109.5,109.9,108.9,103.55,104.75,106.2,106.7,106.65,109.1,107.3,104.55,104.0,102.65,106.0,104.3,105.25,118.35,120.75,123.9,122.5,121.6,121.75,124.25,126.6,126.5,123.15,124.45,124.3,125.55,121.75,122.55,126.4,121.85,128.5,134.05,135.6,139.5,141.9,144.45,140.05,145.25,148.35,143.7,146.4,146.2,146.35,141.9,144.05,144.8,142.0,141.2,142.9,141.9,142.2,136.55,133.85,134.35,133.2,135.3,132.15,135.0,135.35,133.65,134.9,136.2,136.25,137.55,136.95,134.95,134.35,132.95,133.8,130.9,128.75,132.5,128.15,128.0,127.9,125.7,128.8,125.85,128.0,131.75,131.75,132.65,133.45,135.9,135.6,135.8,138.9,137.8,137.55,139.4,134.7,134.0,134.7,134.0,132.3,134.55,134.7,133.35,133.05,130.55,131.85,130.05,127.8,126.6,127.1,124.2,125.0,123.9,125.5,125.45,123.1,125.4,124.05,123.25,123.75,123.65,120.95,120.45,120.2,124.15,118.85,115.2,119.6,118.15,116.35,117.3,117.55,114.85,130.4,132.9,133.8,134.15,131.0,132.1,130.0,133.05,137.7,138.95,141.95,143.75,142.15,143.3,140.85,140.2,137.15,138.65,137.45,137.55,140.8,140.85,139.5,137.5,141.75,139.0,138.0,138.15,137.05,136.8,134.55,133.95,134.9,138.2,135.0,136.1,137.1,135.55,132.2,129.55,133.85,135.7,133.2,133.85,135.0,133.75,132.6,132.35,128.7,129.1,128.15,134.4,136.6,137.55,134.85,138.5,137.75,137.35,140.8,145.15,146.25,144.9,148.7,148.8,147.45,147.95,146.65,145.95,147.55,147.95,147.4,146.3,144.55,142.85,143.35,141.05,137.75,139.8,144.55,143.55,142.1,142.55,141.95,142.15,147.25,150.2,149.65,150.2,153.25,157.55,159.3,158.95,161.5,161.2,152.05,151.6,151.1,151.45,151.1,148.8,149.75,145.75,147.3,149.0,147.95,147.2,149.95,153.85,155.85,156.7,154.75,154.85,160.0,157.85,157.25,159.05,159.3,158.35,163.55,158.35,154.9,156.05,152.55,153.5,155.55,155.95,159.7,157.0,156.85,155.15,157.4,155.2,154.35,151.55,149.55,152.4,154.75,158.55,160.45,163.6,158.7,158.25,158.75,159.4,161.15,158.85,158.0,156.35,156.55,154.3,155.65,154.85,155.25,157.35,155.6,153.7,148.45,148.15,152.95,152.5,150.7,150.95,149.05,148.65,146.85,146.9,148.3,147.5,147.4,147.5,145.0,144.25,151.6,152.95,155.65,156.0,154.85,158.3,161.1,163.4,163.25,163.35,159.55,161.3,161.0,155.3,154.2,156.95,156.75,156.95,157.85,159.4,159.9,155.25,154.2,155.85,158.25,157.75,160.9,161.65,163.75,160.1,157.45,157.3,156.35,156.3,158.35,156.5,155.55,154.7,153.35,152.35,156.4,157.5,160.25,161.25,160.25,158.8,158.85,159.35,159.0,159.65,160.3,164.75,164.45,170.6,168.6,164.85,161.6,159.45,167.2,169.55,167.4,162.55,165.2,164.6,162.25,162.2,154.25,155.4,153.9,150.5,153.1,152.95,155.45,155.45,157.1,158.5,156.5,154.4,152.1,151.15,154.45,151.9,150.65,154.15,153.8,154.9,155.5,154.3,153.5,152.9,155.2,153.5,156.55,156.8,158.7,159.2,160.65,160.35,157.2,153.75,151.8,149.8,155.45,154.95,158.7,167.05,167.85,169.2,174.35,174.8,172.75,171.1,167.8,169.5,167.3,167.95,162.35,162.9,163.55,167.05,166.0,163.7,168.65,169.35,174.85,171.2,171.1,154.05,153.0,150.3,147.5,149.1,148.9,156.25,156.4,156.45,157.55,155.55,153.1,153.45,150.7,144.75,144.2,147.3,146.4,144.55,145.0,142.45,144.6,145.1,146.7,148.35,149.45,151.3,152.85,152.95,156.1,157.85,156.15,157.45,150.5,153.05,152.75,153.1,154.4,151.45,152.2,151.55,153.5,154.25,150.05,148.0,141.8,142.75,142.9,142.85,143.65,143.4,141.4,141.3,143.15,142.7,142.55,145.65,145.15,143.8,143.3,142.55,140.9,140.4,135.95,139.7,139.8,141.2,142.7,142.0,141.1,140.35,140.2,138.9,140.55,141.75,144.05,144.85,143.6,143.35,141.15,143.05,143.15,140.7,141.0,140.45,142.15,138.95,141.35,144.25,148.2,149.85,147.85,148.3,146.2,149.05,152.05,152.05,152.9,155.95,157.25,157.1,156.5,156.8,156.35,154.95,160.5,160.45,159.8,158.05,161.05,157.25,154.7,153.1,147.5,148.2,144.75,143.45,145.15,146.75,147.0,147.45,146.7,146.2,146.65,145.55,146.8,149.3,148.9,147.65,145.05,145.5,142.4,141.8,143.65,145.35,144.55,147.7,143.95,144.3,154.55,156.55,160.1,160.35,163.55,167.6,169.5,167.7,164.0,165.0,162.4,163.25,163.85,165.45,158.75,161.85,159.6,164.2,162.0,158.05,159.45,160.05,160.15,155.55,155.8,156.2,153.0,155.2,149.8,143.85,146.2,145.95,145.9,143.15,144.9,149.0,150.55,147.65,148.05,150.05,152.15,150.75,150.7,146.65,147.0,147.2,143.85,141.55,143.8,139.0,137.95,136.05,141.3,144.05,146.75,146.25,141.9,140.9,141.65,140.45,147.65,146.55,145.5,146.5,141.9,137.95,142.8,146.4,147.05,159.7,158.85,159.4,156.7,151.75,153.55,154.75,154.6,155.7,154.95,157.05,153.75,154.05,147.6,147.65,149.1,145.1,147.45,145.15,143.5,141.6,140.1,141.5,134.4,129.3,133.45,133.9,133.35,136.4,140.8,143.5,142.9,140.4,139.95,139.1,141.6,142.6,146.0,149.1,149.6,150.2,149.9,147.05,145.9,148.0,143.0,144.7,143.7,141.3,138.75,142.65,144.4,144.05,146.6,143.25,147.3,141.0,146.45,147.7,146.15,148.05,151.0,149.05,147.55,147.35,149.0,147.25,144.25,140.4,136.05,138.35,140.55,138.75,137.1,133.65,132.3,131.75,131.4,131.0,130.15,132.8,128.2,127.4,130.65,134.2,131.45,127.85,123.5,123.55,125.9,124.6,128.35,130.15,131.1,133.4,134.35,133.5,133.2,132.75,134.1,131.65,130.05,132.05,126.6,127.95,125.2,132.2,131.85,133.4,138.15,138.0,145.05,146.35,141.9,141.05,139.05,141.55,142.05,140.8,142.5,144.85,142.25,141.5,145.15,146.8,149.35,143.9,147.75,147.65,148.0,145.5,149.0,151.85,154.0,153.0,154.95,156.5,158.55,159.45,158.65,161.0,162.45,163.75,162.75,164.15,165.85,166.65,160.8,159.95,160.45,159.65,160.15,160.65,160.85,162.95,165.15,165.2,165.65,168.75,168.05,172.05,169.8,172.85,169.85,165.75,165.6,166.25,168.55,165.95,162.6,163.05,163.4,163.4,159.95,160.85,159.0,164.15,173.4,178.85,171.45,168.8,168.9,167.35,159.55,157.85,158.65,158.3,159.8,150.15,150.7,148.0,151.4,154.85,156.95,159.6,157.95,162.05,162.45,161.25,160.0,161.25,160.05,156.15,153.4,155.55,150.2,151.9,155.4,145.65,142.85,131.65,130.55,128.85,128.8,131.05,127.4,129.75,128.5,133.65,133.9,134.4,134.8,135.35,136.65,136.6,135.6,133.65,131.6,130.4,129.8,130.3,125.2,127.9,128.45,128.85,131.0,131.8,132.9,134.7,133.9,133.9,135.15,132.85,131.25,130.1,129.85,129.95,131.15,130.05,127.05,127.0,122.65,120.65,120.05,120.8,123.4,115.65,118.75,121.35,119.05,116.35,114.45,114.2,115.4,116.45,115.7,114.15,117.8,119.45,118.8,119.55,117.95,115.95,115.75,117.15,115.15,109.45,108.2,107.7,106.25,104.9,105.65,107.65,105.85,108.5,112.05,110.85,112.05,109.15,107.9,105.35,104.55,105.65,107.6,107.55,110.0,111.1,107.95,109.6,107.9,107.0,106.8,105.55,107.35,107.85,104.85,103.05,108.45,112.45,110.5,112.85,116.2,114.4,117.45,119.35,116.9,116.4,115.7,115.45,116.65,118.5,117.4,121.7,124.0,119.15,118.95,118.5,116.8,121.2,118.25,117.4,116.95,117.7,118.95,115.35,112.35,108.3,109.85,110.05,109.15,112.7,110.95,114.7,113.1,109.7,112.95,116.0,120.4,118.1,116.8,118.2,116.1,113.8,116.0,120.4,120.55,123.35,125.55,120.7,113.05,119.95,120.0,117.2,120.8,119.2,120.9,121.0,120.8,121.45,118.95,123.05,117.75,113.4,116.05,119.75,110.0,109.15,107.75,97.9,97.1,95.25,93.3,92.05,92.65,93.9,93.0,97.2,98.5,94.15,92.9,92.9,93.95,93.1,93.35,93.5,93.1,95.4,94.55,90.95,90.1,90.1,87.45,88.0,88.7,88.7,89.85,86.35,85.05,84.5,86.4,89.8,87.5,88.8,87.55,89.7,89.75,90.85,90.55,91.75,88.25,83.95,84.1,83.75,81.55,82.4,80.95,82.7,82.0,82.6,82.5,83.7,85.75,87.7,88.3,89.15,90.75,90.95,90.7,91.15,91.65,92.6,89.75,87.9,86.85,85.15,84.7,85.25,87.55,87.55,90.3,87.9,86.75,88.1,86.65,85.65,82.55,81.1,82.9,84.0,85.8,85.7,86.45,88.6,86.7,87.05,86.2,92.8,92.15,90.65,90.55,92.6,92.0,91.15,91.05,93.3,94.55,94.4,94.2,91.6,92.7,93.55,93.35,89.35,92.15,91.2,92.1,90.6,87.6,88.6,95.35,98.45,102.3,102.95,106.65,102.75,106.3,106.35,111.0,107.65,104.6,107.0,106.55,108.0,108.55,104.95,105.4,102.8,99.25,100.95,102.8,103.15,100.85,102.55,101.65,100.4,101.45,100.0,105.0,103.2,103.0,104.35,97.75,96.55,93.05,92.7,92.05,91.8,90.6,90.25,92.35,93.4,98.6,96.95,98.65,100.05,99.9,95.85,96.65,98.2,94.2,93.15,93.6,94.0,91.6,87.4,86.85,88.2,85.75,88.2,92.15,95.45,97.3,96.2,96.4,96.35,97.25,99.15,97.95,100.75,99.8,97.7,97.55,96.35,97.9,99.45,100.0,100.75,102.6,103.95,104.45,102.15,103.05,101.8,101.45,100.4,103.25,103.3,102.5,104.65,108.9,106.65,105.4,101.85,100.65,97.75,97.05,96.0,98.5,98.15,99.25,97.65,97.9,98.25,97.6,97.3,99.1,98.5,102.1,101.3,96.4,96.35,93.6,88.75,90.75,90.4,91.0,89.25,88.6,87.4,95.3,96.4,96.15,94.5,101.65,94.45,95.75,94.6,91.7,88.1,87.85,92.5,95.75,95.3,96.05,97.35,98.3,99.45,99.8,106.35,106.2,106.25,105.65,106.5,104.95,104.75,104.9,104.4,103.25,103.75,101.9,104.25,108.3,111.0,112.3,113.1,111.5,108.1,107.25,109.4,109.55,109.75,112.5,112.4,113.6,115.8,115.45,115.15,114.8,114.1,112.8,110.95,111.5,114.85,115.25,114.95,114.1,115.25,114.75,112.95,112.95,112.45,109.95,116.8,117.2,119.9,120.1,119.6,121.2,124.75,124.85,128.1,131.9,127.4,125.15,125.6,124.3,124.55,125.15,124.55,124.65,128.95,127.25,127.35,128.45,128.55,130.4,129.35,129.75,129.6,129.85,133.05,133.75,131.0,134.25,132.6,133.4,129.3,127.0,124.65,123.5,120.2,121.5,122.85,123.6,125.1,123.55,120.8,122.5,124.55,122.65,122.15,123.25,123.9,125.95,127.8,127.25,127.7,123.15,122.15,122.4,123.0,120.5,117.6,117.75,118.15,117.0,116.45,116.7,111.5,113.05,108.85,110.1,111.25,114.15,112.55,113.9,112.3,112.85,112.1,114.05,116.5,118.3,117.3,116.05,116.6,118.25,118.65,117.6,120.65,120.9,121.55],\"high\":[235.95,236.8,240.0,236.75,239.2,237.0,237.2,239.25,238.0,236.7,223.7,225.4,235.15,224.5,225.0,224.6,238.2,243.55,239.75,237.3,237.7,239.3,239.35,237.2,240.6,246.9,247.0,244.5,242.0,238.5,236.45,237.95,239.85,240.5,241.55,240.45,239.0,238.05,254.95,249.65,247.0,243.95,242.95,248.5,249.2,244.25,240.95,243.3,249.6,251.85,257.9,265.75,272.45,275.45,277.8,276.2,273.25,282.4,281.0,284.5,273.1,270.15,268.25,268.4,269.7,266.95,263.55,262.35,264.75,274.65,276.85,281.0,278.75,270.5,268.4,271.25,269.35,269.7,266.7,264.7,265.4,269.7,272.0,266.0,262.7,262.2,259.4,255.5,252.35,251.1,248.35,248.95,249.3,245.6,259.5,281.35,290.5,293.0,294.35,296.2,295.5,291.5,292.75,300.0,298.5,294.4,293.65,291.25,288.0,287.8,288.8,288.65,287.45,285.25,280.2,277.35,277.8,276.35,280.7,281.65,275.65,277.0,279.05,277.55,278.4,264.0,265.75,263.5,258.9,264.65,266.3,263.65,273.0,282.7,284.4,281.25,281.3,276.65,275.9,274.2,274.45,283.1,276.95,277.35,277.0,279.7,274.8,271.9,269.9,268.85,274.2,277.05,282.75,285.25,289.0,289.6,279.8,286.5,284.4,270.3,276.9,285.0,294.9,303.7,307.3,306.8,311.25,310.7,310.7,314.95,310.0,315.75,317.0,326.9,328.75,328.35,316.7,319.1,319.65,319.2,315.85,313.5,315.15,314.95,317.8,318.0,309.3,308.8,307.7,306.35,303.0,303.8,301.45,293.95,289.95,288.25,292.5,298.6,299.55,289.9,284.85,282.95,283.75,286.5,293.6,292.2,290.65,289.8,278.4,280.0,276.95,275.85,280.75,276.25,260.8,254.65,253.35,248.0,239.8,244.0,241.6,228.0,235.5,236.9,227.9,231.25,231.4,228.25,230.25,221.8,210.85,211.5,210.25,207.45,207.95,211.45,213.35,211.85,214.2,212.9,216.0,211.15,211.35,212.25,210.55,207.7,210.55,209.9,204.5,207.0,206.45,202.0,211.0,214.8,216.85,220.2,215.0,213.7,213.8,214.95,213.65,211.05,210.8,209.3,207.2,197.4,198.4,200.65,200.7,198.15,197.5,196.3,198.3,197.45,199.5,203.0,196.4,197.4,196.75,180.3,164.8,163.5,166.9,171.8,171.7,167.6,169.4,168.55,171.75,172.4,170.65,173.85,175.35,172.25,174.3,173.85,176.25,177.4,178.7,179.3,175.9,176.7,174.8,172.8,167.85,158.9,157.8,157.1,154.15,155.65,151.7,151.7,150.2,151.95,155.0,158.6,159.4,158.65,159.55,161.8,162.75,160.45,157.7,154.5,155.65,156.9,156.4,155.65,156.5,158.35,154.0,151.0,146.2,147.5,147.25,144.65,146.1,148.4,151.15,153.8,152.6,154.65,155.45,155.0,154.75,156.2,156.35,155.15,154.15,156.5,158.3,158.85,161.45,154.7,155.4,156.6,153.15,153.25,153.9,153.6,150.8,152.5,151.0,153.0,153.95,153.75,152.25,154.45,154.35,154.8,153.5,152.1,152.75,153.0,153.9,151.9,153.15,152.5,145.55,148.45,147.45,145.7,145.5,142.1,140.4,142.25,142.35,143.0,144.15,145.2,144.2,145.75,145.8,139.85,140.45,140.9,142.75,143.2,142.6,141.95,140.7,142.85,143.7,146.85,145.5,147.15,146.9,145.8,144.75,143.9,138.8,130.65,132.0,131.8,129.95,129.25,128.95,128.4,131.35,131.55,130.45,129.4,128.4,130.9,128.4,127.9,125.5,125.5,126.95,125.65,126.05,125.4,124.2,123.3,122.15,122.0,121.05,118.85,119.8,122.4,122.95,125.0,126.1,125.0,126.85,124.8,125.0,125.0,124.6,125.1,124.5,125.25,124.85,123.4,124.65,124.4,124.2,121.8,119.2,117.65,118.9,118.8,121.8,121.0,122.8,125.3,119.8,125.35,127.1,122.9,131.0,130.4,132.0,136.25,138.0,140.75,141.0,141.3,141.2,151.2,151.75,156.0,154.2,156.65,157.7,152.7,154.25,154.2,153.0,153.95,154.5,155.45,154.4,143.25,143.15,140.9,148.0,149.15,146.4,144.25,144.0,139.95,140.35,140.35,141.3,141.7,138.5,138.2,138.4,142.7,143.5,144.2,143.25,142.6,143.35,141.6,140.75,141.15,141.7,145.5,142.45,141.0,142.05,141.85,139.55,139.4,139.1,139.45,139.25,144.5,147.0,143.5,140.65,139.4,140.05,141.8,144.85,144.7,142.25,138.75,134.55,134.0,132.9,134.8,134.8,131.5,133.45,134.5,133.3,133.8,135.15,135.0,134.6,136.4,136.15,135.8,136.75,131.95,130.9,128.6,126.4,124.85,128.15,128.65,126.8,127.15,128.35,128.55,128.15,129.5,129.0,126.0,127.45,126.5,120.35,121.2,122.1,119.8,119.45,119.1,119.65,119.4,120.25,121.0,122.2,124.1,121.15,122.0,121.75,121.4,121.0,120.7,119.2,118.25,119.95,120.4,119.5,117.8,119.8,122.55,121.8,121.05,123.5,123.95,122.5,121.9,121.85,122.75,123.2,121.0,121.35,120.1,120.25,119.0,120.4,120.0,121.15,123.45,124.2,122.3,125.0,120.4,121.0,122.15,123.3,120.9,119.65,116.95,116.1,116.4,117.35,117.6,118.1,117.5,116.4,113.9,111.25,112.75,109.5,107.1,108.5,108.05,108.3,109.5,109.85,108.2,106.5,104.6,108.9,108.45,106.4,115.8,121.0,124.4,126.1,123.95,123.4,124.8,127.7,128.3,127.45,125.4,125.95,127.0,126.9,124.55,124.6,127.0,129.0,135.4,136.25,141.95,143.45,144.0,146.75,144.7,149.8,149.5,147.2,148.8,148.0,147.4,144.4,145.25,146.45,142.8,144.0,144.3,144.0,142.8,138.85,134.85,135.0,135.8,135.8,136.3,138.5,135.8,135.0,136.8,137.8,139.1,138.1,138.4,136.25,135.7,135.0,136.0,131.4,133.65,134.0,129.4,129.0,130.0,128.45,129.45,128.25,132.6,133.5,134.15,135.0,137.25,138.5,136.95,139.1,140.2,140.0,139.7,141.9,135.1,135.2,135.0,135.0,134.7,136.0,135.35,134.9,133.95,132.55,132.45,131.2,129.4,127.6,128.0,125.95,125.35,127.0,126.2,126.0,126.95,126.45,124.5,125.3,124.6,124.5,122.1,122.45,124.55,125.0,119.35,118.75,120.15,120.4,119.45,119.8,119.4,128.9,132.2,135.0,134.8,136.4,132.9,133.7,134.75,137.7,140.8,142.65,145.0,147.3,144.65,144.75,143.85,142.8,137.7,138.9,138.5,140.6,142.3,142.2,140.0,141.9,142.55,140.0,138.95,139.5,138.2,137.8,135.6,135.7,138.0,141.65,135.6,138.6,138.05,136.1,132.75,132.0,135.0,136.4,135.25,135.9,136.45,136.2,133.9,134.15,129.5,130.9,134.45,137.75,138.7,138.9,138.8,139.7,138.6,141.2,145.75,146.4,146.65,150.3,150.0,149.7,149.45,149.15,147.5,148.75,149.25,150.45,148.5,146.9,145.9,145.5,143.9,141.85,140.45,144.95,145.9,144.9,143.15,143.35,144.15,148.15,150.65,152.5,151.75,154.65,157.75,161.2,160.25,163.5,162.75,162.5,153.0,153.7,152.4,152.1,151.95,151.2,150.25,149.2,149.55,149.4,148.95,150.55,153.75,157.35,158.25,157.3,155.65,161.1,161.4,159.5,161.0,162.85,161.4,164.35,164.9,158.9,157.0,156.55,154.5,156.25,157.3,161.5,162.25,158.5,158.0,157.95,158.95,156.8,154.7,153.15,152.9,154.7,159.8,163.1,164.5,167.75,162.4,160.75,159.9,162.0,162.15,160.6,159.4,157.45,157.8,155.75,157.6,157.0,157.9,158.7,157.7,154.5,149.2,151.95,154.5,153.2,151.75,151.85,149.6,149.9,148.0,149.9,149.05,148.25,149.7,149.0,145.85,152.2,154.2,157.0,157.2,157.4,158.85,161.45,164.8,164.2,165.9,164.25,162.9,163.9,162.4,155.8,157.55,158.3,158.9,158.1,163.35,161.35,161.9,156.15,156.95,158.85,159.65,162.6,161.5,165.0,164.2,161.2,158.95,158.25,157.55,159.25,159.0,157.5,156.35,155.65,153.9,158.25,159.3,160.0,163.9,163.35,161.0,161.65,162.0,162.4,161.9,161.95,165.65,166.75,171.8,172.0,172.9,165.7,162.7,167.6,170.85,171.35,169.85,165.0,166.25,166.5,164.5,163.9,156.8,156.85,154.35,154.0,154.85,155.5,157.8,158.5,160.4,159.5,157.7,155.35,152.9,154.3,154.8,153.0,152.9,155.1,156.5,155.6,155.9,156.85,155.15,155.95,156.2,157.4,157.9,159.7,161.4,162.45,163.0,161.0,157.7,154.0,153.2,156.3,161.35,159.6,167.65,169.6,171.2,175.0,176.8,176.6,175.0,172.95,169.65,170.75,169.5,171.2,165.4,165.35,169.0,167.95,166.7,173.95,171.5,176.1,177.15,175.45,176.8,154.8,154.0,151.85,149.9,151.0,154.5,158.2,157.8,163.0,158.45,157.4,155.6,154.85,151.6,147.5,148.05,148.5,149.7,146.7,145.95,145.55,146.4,148.3,148.6,150.9,153.5,154.1,154.55,157.0,159.4,159.3,160.0,158.2,153.95,154.9,154.0,155.3,155.95,152.5,153.8,154.3,155.65,154.75,152.7,148.6,143.75,144.8,144.0,144.85,144.15,146.0,143.2,143.8,144.8,143.4,146.9,147.5,146.0,145.1,144.35,143.0,142.25,141.15,141.0,142.15,141.9,143.55,143.0,143.0,141.95,141.75,140.95,141.35,142.4,144.85,145.9,145.85,144.5,144.5,144.3,144.85,143.7,142.95,143.0,144.75,144.4,143.0,144.9,147.85,150.35,152.2,150.1,149.3,150.25,152.9,152.85,154.5,156.8,159.95,158.5,159.3,158.2,158.6,157.0,161.75,162.65,161.5,160.9,162.85,166.1,157.65,156.5,153.85,149.4,148.75,147.1,145.5,147.5,148.45,147.95,149.0,149.1,147.75,148.7,148.4,149.3,150.9,150.1,148.35,147.6,146.8,143.75,145.2,146.8,147.8,149.2,148.35,146.9,155.0,159.65,161.25,163.0,167.9,168.95,169.8,170.0,169.9,167.1,166.0,164.2,166.25,168.4,166.4,162.6,162.8,165.35,165.0,162.9,160.2,161.45,163.45,160.8,158.2,157.8,156.75,156.1,155.8,150.55,146.05,149.9,147.4,146.65,146.45,149.3,151.7,151.85,149.0,150.05,153.85,153.0,153.2,152.0,149.2,149.9,148.0,145.35,145.2,144.4,140.65,140.4,141.5,146.3,147.5,148.8,146.55,146.65,142.8,143.3,148.3,149.4,148.8,149.0,147.3,143.45,142.8,149.8,150.8,164.2,160.3,163.6,161.5,157.75,155.4,156.5,156.8,158.5,157.9,158.3,160.35,155.0,154.85,149.45,150.9,149.8,149.1,147.95,147.25,144.5,143.35,142.8,143.1,135.0,135.0,135.6,135.45,135.95,142.1,142.95,144.65,143.95,141.0,143.5,143.65,144.95,145.8,151.3,152.95,150.85,151.9,152.2,148.4,149.75,149.1,145.75,148.7,144.0,142.0,143.0,146.3,146.1,147.85,147.8,148.35,148.1,146.5,149.1,148.0,149.2,153.4,151.8,149.6,149.8,149.75,149.85,148.0,144.7,140.95,139.45,141.3,141.2,139.3,137.75,135.2,133.7,132.9,132.9,131.8,135.0,134.3,128.95,130.5,135.25,134.7,132.3,129.0,125.1,129.25,127.5,128.6,130.4,132.2,133.0,136.6,135.75,134.65,134.7,135.35,135.0,132.65,133.5,132.4,128.4,129.4,134.15,134.1,135.0,139.4,140.4,143.8,148.85,146.8,144.5,142.25,141.75,144.8,142.9,143.75,145.55,148.0,144.3,145.0,148.25,152.0,151.15,149.4,149.8,150.9,160.0,150.3,153.5,156.1,155.35,156.85,158.5,160.05,167.0,159.9,161.75,163.7,164.6,165.15,166.25,166.4,168.9,167.3,162.5,161.75,162.45,162.5,162.5,162.6,165.45,165.35,167.5,167.0,169.55,169.7,174.25,172.75,174.25,173.7,172.2,166.95,168.25,169.5,169.75,168.5,165.95,166.45,166.6,164.35,163.6,164.3,166.4,174.0,181.4,181.5,172.4,171.2,171.5,167.9,162.4,160.2,160.9,161.85,161.25,152.55,153.15,154.2,156.85,158.2,161.0,161.85,163.8,164.5,165.0,164.4,161.9,163.45,161.2,157.35,157.9,157.9,154.25,156.5,156.5,147.3,144.2,132.55,133.35,131.1,132.25,131.9,130.0,131.25,136.3,135.75,135.65,136.0,136.95,137.9,137.05,138.1,136.4,134.9,132.45,132.9,131.95,130.85,128.9,129.95,132.25,132.0,133.55,135.15,135.85,137.8,136.2,136.3,136.65,134.15,133.25,132.45,130.9,132.55,132.25,130.9,129.3,128.0,123.35,123.95,123.25,125.0,124.15,119.4,122.55,122.4,120.0,116.9,115.4,116.45,117.4,117.45,116.2,117.85,119.5,120.1,120.8,119.9,119.5,118.25,118.8,117.95,115.9,111.5,109.05,108.3,107.4,106.75,109.2,108.0,109.75,112.8,113.15,114.25,112.7,109.95,108.9,107.7,105.0,109.3,109.3,110.45,113.2,111.85,109.5,111.2,109.8,108.45,108.1,106.95,110.2,108.85,106.35,109.15,112.25,113.25,114.4,117.15,117.8,118.7,120.5,120.7,118.95,116.7,117.7,117.65,119.4,119.35,123.7,126.0,124.75,120.9,119.8,119.2,122.45,122.3,121.0,118.5,118.75,120.2,120.25,116.0,112.9,110.55,111.95,111.6,113.5,115.0,124.0,115.8,113.9,115.2,116.65,121.15,123.3,119.8,120.0,118.85,117.75,120.0,120.05,121.5,124.3,126.45,128.8,122.25,120.2,121.9,122.8,122.1,122.95,122.85,123.6,122.6,122.8,123.45,124.75,126.4,119.0,117.5,122.3,120.5,113.35,116.0,108.85,100.2,98.95,96.2,94.1,93.9,96.2,96.1,97.5,100.8,99.2,96.5,94.6,95.4,94.8,94.95,94.15,94.7,95.4,97.0,94.8,91.9,91.65,90.8,89.5,89.6,89.65,91.45,90.3,87.9,87.2,86.1,91.15,90.35,90.6,89.55,90.6,90.25,91.15,91.55,92.8,92.7,88.7,85.2,86.35,84.3,83.0,83.4,82.8,83.45,83.85,83.75,85.45,86.05,87.7,89.45,89.5,91.4,91.65,92.05,91.8,92.6,93.35,93.1,91.0,88.1,87.4,86.75,86.4,87.45,89.1,90.0,90.9,88.4,89.3,89.2,88.8,86.45,83.5,83.7,84.85,85.5,87.0,87.4,89.15,89.0,87.8,88.0,91.7,93.2,92.7,91.9,93.5,93.4,92.5,94.0,92.5,96.9,95.95,95.9,95.0,93.7,94.8,95.5,93.9,93.5,94.45,93.7,93.0,91.7,88.9,96.0,98.75,104.0,104.75,106.45,109.6,108.0,108.85,108.45,115.4,108.3,106.95,109.0,108.75,108.8,109.05,108.7,106.75,103.15,102.25,103.8,104.0,104.15,103.45,103.95,102.45,108.0,102.5,105.7,105.9,105.0,107.65,106.1,99.25,97.0,94.85,93.05,94.0,93.0,92.55,93.7,95.25,98.8,99.4,98.6,100.95,101.45,100.4,97.9,99.0,99.4,95.2,97.0,97.0,96.25,92.2,88.2,89.55,88.55,89.8,92.3,96.7,97.5,97.9,97.3,98.3,98.25,99.85,100.3,103.3,101.4,101.45,99.05,98.55,98.7,99.8,100.7,101.9,103.65,104.8,105.7,104.8,104.1,103.6,102.95,102.5,104.85,104.65,103.9,105.0,110.4,109.5,107.45,106.8,102.8,101.4,99.0,98.0,98.9,99.2,101.0,99.9,98.9,99.7,99.9,100.4,100.2,101.5,102.5,104.2,105.8,98.0,98.2,94.75,90.75,91.95,92.0,91.8,90.0,90.25,96.0,97.5,99.35,96.95,102.5,102.8,95.95,96.5,95.0,92.75,89.0,93.0,96.8,97.7,97.65,97.85,100.0,102.0,100.6,106.8,108.2,107.4,106.75,107.45,109.1,106.9,106.9,108.25,109.7,104.5,104.2,105.9,108.7,113.0,113.4,113.9,114.2,112.0,108.95,110.9,110.8,111.0,113.95,114.0,114.9,116.8,117.8,115.9,115.5,116.4,114.75,114.5,112.9,115.9,115.4,115.75,115.65,116.0,117.5,116.0,113.9,114.0,113.5,118.5,118.9,119.7,120.6,125.1,123.5,126.15,126.0,129.85,134.0,132.75,128.25,126.9,129.45,125.8,126.7,126.2,128.4,128.0,130.0,129.5,129.6,130.5,132.0,131.1,130.75,132.85,131.0,134.85,137.0,134.4,135.75,135.9,135.95,138.75,129.9,127.9,125.45,124.0,122.7,124.75,125.75,126.9,127.5,124.25,123.5,125.65,124.95,125.35,125.0,126.5,128.2,128.8,129.5,129.8,128.5,124.65,124.0,124.55,123.65,121.0,119.7,119.85,119.35,118.7,119.8,118.25,113.4,114.35,111.2,112.4,115.95,116.0,114.45,115.5,114.3,113.85,114.9,117.0,119.0,119.95,118.5,118.0,121.7,120.5,119.5,121.0,121.95,122.0,123.0],\"low\":[230.2,231.1,232.5,232.0,230.75,227.95,233.45,233.5,230.25,223.3,212.65,214.85,220.65,219.1,218.2,215.2,222.6,235.05,232.95,232.1,232.7,231.3,231.05,230.2,233.1,239.25,243.0,239.2,235.95,235.0,232.25,231.1,235.3,235.05,235.3,234.15,232.0,230.4,234.35,241.5,240.9,239.15,234.5,235.8,241.9,235.25,231.25,228.6,232.7,240.3,242.1,257.55,264.35,267.45,272.55,267.0,265.7,270.0,275.35,262.7,263.25,262.7,261.45,261.2,263.3,260.1,256.45,255.5,257.0,266.05,269.15,271.45,268.2,265.35,262.75,262.7,263.55,263.3,260.35,254.8,253.5,258.55,260.7,253.2,257.0,254.65,252.2,247.3,245.55,244.0,240.55,243.35,242.5,237.25,240.75,251.85,284.4,283.45,288.6,287.25,287.0,282.3,283.1,289.4,292.05,291.05,288.75,282.05,281.8,282.65,283.65,283.6,279.25,277.5,272.55,271.75,271.65,271.5,274.1,273.0,271.0,271.5,269.55,271.7,259.35,257.5,260.75,253.7,250.0,257.6,262.15,255.1,258.35,271.05,277.25,275.25,273.2,269.7,266.6,265.0,265.15,271.45,270.55,274.1,272.0,273.1,271.55,263.0,261.1,262.2,261.65,263.0,274.2,276.0,280.9,279.7,271.1,276.1,270.0,253.25,255.15,260.25,278.6,286.1,299.45,300.7,301.65,302.8,304.05,306.6,300.95,301.4,307.55,311.45,321.65,315.0,311.8,312.55,314.0,312.2,310.35,307.25,310.15,307.55,311.8,306.35,303.55,302.5,300.55,299.7,298.15,297.75,291.7,275.1,286.15,279.2,282.2,286.65,285.9,285.05,275.65,273.6,278.15,276.4,282.6,277.55,278.3,276.5,274.3,275.05,270.5,267.75,271.15,259.25,250.8,247.2,237.9,228.4,232.85,234.65,225.3,222.55,221.3,224.0,224.35,223.4,226.35,223.15,222.5,209.75,203.4,203.0,203.55,202.6,203.7,205.6,209.05,207.1,209.25,208.0,205.6,207.7,207.65,208.65,204.55,203.15,205.0,203.4,198.7,196.65,195.3,192.3,200.0,207.3,213.1,212.85,210.7,208.85,207.35,206.2,210.15,207.3,205.45,204.8,194.6,193.3,190.5,196.3,196.1,192.35,189.35,192.05,193.7,189.15,188.85,194.4,188.05,189.8,181.5,165.1,152.05,153.2,160.45,165.6,167.0,163.85,164.5,164.2,166.75,168.35,166.85,167.7,170.75,169.2,169.45,169.7,170.3,173.7,173.05,172.6,172.05,171.2,169.0,167.05,157.1,153.1,152.75,150.0,149.75,150.75,147.1,147.9,146.4,145.75,149.8,154.0,156.05,155.55,155.9,157.7,157.6,155.05,151.7,151.75,152.8,153.4,152.4,152.2,152.9,152.15,148.25,147.55,143.7,143.9,143.5,142.1,140.2,143.65,147.2,148.35,147.0,152.5,153.0,152.45,151.65,153.2,153.9,152.55,151.95,151.1,154.8,155.55,153.75,152.0,151.55,151.6,151.0,151.0,149.7,150.25,147.5,147.5,148.55,149.8,150.3,151.05,149.4,150.0,151.25,151.0,150.3,150.1,149.7,149.5,148.0,148.0,150.5,143.2,142.2,145.1,144.8,142.25,141.35,139.3,138.6,136.75,140.2,140.05,142.2,142.1,140.1,140.05,138.25,136.75,138.35,138.7,139.6,141.0,139.8,139.65,138.1,138.0,139.95,141.25,142.6,143.05,141.35,140.1,141.2,137.1,132.4,127.35,128.5,128.1,128.35,127.45,126.85,126.6,126.0,129.15,127.7,126.55,127.0,126.65,124.05,124.55,123.8,123.95,124.05,124.55,123.8,122.8,121.35,121.1,119.6,119.2,116.45,116.3,118.0,119.0,120.75,120.75,124.0,122.95,122.2,122.4,123.05,122.1,123.5,123.0,120.75,122.8,121.1,120.3,121.55,122.5,121.5,117.5,115.6,114.5,116.85,116.05,114.9,118.3,115.2,120.4,114.25,117.25,123.65,114.95,126.55,127.25,126.0,130.8,134.5,138.3,139.0,138.0,135.65,144.05,148.4,152.0,151.15,151.95,150.85,150.75,149.2,147.4,145.1,151.1,150.6,148.6,140.45,138.75,139.8,136.2,134.35,145.6,140.55,140.0,138.1,137.7,137.6,137.5,138.95,137.85,136.3,135.1,134.95,138.8,141.8,141.3,141.25,141.0,140.0,140.0,138.75,137.8,138.9,140.1,139.8,138.4,138.0,138.75,137.85,137.15,136.1,136.0,135.75,137.25,139.15,138.4,138.5,135.5,135.1,138.1,138.25,139.2,136.55,131.45,130.55,131.2,131.2,131.15,130.35,128.8,129.15,132.25,131.6,131.1,132.5,132.7,131.45,133.45,133.2,133.8,131.5,129.45,128.1,126.75,124.3,117.1,125.6,124.7,125.1,124.55,124.7,123.8,126.6,126.0,122.0,122.7,124.6,118.9,118.85,118.6,119.7,117.65,117.85,117.55,117.3,116.85,118.15,119.15,119.7,119.7,119.5,118.95,119.55,119.6,118.45,118.0,117.25,116.3,118.0,117.45,115.8,115.3,116.3,119.15,119.0,119.0,120.0,121.95,120.6,120.0,119.0,119.55,119.55,119.1,118.95,118.05,117.85,117.0,118.1,115.0,118.0,120.75,120.2,120.3,119.5,118.4,118.5,118.65,120.45,118.75,115.95,115.0,114.1,115.0,113.9,115.05,115.4,114.55,113.1,109.15,107.95,109.45,104.2,101.6,103.8,102.5,105.0,105.1,107.0,104.25,102.5,101.1,102.2,105.1,100.0,102.4,116.45,120.1,122.5,121.45,120.4,121.0,123.55,125.2,123.35,122.6,123.3,123.4,121.95,119.5,120.5,121.55,121.05,127.5,131.15,130.3,138.05,140.95,140.1,139.0,144.5,142.2,142.25,145.5,144.2,141.5,141.2,143.45,142.0,141.05,140.3,141.3,141.0,136.3,134.15,132.75,131.65,131.2,131.9,130.4,134.5,134.1,132.75,134.2,135.0,135.0,135.9,134.9,134.15,132.5,131.25,131.05,129.25,128.1,128.3,126.5,126.25,126.7,125.3,123.0,124.75,127.5,131.4,130.8,130.95,131.0,134.8,135.0,135.1,137.2,136.85,135.6,134.65,133.25,132.6,133.2,132.4,131.7,133.9,133.35,131.85,131.6,129.6,130.1,127.4,126.65,123.1,123.8,123.65,122.25,122.9,123.05,122.9,122.15,124.05,121.65,122.7,120.0,121.55,117.0,118.35,116.75,119.0,115.5,114.05,116.85,117.0,115.9,115.15,108.55,112.5,127.0,131.75,131.5,132.55,130.7,129.75,129.4,132.1,136.2,138.25,141.6,141.0,141.8,141.0,140.25,135.35,135.5,137.25,136.15,136.75,140.1,139.4,134.5,136.9,138.2,137.25,136.6,136.6,135.75,134.25,133.8,133.2,134.2,135.1,132.2,135.25,135.1,131.3,129.15,128.2,132.3,132.6,132.5,133.0,133.7,132.65,132.3,128.85,126.8,127.1,125.7,133.6,136.0,134.0,134.0,136.85,136.0,136.5,140.0,144.8,143.05,143.0,147.4,146.8,146.75,146.55,145.05,144.55,146.8,147.65,145.45,143.65,143.05,139.4,140.55,138.3,136.6,138.75,143.5,142.55,140.4,141.5,141.0,141.4,146.2,149.9,145.85,149.65,151.2,157.0,156.05,157.85,158.6,152.05,151.0,150.8,149.9,149.8,148.8,148.3,146.55,142.7,146.5,147.75,146.2,146.9,149.0,152.7,155.4,155.25,152.85,153.55,157.85,156.7,155.8,157.25,156.1,157.0,157.15,155.0,152.8,153.15,151.9,153.1,153.6,155.3,156.6,154.45,155.05,154.75,154.85,153.2,151.2,148.0,148.7,151.55,153.5,157.65,159.2,157.75,154.05,157.3,157.65,158.6,156.9,157.1,156.65,155.6,154.3,153.75,154.05,153.8,154.2,155.2,153.3,149.5,146.0,147.0,151.65,150.55,150.35,148.65,148.1,147.15,145.6,146.1,146.75,145.6,146.55,146.35,137.05,143.3,151.4,152.5,154.4,154.0,154.1,157.7,160.65,161.4,162.75,157.2,159.25,159.65,155.7,153.25,152.5,155.75,156.1,154.6,157.25,158.6,154.35,153.65,154.0,155.3,157.4,157.25,157.0,160.45,160.1,158.05,156.9,156.6,156.05,155.95,157.1,155.5,153.4,153.35,150.8,151.05,156.0,157.05,158.7,160.45,157.75,158.0,158.4,157.6,158.3,154.45,159.1,161.8,163.65,167.05,164.1,160.05,156.9,158.0,166.35,166.4,161.0,160.5,162.6,162.5,160.05,154.0,153.55,153.0,151.1,150.0,152.5,151.35,155.0,155.0,156.2,156.25,154.9,151.55,150.75,150.3,151.5,150.7,149.55,152.65,153.5,152.5,153.75,151.75,152.5,152.45,152.05,152.55,155.95,155.7,156.7,158.75,157.7,156.25,153.2,151.5,148.5,149.15,149.25,152.75,157.75,166.65,166.0,168.35,173.1,171.5,172.05,168.0,165.6,166.3,165.5,164.8,161.85,161.3,162.1,163.7,161.6,161.15,165.65,165.05,166.1,170.1,155.2,151.15,150.0,147.75,146.6,145.35,148.0,154.75,153.0,152.75,155.1,153.4,151.55,151.05,145.25,143.25,143.85,145.4,145.5,144.15,142.1,142.1,144.15,144.9,146.4,147.8,146.5,151.0,151.75,151.85,155.05,156.15,155.55,151.0,150.0,151.1,151.75,152.1,152.5,148.25,150.15,149.4,152.1,148.8,148.1,142.3,141.3,142.25,142.4,142.5,143.2,142.45,140.7,141.1,142.55,141.0,141.9,145.15,143.0,142.25,141.3,140.15,139.45,135.9,135.25,139.15,139.1,141.0,141.8,141.2,139.15,139.6,138.35,137.7,139.1,141.15,143.5,143.05,142.7,141.8,140.15,142.55,138.5,140.0,139.65,139.7,139.6,138.4,140.3,143.65,147.5,148.1,147.55,146.25,145.8,148.5,150.4,150.3,151.9,154.75,156.15,156.0,155.2,155.1,153.65,153.75,159.9,158.15,155.25,156.35,158.0,153.65,153.35,146.6,145.9,145.25,144.1,142.2,145.0,146.2,146.25,146.7,145.3,145.8,146.05,145.1,146.25,149.0,147.55,145.0,144.0,141.6,140.8,141.1,143.1,144.75,144.05,142.5,142.8,141.1,153.1,155.1,157.8,159.05,163.1,165.9,167.25,161.55,163.1,162.65,160.25,162.3,163.05,158.0,157.0,159.9,159.0,162.25,158.25,155.35,157.7,159.0,155.85,154.15,155.2,151.8,152.2,150.7,144.0,143.15,145.5,143.25,143.75,142.5,143.5,146.05,148.95,146.75,147.65,147.8,150.1,148.2,146.55,145.6,146.1,143.6,140.65,140.7,139.35,136.7,137.0,130.95,139.65,143.1,145.25,141.0,141.0,138.25,136.65,139.65,145.0,144.35,144.3,141.5,136.2,136.0,142.1,140.7,144.2,151.15,155.3,157.05,151.45,150.35,151.15,152.6,153.4,153.3,153.4,154.1,151.25,148.6,145.55,146.6,145.55,144.5,142.8,143.25,141.5,138.55,139.05,133.4,131.5,128.0,131.8,132.2,130.3,132.7,139.3,142.7,141.0,138.55,138.75,136.7,135.25,141.6,145.0,148.8,147.4,149.1,147.1,144.3,144.7,142.15,140.85,143.25,141.15,137.25,136.2,141.85,142.0,143.25,143.05,142.75,141.5,139.6,145.65,146.0,145.1,147.15,149.0,147.0,146.0,146.2,145.9,142.7,140.9,136.1,135.5,136.65,137.0,136.5,132.6,131.5,131.1,130.0,130.15,128.5,129.7,127.05,126.0,126.8,130.05,130.9,127.9,122.0,122.0,122.8,122.6,123.45,127.0,127.0,130.65,132.45,131.1,131.5,130.8,132.1,131.2,130.0,129.5,127.0,121.55,126.0,122.7,130.3,131.25,132.2,137.2,137.4,144.5,142.0,141.35,137.75,136.8,141.05,140.2,140.5,141.75,142.0,141.2,139.5,144.55,145.35,142.6,143.15,146.5,145.1,145.0,143.6,147.6,150.6,152.3,152.4,154.5,155.7,157.7,155.65,157.75,160.4,161.5,162.45,162.0,163.2,165.2,161.3,160.3,159.55,159.75,159.0,159.75,160.0,160.25,162.3,164.35,163.45,165.3,166.6,167.55,167.75,166.55,170.5,165.85,164.0,165.1,165.15,165.4,163.0,162.05,162.05,162.25,160.2,158.2,157.15,156.05,162.5,172.5,170.0,168.5,168.2,166.5,157.85,158.2,157.35,157.7,157.55,151.35,148.8,147.95,147.15,151.0,152.1,156.6,156.0,156.8,161.0,160.55,159.5,158.5,159.95,156.0,152.25,151.8,150.2,147.05,150.55,146.25,142.9,132.1,130.0,129.0,128.45,128.4,127.85,127.1,127.7,128.1,132.1,132.5,133.7,132.0,135.0,136.1,136.1,133.75,131.0,130.0,129.95,129.15,124.0,125.0,126.6,128.15,127.7,130.5,131.3,132.2,133.7,133.6,133.0,133.0,130.5,128.0,128.7,128.15,129.4,129.1,125.95,126.2,120.0,119.15,119.8,119.3,119.0,115.0,115.0,118.2,119.0,114.6,114.0,113.25,111.6,111.3,114.7,110.0,113.65,117.5,118.3,118.0,116.65,115.15,115.55,115.1,115.6,109.15,108.5,106.75,105.6,104.7,104.2,104.35,105.6,105.5,107.9,109.6,110.1,107.15,108.05,105.75,104.55,102.4,104.75,106.35,107.1,109.5,107.5,107.35,106.65,102.5,104.65,105.55,104.55,106.1,102.15,100.45,101.6,106.35,110.85,109.8,111.75,108.0,113.4,117.0,116.5,116.3,115.3,114.5,114.6,115.3,116.35,116.9,120.25,118.5,117.7,117.15,116.15,116.15,118.1,115.5,112.5,116.1,117.15,116.4,111.25,108.5,106.25,109.25,108.05,108.75,109.75,108.5,112.9,108.95,108.1,112.25,115.4,118.6,117.1,116.25,116.8,112.15,113.3,115.0,117.9,119.85,120.5,121.85,113.75,112.0,118.5,116.1,114.5,119.3,118.2,117.25,119.35,119.45,116.1,117.8,117.0,113.0,112.0,114.2,108.15,107.4,108.0,100.75,96.55,94.0,91.8,92.15,91.15,91.5,93.35,92.15,96.45,86.0,92.85,92.5,92.45,92.75,92.5,93.05,91.35,92.5,94.3,91.6,89.1,89.6,86.7,86.9,87.5,87.9,88.25,85.8,85.5,84.5,83.8,85.0,85.85,86.5,86.0,87.0,87.75,88.3,89.7,90.0,88.0,84.6,81.3,82.9,82.25,81.1,80.0,80.3,81.55,81.0,81.2,81.2,83.25,85.4,86.9,87.05,88.6,90.5,90.7,89.8,90.55,90.9,91.3,89.0,87.0,84.7,84.75,84.35,85.0,85.6,86.75,87.35,86.05,86.5,86.0,86.1,83.0,82.1,80.5,82.4,83.6,84.85,85.25,85.75,87.1,84.45,83.1,85.6,91.6,90.7,90.1,90.05,91.95,90.25,89.95,90.25,92.8,94.2,94.05,91.1,91.15,91.9,92.85,90.1,88.7,89.05,90.5,90.75,87.8,85.65,87.65,94.3,97.3,101.7,101.9,101.2,101.0,101.15,102.05,108.05,102.6,103.65,106.45,105.5,102.1,104.1,104.5,102.3,100.05,98.25,100.65,102.4,100.4,100.05,100.05,100.7,98.25,99.5,98.35,102.9,102.75,102.3,97.85,95.75,92.2,92.7,91.25,91.0,91.3,89.2,89.8,91.75,90.55,93.15,96.55,98.25,99.35,95.0,95.05,96.2,95.3,93.0,92.1,93.2,90.0,87.45,86.4,86.4,85.75,85.05,86.8,91.5,95.05,96.15,95.8,95.85,96.0,97.0,97.1,97.2,100.05,97.25,96.6,96.6,95.35,96.4,98.6,99.5,99.5,102.15,103.15,100.45,101.85,101.5,101.15,100.05,100.0,102.05,101.1,100.5,103.3,106.7,104.2,103.2,101.0,97.65,96.0,96.6,95.7,97.6,97.85,98.0,97.2,97.5,97.5,96.2,96.55,98.7,95.6,100.7,95.15,94.7,94.05,88.25,87.85,90.0,90.05,89.4,86.0,87.2,86.9,94.85,94.4,94.05,93.65,94.05,94.15,93.4,92.25,87.2,84.8,87.0,92.0,95.3,94.5,94.2,96.6,97.8,95.3,98.25,105.2,106.05,104.6,105.15,104.2,104.1,104.2,102.65,102.8,102.7,101.0,101.05,103.6,107.1,110.1,111.2,111.6,108.15,107.1,106.6,109.0,108.15,109.35,111.75,111.7,112.6,115.0,114.0,113.0,113.4,112.95,110.75,107.35,110.2,113.7,113.6,113.2,112.6,114.35,113.0,111.05,110.1,103.5,107.25,116.15,114.1,117.0,115.1,115.3,120.0,123.1,124.2,127.3,127.0,124.15,124.5,125.2,123.1,124.0,124.55,123.0,120.5,127.3,125.55,126.7,128.25,128.05,128.7,128.5,128.15,126.35,128.4,131.05,131.35,130.0,133.3,131.1,129.65,127.1,123.2,123.2,121.3,119.15,121.2,122.05,123.15,122.85,119.9,119.8,121.05,122.0,121.6,121.5,123.0,123.5,125.3,126.7,125.1,122.1,122.8,121.85,122.0,120.2,116.1,116.7,117.1,116.6,115.4,116.05,112.0,111.05,108.5,108.1,109.7,110.75,112.6,112.25,112.0,111.55,112.0,111.75,113.8,116.1,117.9,116.6,114.6,112.5,117.2,112.0,117.1,120.25,120.25,121.05],\"open\":[234.05,234.55,240.0,233.3,233.55,235.0,235.95,237.9,233.15,223.45,216.35,222.5,222.5,221.0,224.0,222.0,238.2,236.0,237.0,235.35,233.85,237.0,231.8,234.5,240.3,246.9,244.0,240.8,236.05,235.0,233.0,237.3,236.65,237.25,241.0,235.15,236.0,232.5,248.7,243.4,243.7,241.0,235.9,248.5,244.0,238.9,231.25,239.7,248.4,241.55,257.9,265.0,270.4,274.8,275.9,268.25,269.8,277.45,281.0,264.5,271.0,262.7,263.0,265.1,264.8,260.1,257.9,258.05,263.7,274.65,271.55,279.15,269.8,267.0,262.75,265.6,263.7,266.9,262.75,255.5,265.0,269.7,267.0,254.0,257.4,254.7,252.2,251.0,246.5,244.0,244.1,248.3,243.5,240.0,256.45,280.0,284.4,292.95,289.6,296.0,288.8,287.05,292.75,297.4,293.9,293.45,292.5,283.05,283.0,287.7,285.95,286.0,282.3,282.0,274.0,274.0,273.9,276.1,280.2,275.0,274.8,274.55,276.7,276.0,259.35,261.25,264.0,258.05,251.05,264.65,265.3,259.7,272.6,280.8,278.0,275.25,278.05,270.0,275.9,270.5,272.0,276.7,274.8,275.0,273.0,275.0,273.55,264.2,265.95,265.0,268.7,277.0,280.25,284.35,287.95,282.4,271.1,282.0,270.0,259.0,265.1,284.0,290.25,302.9,300.95,305.25,304.0,306.0,310.7,307.05,306.0,315.05,313.85,323.0,327.7,315.05,314.0,315.0,317.6,314.65,312.3,312.0,311.9,314.3,317.75,308.05,306.5,305.5,303.7,301.0,302.25,301.0,292.0,280.0,289.0,288.0,290.0,298.6,290.0,287.55,276.0,278.9,279.4,285.0,288.45,278.9,287.3,277.0,277.5,275.05,273.15,273.5,275.9,261.15,252.25,254.0,237.9,234.7,236.3,240.7,225.8,226.0,235.0,224.9,227.0,227.9,226.95,226.95,225.0,211.3,204.95,211.0,204.0,205.5,207.9,211.45,210.4,210.3,211.0,211.0,209.45,209.5,209.65,210.0,204.95,207.3,207.25,204.5,199.05,206.5,196.0,201.45,211.0,214.0,216.4,213.0,212.65,211.0,208.5,214.65,212.0,209.2,206.1,207.95,195.1,194.3,198.0,198.25,198.5,193.0,192.95,195.0,197.3,191.5,197.15,196.65,189.8,194.0,182.5,166.0,155.1,161.85,165.5,171.8,167.0,164.7,165.95,168.0,171.0,169.5,167.9,173.85,172.0,170.5,172.2,171.9,175.4,173.8,176.1,174.25,175.9,175.35,171.05,167.05,159.0,153.15,156.5,151.5,153.7,152.5,148.0,149.95,147.25,151.15,154.6,157.0,156.8,156.75,159.0,159.95,158.45,156.95,152.45,153.5,154.9,155.1,152.65,155.0,155.05,153.1,148.35,148.55,145.0,147.2,144.0,143.45,145.2,148.05,149.8,149.5,152.0,154.0,154.6,152.65,154.0,155.0,154.9,153.2,152.8,156.5,156.3,158.85,154.3,153.4,155.0,152.45,152.4,151.0,153.5,150.25,147.9,149.1,151.0,152.0,153.95,151.5,151.5,152.8,152.9,152.8,150.65,151.45,151.45,151.7,149.9,151.0,152.9,143.9,145.55,147.0,144.8,145.7,141.6,139.6,140.2,140.85,140.6,142.4,143.0,143.95,141.1,145.45,138.5,139.15,139.0,140.05,142.55,142.15,141.0,140.9,139.2,140.9,142.4,144.9,143.95,146.0,141.95,142.1,141.9,138.2,132.45,129.05,130.5,129.1,128.35,129.25,128.8,127.6,130.25,129.8,128.0,128.6,128.2,126.9,128.3,125.0,125.5,124.75,125.4,124.75,125.0,122.8,122.8,121.1,119.6,119.2,117.0,118.8,119.5,122.4,120.75,124.8,124.8,125.0,122.5,123.85,124.05,123.9,124.35,123.0,124.35,123.8,121.45,121.5,124.65,122.95,122.8,118.55,116.0,117.65,118.8,117.8,120.1,118.9,121.7,123.1,119.8,123.0,124.0,118.0,130.0,127.7,131.0,134.1,138.0,139.4,140.65,138.0,139.5,148.0,149.05,152.9,152.45,155.95,152.0,150.95,153.0,149.0,151.45,151.9,152.3,153.95,141.95,142.5,140.95,136.95,147.9,148.1,140.9,143.45,138.9,139.15,138.0,139.7,139.85,138.35,137.35,135.2,137.9,142.2,142.25,141.75,141.9,141.4,140.25,140.1,139.65,140.55,141.0,143.4,140.4,138.7,142.0,139.85,138.45,138.8,136.9,137.8,137.5,144.25,143.9,138.55,138.5,136.0,138.4,141.0,143.0,140.9,138.0,131.45,133.45,131.75,131.9,134.8,130.35,131.5,133.0,134.0,132.9,132.9,133.45,134.0,134.45,133.5,134.25,135.6,132.0,130.5,128.15,127.5,124.75,120.5,127.5,125.6,126.3,124.55,126.5,126.9,127.25,129.4,122.0,125.3,127.3,119.3,119.4,120.35,120.95,118.5,118.2,117.8,118.0,118.1,120.0,120.0,121.7,120.5,119.9,120.0,120.0,121.0,119.55,118.0,117.75,117.0,119.0,118.9,116.55,117.0,119.8,121.6,119.35,121.0,122.5,122.5,120.6,120.4,119.0,122.4,120.2,120.85,119.05,119.5,118.0,118.5,118.1,119.6,121.0,122.85,122.0,122.0,119.9,119.1,120.0,121.6,121.05,119.2,116.5,116.0,115.7,116.0,116.05,116.55,117.8,115.65,114.3,110.0,110.5,110.0,104.2,105.0,107.95,107.8,106.2,109.0,107.3,105.0,105.4,103.0,107.7,105.1,103.25,112.7,120.5,123.0,123.05,121.9,123.1,123.05,127.4,126.8,124.1,124.95,124.95,125.85,123.85,123.05,124.6,122.95,128.0,135.0,132.1,141.75,142.4,143.2,140.65,144.1,147.1,144.0,145.9,146.05,147.0,142.5,144.4,144.9,143.0,142.0,143.6,141.55,142.45,137.6,134.4,134.85,131.9,135.3,132.15,135.15,134.95,134.1,134.0,136.1,136.4,138.05,138.0,134.9,134.6,133.0,134.8,131.05,129.6,133.65,129.7,127.8,128.0,126.7,127.3,124.9,126.8,131.75,132.0,133.3,134.0,137.0,135.9,135.8,138.7,138.4,138.7,139.7,134.7,133.6,135.0,134.2,133.0,134.55,135.0,134.0,134.9,132.1,132.5,131.45,128.95,127.4,126.5,125.0,124.8,123.35,126.2,123.05,124.0,126.95,124.05,124.1,124.8,122.0,122.1,121.4,121.6,124.55,120.75,116.1,118.75,117.8,118.35,119.25,117.95,116.1,128.9,131.5,133.3,134.5,134.2,132.5,131.2,134.5,137.7,139.2,142.0,142.95,142.0,144.2,143.4,141.4,136.0,137.7,138.15,137.8,140.6,140.85,139.95,137.0,140.1,138.2,138.9,138.95,137.5,137.0,134.9,134.8,134.9,136.1,135.6,133.1,137.5,135.45,132.5,129.75,132.0,133.2,132.9,133.35,135.6,133.75,133.2,132.95,129.3,128.95,127.85,133.6,137.0,137.6,135.0,138.8,137.9,137.65,140.6,145.0,145.3,143.05,149.4,147.4,146.8,147.5,147.0,146.15,147.45,147.8,147.75,146.85,145.05,143.15,143.3,141.4,139.0,139.0,144.25,143.85,143.4,142.25,142.25,141.6,147.65,150.65,151.0,150.9,152.9,157.3,159.25,158.9,161.45,161.65,152.7,152.35,151.8,152.4,151.95,148.8,150.25,147.1,148.45,148.05,148.0,147.35,149.8,153.75,156.65,156.9,155.25,154.95,160.95,158.5,157.35,159.65,159.05,157.9,164.0,158.5,155.5,156.75,153.4,153.9,155.55,156.0,160.95,157.75,157.4,155.5,157.85,155.65,154.95,151.2,148.9,151.5,154.4,159.25,160.7,164.0,157.9,158.95,158.95,158.8,161.0,159.15,157.1,157.4,156.8,154.3,155.0,156.6,155.05,157.55,156.35,154.5,149.9,147.2,151.95,151.65,150.9,150.95,148.8,148.8,147.15,147.15,148.95,147.8,147.55,148.5,146.45,144.3,150.7,152.1,155.2,156.0,154.0,158.75,160.95,163.5,163.7,164.9,159.7,161.85,162.25,159.5,154.05,157.2,157.0,157.2,157.1,160.2,160.5,154.35,154.95,156.7,158.85,158.7,161.05,157.9,164.8,161.0,158.9,157.15,157.0,156.75,159.25,157.6,156.8,154.1,154.55,152.75,156.05,158.4,159.6,160.65,160.45,158.0,158.25,160.0,159.1,160.0,159.0,165.4,165.2,170.2,168.0,165.7,160.05,160.7,167.05,169.0,168.0,162.85,163.5,165.1,163.05,163.8,154.0,156.8,153.0,151.1,153.4,153.35,154.4,155.5,158.5,158.5,156.55,155.35,152.2,152.65,153.1,151.5,150.7,152.7,153.6,153.65,154.1,155.05,152.0,152.8,155.95,152.5,156.2,156.7,159.5,159.5,161.5,159.85,157.25,153.75,152.35,148.85,154.8,155.45,158.0,167.65,168.1,168.1,175.0,176.25,173.35,172.45,168.0,169.0,166.3,167.45,166.0,162.6,164.6,167.0,166.0,162.3,170.0,168.4,175.8,171.65,173.85,157.0,154.3,150.0,148.0,149.4,150.0,154.5,157.0,157.3,158.5,156.0,154.5,155.6,152.95,146.0,146.35,148.0,147.0,145.5,145.8,142.1,145.05,145.05,147.05,148.6,149.45,152.45,153.0,153.0,156.5,157.85,156.95,158.25,151.0,153.25,153.85,152.2,155.1,152.75,149.3,152.0,154.0,155.0,151.45,150.0,142.85,143.0,144.0,142.55,143.15,144.15,143.0,140.7,143.2,142.7,142.0,146.0,146.05,143.8,143.9,143.5,141.5,141.45,136.8,139.95,140.15,141.7,143.2,142.75,141.25,139.35,140.35,139.1,140.55,141.55,144.0,145.3,144.2,144.35,142.45,144.3,143.15,141.2,140.85,141.35,141.8,140.0,140.9,143.0,147.25,149.05,148.35,148.5,146.25,149.5,152.25,152.85,153.05,156.1,158.05,157.4,157.1,157.0,156.95,154.45,160.5,160.85,159.5,158.55,160.8,159.0,155.4,154.5,147.2,148.55,145.3,144.1,145.25,146.0,146.8,147.95,146.75,149.1,146.8,147.6,146.5,149.0,149.2,148.0,145.0,146.3,142.0,142.55,144.35,145.1,146.25,149.0,142.5,146.05,155.0,157.1,160.4,160.2,164.4,167.7,168.5,168.0,164.0,165.0,163.0,163.3,164.0,166.2,159.0,162.1,160.4,164.5,163.2,159.1,160.0,160.85,161.15,156.0,155.7,157.0,153.7,155.3,151.0,144.1,146.0,146.0,145.9,144.5,143.25,148.0,151.0,151.0,148.5,148.0,153.8,150.1,152.2,146.95,149.0,148.45,145.8,142.0,144.1,139.4,138.1,137.0,141.5,144.7,147.0,147.8,141.8,141.5,139.0,142.8,147.0,146.9,144.55,147.8,143.0,138.0,142.7,149.8,149.9,161.0,159.8,160.45,158.15,153.1,155.25,154.0,155.0,155.0,155.3,157.6,154.5,152.5,149.0,148.0,149.9,145.8,148.0,144.0,144.5,142.85,139.0,141.5,134.5,132.5,133.25,135.6,133.45,135.8,139.55,141.25,142.7,141.9,140.0,140.4,139.05,142.75,145.8,150.05,149.0,149.7,150.6,147.8,145.9,149.45,142.15,145.45,144.1,141.65,139.15,141.5,144.7,144.8,145.95,143.5,146.5,141.5,146.0,147.1,146.5,148.05,151.8,149.0,147.75,147.6,149.75,146.8,145.0,141.0,136.4,138.35,141.3,139.0,137.8,134.2,131.5,131.1,130.15,131.7,130.85,133.5,127.1,126.0,129.0,134.9,131.0,128.5,124.1,123.1,127.3,125.0,128.55,129.1,131.1,133.0,134.35,133.9,132.5,133.9,134.4,132.1,130.0,133.0,127.4,127.5,126.7,133.5,132.9,132.0,139.4,138.7,143.75,148.0,142.0,143.9,138.3,141.5,142.5,141.0,143.0,144.9,142.25,142.0,145.0,146.15,151.45,143.5,148.0,147.95,148.7,147.0,149.4,153.5,154.4,153.0,155.0,157.0,158.6,167.0,159.05,161.4,162.75,164.6,163.35,164.95,166.0,167.3,161.5,160.55,160.5,160.25,160.4,161.75,161.7,163.0,165.0,166.35,167.0,168.9,168.2,173.5,170.0,173.0,171.4,168.4,166.95,166.45,168.35,166.8,163.2,163.5,166.45,164.7,160.85,161.0,160.0,165.0,174.0,180.0,171.7,170.0,168.85,168.6,158.45,158.95,159.0,158.7,160.5,151.9,152.4,150.0,154.2,155.9,157.0,160.1,156.0,162.8,163.0,162.5,160.45,161.9,160.1,156.2,154.8,155.55,150.25,153.7,155.6,148.9,143.75,133.0,131.8,130.0,129.5,131.05,127.9,129.5,128.0,134.95,133.8,134.35,135.55,132.0,137.85,136.55,137.9,135.0,131.6,131.05,131.35,130.3,124.05,128.15,129.95,129.35,132.0,132.25,132.55,135.45,133.95,134.1,136.0,133.0,130.9,129.4,129.0,129.0,132.05,129.45,125.95,126.7,120.0,121.0,120.0,120.0,123.0,115.0,118.0,122.05,119.0,116.0,114.0,113.8,111.6,111.3,114.7,110.0,115.0,118.1,118.85,120.05,118.55,117.0,116.85,117.6,116.8,110.0,108.6,107.15,106.3,105.05,105.0,108.55,107.35,108.5,110.75,110.5,113.7,108.15,108.8,106.0,105.05,104.1,108.1,107.55,110.0,112.0,107.5,109.5,108.5,107.25,107.7,106.05,105.8,108.95,103.65,103.0,108.0,112.05,111.1,112.05,116.35,117.8,117.8,119.65,117.1,118.95,116.0,115.7,117.05,118.65,117.55,123.7,126.0,119.9,119.25,118.55,117.65,121.4,119.1,115.5,117.5,116.9,120.0,116.4,112.5,108.55,109.0,110.95,110.05,113.45,115.0,124.0,113.55,109.0,113.9,116.3,121.0,119.15,117.5,119.0,117.6,113.8,115.15,120.05,120.7,124.25,125.95,122.2,113.75,119.0,121.0,117.0,121.9,119.95,121.45,120.5,121.5,121.4,119.7,123.05,117.5,113.0,116.2,120.0,110.0,110.2,116.0,102.0,98.0,95.0,93.5,92.15,93.0,94.55,94.75,97.0,99.95,86.0,93.9,92.95,94.65,93.25,94.0,94.0,92.5,95.0,94.95,91.8,90.95,91.0,86.85,88.0,89.1,88.95,90.9,86.0,87.0,85.2,86.1,89.8,86.5,88.4,86.35,90.15,88.75,90.85,91.0,91.7,88.6,85.55,83.95,84.0,82.25,82.4,81.1,82.6,82.1,82.5,82.2,84.0,85.9,87.2,89.2,89.35,91.4,91.1,91.6,91.1,91.0,91.75,91.3,89.0,87.0,85.6,86.0,85.5,86.95,88.7,90.0,88.2,86.5,88.3,86.0,86.15,83.2,82.55,83.5,84.4,85.5,84.85,86.7,89.15,87.7,87.0,84.75,91.5,91.6,90.7,90.1,93.2,92.5,91.25,91.9,92.0,94.95,94.7,95.0,91.1,92.25,94.3,95.0,90.95,93.25,91.9,92.8,92.0,88.8,86.05,96.0,98.1,103.75,103.7,105.95,104.8,102.5,103.0,108.1,108.4,103.7,105.6,108.2,107.8,107.1,105.9,105.9,103.5,100.25,100.95,103.0,103.15,101.0,103.4,100.5,101.0,105.0,100.1,104.8,103.95,103.25,105.7,98.8,98.0,93.4,93.7,92.95,91.05,91.5,90.3,93.7,94.5,98.7,97.1,97.9,99.95,100.85,96.0,96.9,98.8,95.8,94.0,92.3,94.0,91.6,88.0,87.75,88.6,85.75,88.5,92.15,96.15,97.5,96.2,96.95,97.5,97.25,99.15,98.0,100.8,100.55,98.0,98.15,97.9,97.9,99.8,100.05,101.0,102.7,104.8,105.5,102.45,102.95,101.5,102.0,100.5,103.5,103.5,101.75,104.65,109.25,107.35,106.75,106.8,101.0,97.75,97.45,97.5,98.5,98.2,99.7,98.0,98.05,98.25,98.7,98.2,98.0,99.0,99.7,102.6,96.1,95.9,94.75,89.0,90.0,90.3,91.0,89.8,88.0,88.5,95.6,96.7,96.0,95.4,101.5,95.8,95.85,95.35,92.45,88.75,88.2,93.0,96.0,97.7,96.5,97.5,98.8,101.0,99.15,106.0,106.2,107.0,104.6,106.0,105.1,105.05,105.8,105.3,105.1,103.8,102.7,104.55,108.7,112.1,112.9,113.25,111.9,109.0,108.5,110.5,110.45,110.8,113.0,112.8,114.0,116.8,116.95,115.0,114.8,114.8,113.45,114.0,111.5,115.9,115.0,115.6,113.2,116.0,115.9,113.5,112.95,113.4,112.4,118.5,118.1,116.1,120.6,119.8,121.8,124.75,125.85,127.5,132.7,129.0,125.75,126.0,129.45,124.7,126.0,125.5,126.0,127.65,128.9,128.2,129.2,129.95,132.0,129.8,129.25,131.5,130.1,134.85,134.25,131.9,134.5,134.5,134.75,130.1,128.0,125.0,124.4,121.3,122.3,123.3,124.6,126.35,123.45,121.6,123.0,124.55,122.5,122.8,124.0,124.85,126.15,128.5,127.7,128.0,124.0,123.25,122.5,124.2,121.65,117.0,118.8,119.0,118.2,116.0,118.45,114.0,112.0,110.0,110.15,111.9,115.95,113.4,113.0,113.75,112.9,112.0,114.1,117.0,118.5,118.3,117.3,116.5,112.5,118.0,117.6,120.1,121.8,120.3,122.1],\"x\":[0,1,2,3,4,5,6,7,8,9,10,11,12,13,14,15,16,17,18,19,20,21,22,23,24,25,26,27,28,29,30,31,32,33,34,35,36,37,38,39,40,41,42,43,44,45,46,47,48,49,50,51,52,53,54,55,56,57,58,59,60,61,62,63,64,65,66,67,68,69,70,71,72,73,74,75,76,77,78,79,80,81,82,83,84,85,86,87,88,89,90,91,92,93,94,95,96,97,98,99,100,101,102,103,104,105,106,107,108,109,110,111,112,113,114,115,116,117,118,119,120,121,122,123,124,125,126,127,128,129,130,131,132,133,134,135,136,137,138,139,140,141,142,143,144,145,146,147,148,149,150,151,152,153,154,155,156,157,158,159,160,161,162,163,164,165,166,167,168,169,170,171,172,173,174,175,176,177,178,179,180,181,182,183,184,185,186,187,188,189,190,191,192,193,194,195,196,197,198,199,200,201,202,203,204,205,206,207,208,209,210,211,212,213,214,215,216,217,218,219,220,221,222,223,224,225,226,227,228,229,230,231,232,233,234,235,236,237,238,239,240,241,242,243,244,245,246,247,248,249,250,251,252,253,254,255,256,257,258,259,260,261,262,263,264,265,266,267,268,269,270,271,272,273,274,275,276,277,278,279,280,281,282,283,284,285,286,287,288,289,290,291,292,293,294,295,296,297,298,299,300,301,302,303,304,305,306,307,308,309,310,311,312,313,314,315,316,317,318,319,320,321,322,323,324,325,326,327,328,329,330,331,332,333,334,335,336,337,338,339,340,341,342,343,344,345,346,347,348,349,350,351,352,353,354,355,356,357,358,359,360,361,362,363,364,365,366,367,368,369,370,371,372,373,374,375,376,377,378,379,380,381,382,383,384,385,386,387,388,389,390,391,392,393,394,395,396,397,398,399,400,401,402,403,404,405,406,407,408,409,410,411,412,413,414,415,416,417,418,419,420,421,422,423,424,425,426,427,428,429,430,431,432,433,434,435,436,437,438,439,440,441,442,443,444,445,446,447,448,449,450,451,452,453,454,455,456,457,458,459,460,461,462,463,464,465,466,467,468,469,470,471,472,473,474,475,476,477,478,479,480,481,482,483,484,485,486,487,488,489,490,491,492,493,494,495,496,497,498,499,500,501,502,503,504,505,506,507,508,509,510,511,512,513,514,515,516,517,518,519,520,521,522,523,524,525,526,527,528,529,530,531,532,533,534,535,536,537,538,539,540,541,542,543,544,545,546,547,548,549,550,551,552,553,554,555,556,557,558,559,560,561,562,563,564,565,566,567,568,569,570,571,572,573,574,575,576,577,578,579,580,581,582,583,584,585,586,587,588,589,590,591,592,593,594,595,596,597,598,599,600,601,602,603,604,605,606,607,608,609,610,611,612,613,614,615,616,617,618,619,620,621,622,623,624,625,626,627,628,629,630,631,632,633,634,635,636,637,638,639,640,641,642,643,644,645,646,647,648,649,650,651,652,653,654,655,656,657,658,659,660,661,662,663,664,665,666,667,668,669,670,671,672,673,674,675,676,677,678,679,680,681,682,683,684,685,686,687,688,689,690,691,692,693,694,695,696,697,698,699,700,701,702,703,704,705,706,707,708,709,710,711,712,713,714,715,716,717,718,719,720,721,722,723,724,725,726,727,728,729,730,731,732,733,734,735,736,737,738,739,740,741,742,743,744,745,746,747,748,749,750,751,752,753,754,755,756,757,758,759,760,761,762,763,764,765,766,767,768,769,770,771,772,773,774,775,776,777,778,779,780,781,782,783,784,785,786,787,788,789,790,791,792,793,794,795,796,797,798,799,800,801,802,803,804,805,806,807,808,809,810,811,812,813,814,815,816,817,818,819,820,821,822,823,824,825,826,827,828,829,830,831,832,833,834,835,836,837,838,839,840,841,842,843,844,845,846,847,848,849,850,851,852,853,854,855,856,857,858,859,860,861,862,863,864,865,866,867,868,869,870,871,872,873,874,875,876,877,878,879,880,881,882,883,884,885,886,887,888,889,890,891,892,893,894,895,896,897,898,899,900,901,902,903,904,905,906,907,908,909,910,911,912,913,914,915,916,917,918,919,920,921,922,923,924,925,926,927,928,929,930,931,932,933,934,935,936,937,938,939,940,941,942,943,944,945,946,947,948,949,950,951,952,953,954,955,956,957,958,959,960,961,962,963,964,965,966,967,968,969,970,971,972,973,974,975,976,977,978,979,980,981,982,983,984,985,986,987,988,989,990,991,992,993,994,995,996,997,998,999,1000,1001,1002,1003,1004,1005,1006,1007,1008,1009,1010,1011,1012,1013,1014,1015,1016,1017,1018,1019,1020,1021,1022,1023,1024,1025,1026,1027,1028,1029,1030,1031,1032,1033,1034,1035,1036,1037,1038,1039,1040,1041,1042,1043,1044,1045,1046,1047,1048,1049,1050,1051,1052,1053,1054,1055,1056,1057,1058,1059,1060,1061,1062,1063,1064,1065,1066,1067,1068,1069,1070,1071,1072,1073,1074,1075,1076,1077,1078,1079,1080,1081,1082,1083,1084,1085,1086,1087,1088,1089,1090,1091,1092,1093,1094,1095,1096,1097,1098,1099,1100,1101,1102,1103,1104,1105,1106,1107,1108,1109,1110,1111,1112,1113,1114,1115,1116,1117,1118,1119,1120,1121,1122,1123,1124,1125,1126,1127,1128,1129,1130,1131,1132,1133,1134,1135,1136,1137,1138,1139,1140,1141,1142,1143,1144,1145,1146,1147,1148,1149,1150,1151,1152,1153,1154,1155,1156,1157,1158,1159,1160,1161,1162,1163,1164,1165,1166,1167,1168,1169,1170,1171,1172,1173,1174,1175,1176,1177,1178,1179,1180,1181,1182,1183,1184,1185,1186,1187,1188,1189,1190,1191,1192,1193,1194,1195,1196,1197,1198,1199,1200,1201,1202,1203,1204,1205,1206,1207,1208,1209,1210,1211,1212,1213,1214,1215,1216,1217,1218,1219,1220,1221,1222,1223,1224,1225,1226,1227,1228,1229,1230,1231,1232,1233,1234,1235,1236,1237,1238,1239,1240,1241,1242,1243,1244,1245,1246,1247,1248,1249,1250,1251,1252,1253,1254,1255,1256,1257,1258,1259,1260,1261,1262,1263,1264,1265,1266,1267,1268,1269,1270,1271,1272,1273,1274,1275,1276,1277,1278,1279,1280,1281,1282,1283,1284,1285,1286,1287,1288,1289,1290,1291,1292,1293,1294,1295,1296,1297,1298,1299,1300,1301,1302,1303,1304,1305,1306,1307,1308,1309,1310,1311,1312,1313,1314,1315,1316,1317,1318,1319,1320,1321,1322,1323,1324,1325,1326,1327,1328,1329,1330,1331,1332,1333,1334,1335,1336,1337,1338,1339,1340,1341,1342,1343,1344,1345,1346,1347,1348,1349,1350,1351,1352,1353,1354,1355,1356,1357,1358,1359,1360,1361,1362,1363,1364,1365,1366,1367,1368,1369,1370,1371,1372,1373,1374,1375,1376,1377,1378,1379,1380,1381,1382,1383,1384,1385,1386,1387,1388,1389,1390,1391,1392,1393,1394,1395,1396,1397,1398,1399,1400,1401,1402,1403,1404,1405,1406,1407,1408,1409,1410,1411,1412,1413,1414,1415,1416,1417,1418,1419,1420,1421,1422,1423,1424,1425,1426,1427,1428,1429,1430,1431,1432,1433,1434,1435,1436,1437,1438,1439,1440,1441,1442,1443,1444,1445,1446,1447,1448,1449,1450,1451,1452,1453,1454,1455,1456,1457,1458,1459,1460,1461,1462,1463,1464,1465,1466,1467,1468,1469,1470,1471,1472,1473,1474,1475,1476,1477,1478,1479,1480,1481,1482,1483,1484,1485,1486,1487,1488,1489,1490,1491,1492,1493,1494,1495,1496,1497,1498,1499,1500,1501,1502,1503,1504,1505,1506,1507,1508,1509,1510,1511,1512,1513,1514,1515,1516,1517,1518,1519,1520,1521,1522,1523,1524,1525,1526,1527,1528,1529,1530,1531,1532,1533,1534,1535,1536,1537,1538,1539,1540,1541,1542,1543,1544,1545,1546,1547,1548,1549,1550,1551,1552,1553,1554,1555,1556,1557,1558,1559,1560,1561,1562,1563,1564,1565,1566,1567,1568,1569,1570,1571,1572,1573,1574,1575,1576,1577,1578,1579,1580,1581,1582,1583,1584,1585,1586,1587,1588,1589,1590,1591,1592,1593,1594,1595,1596,1597,1598,1599,1600,1601,1602,1603,1604,1605,1606,1607,1608,1609,1610,1611,1612,1613,1614,1615,1616,1617,1618,1619,1620,1621,1622,1623,1624,1625,1626,1627,1628,1629,1630,1631,1632,1633,1634,1635,1636,1637,1638,1639,1640,1641,1642,1643,1644,1645,1646,1647,1648,1649,1650,1651,1652,1653,1654,1655,1656,1657,1658,1659,1660,1661,1662,1663,1664,1665,1666,1667,1668,1669,1670,1671,1672,1673,1674,1675,1676,1677,1678,1679,1680,1681,1682,1683,1684,1685,1686,1687,1688,1689,1690,1691,1692,1693,1694,1695,1696,1697,1698,1699,1700,1701,1702,1703,1704,1705,1706,1707,1708,1709,1710,1711,1712,1713,1714,1715,1716,1717,1718,1719,1720,1721,1722,1723,1724,1725,1726,1727,1728,1729,1730,1731,1732,1733,1734,1735,1736,1737,1738,1739,1740,1741,1742,1743,1744,1745,1746,1747,1748,1749,1750,1751,1752,1753,1754,1755,1756,1757,1758,1759,1760,1761,1762,1763,1764,1765,1766,1767,1768,1769,1770,1771,1772,1773,1774,1775,1776,1777,1778,1779,1780,1781,1782,1783,1784,1785,1786,1787,1788,1789,1790,1791,1792,1793,1794,1795,1796,1797,1798,1799,1800,1801,1802,1803,1804,1805,1806,1807,1808,1809,1810,1811,1812,1813,1814,1815,1816,1817,1818,1819,1820,1821,1822,1823,1824,1825,1826,1827,1828,1829,1830,1831,1832,1833,1834,1835,1836,1837,1838,1839,1840,1841,1842,1843,1844,1845,1846,1847,1848,1849,1850,1851,1852,1853,1854,1855,1856,1857,1858,1859,1860,1861,1862,1863,1864,1865,1866,1867,1868,1869,1870,1871,1872,1873,1874,1875,1876,1877,1878,1879,1880,1881,1882,1883,1884,1885,1886,1887,1888,1889,1890,1891,1892,1893,1894,1895,1896,1897,1898,1899,1900,1901,1902,1903,1904,1905,1906,1907,1908,1909,1910,1911,1912,1913,1914,1915,1916,1917,1918,1919,1920,1921,1922,1923,1924,1925,1926,1927,1928,1929,1930,1931,1932,1933,1934,1935,1936,1937,1938,1939,1940,1941,1942,1943,1944,1945,1946,1947,1948,1949,1950,1951,1952,1953,1954,1955,1956,1957,1958,1959,1960,1961,1962,1963,1964,1965,1966,1967,1968,1969,1970,1971,1972,1973,1974,1975,1976,1977,1978,1979,1980,1981,1982,1983,1984,1985,1986,1987,1988,1989,1990,1991,1992,1993,1994,1995,1996,1997,1998,1999,2000,2001,2002,2003,2004,2005,2006,2007,2008,2009,2010,2011,2012,2013,2014,2015,2016,2017,2018,2019,2020,2021,2022,2023,2024,2025,2026,2027,2028,2029,2030,2031,2032,2033,2034],\"type\":\"candlestick\"}],                        {\"template\":{\"data\":{\"histogram2dcontour\":[{\"type\":\"histogram2dcontour\",\"colorbar\":{\"outlinewidth\":0,\"ticks\":\"\"},\"colorscale\":[[0.0,\"#0d0887\"],[0.1111111111111111,\"#46039f\"],[0.2222222222222222,\"#7201a8\"],[0.3333333333333333,\"#9c179e\"],[0.4444444444444444,\"#bd3786\"],[0.5555555555555556,\"#d8576b\"],[0.6666666666666666,\"#ed7953\"],[0.7777777777777778,\"#fb9f3a\"],[0.8888888888888888,\"#fdca26\"],[1.0,\"#f0f921\"]]}],\"choropleth\":[{\"type\":\"choropleth\",\"colorbar\":{\"outlinewidth\":0,\"ticks\":\"\"}}],\"histogram2d\":[{\"type\":\"histogram2d\",\"colorbar\":{\"outlinewidth\":0,\"ticks\":\"\"},\"colorscale\":[[0.0,\"#0d0887\"],[0.1111111111111111,\"#46039f\"],[0.2222222222222222,\"#7201a8\"],[0.3333333333333333,\"#9c179e\"],[0.4444444444444444,\"#bd3786\"],[0.5555555555555556,\"#d8576b\"],[0.6666666666666666,\"#ed7953\"],[0.7777777777777778,\"#fb9f3a\"],[0.8888888888888888,\"#fdca26\"],[1.0,\"#f0f921\"]]}],\"heatmap\":[{\"type\":\"heatmap\",\"colorbar\":{\"outlinewidth\":0,\"ticks\":\"\"},\"colorscale\":[[0.0,\"#0d0887\"],[0.1111111111111111,\"#46039f\"],[0.2222222222222222,\"#7201a8\"],[0.3333333333333333,\"#9c179e\"],[0.4444444444444444,\"#bd3786\"],[0.5555555555555556,\"#d8576b\"],[0.6666666666666666,\"#ed7953\"],[0.7777777777777778,\"#fb9f3a\"],[0.8888888888888888,\"#fdca26\"],[1.0,\"#f0f921\"]]}],\"heatmapgl\":[{\"type\":\"heatmapgl\",\"colorbar\":{\"outlinewidth\":0,\"ticks\":\"\"},\"colorscale\":[[0.0,\"#0d0887\"],[0.1111111111111111,\"#46039f\"],[0.2222222222222222,\"#7201a8\"],[0.3333333333333333,\"#9c179e\"],[0.4444444444444444,\"#bd3786\"],[0.5555555555555556,\"#d8576b\"],[0.6666666666666666,\"#ed7953\"],[0.7777777777777778,\"#fb9f3a\"],[0.8888888888888888,\"#fdca26\"],[1.0,\"#f0f921\"]]}],\"contourcarpet\":[{\"type\":\"contourcarpet\",\"colorbar\":{\"outlinewidth\":0,\"ticks\":\"\"}}],\"contour\":[{\"type\":\"contour\",\"colorbar\":{\"outlinewidth\":0,\"ticks\":\"\"},\"colorscale\":[[0.0,\"#0d0887\"],[0.1111111111111111,\"#46039f\"],[0.2222222222222222,\"#7201a8\"],[0.3333333333333333,\"#9c179e\"],[0.4444444444444444,\"#bd3786\"],[0.5555555555555556,\"#d8576b\"],[0.6666666666666666,\"#ed7953\"],[0.7777777777777778,\"#fb9f3a\"],[0.8888888888888888,\"#fdca26\"],[1.0,\"#f0f921\"]]}],\"surface\":[{\"type\":\"surface\",\"colorbar\":{\"outlinewidth\":0,\"ticks\":\"\"},\"colorscale\":[[0.0,\"#0d0887\"],[0.1111111111111111,\"#46039f\"],[0.2222222222222222,\"#7201a8\"],[0.3333333333333333,\"#9c179e\"],[0.4444444444444444,\"#bd3786\"],[0.5555555555555556,\"#d8576b\"],[0.6666666666666666,\"#ed7953\"],[0.7777777777777778,\"#fb9f3a\"],[0.8888888888888888,\"#fdca26\"],[1.0,\"#f0f921\"]]}],\"mesh3d\":[{\"type\":\"mesh3d\",\"colorbar\":{\"outlinewidth\":0,\"ticks\":\"\"}}],\"scatter\":[{\"fillpattern\":{\"fillmode\":\"overlay\",\"size\":10,\"solidity\":0.2},\"type\":\"scatter\"}],\"parcoords\":[{\"type\":\"parcoords\",\"line\":{\"colorbar\":{\"outlinewidth\":0,\"ticks\":\"\"}}}],\"scatterpolargl\":[{\"type\":\"scatterpolargl\",\"marker\":{\"colorbar\":{\"outlinewidth\":0,\"ticks\":\"\"}}}],\"bar\":[{\"error_x\":{\"color\":\"#2a3f5f\"},\"error_y\":{\"color\":\"#2a3f5f\"},\"marker\":{\"line\":{\"color\":\"#E5ECF6\",\"width\":0.5},\"pattern\":{\"fillmode\":\"overlay\",\"size\":10,\"solidity\":0.2}},\"type\":\"bar\"}],\"scattergeo\":[{\"type\":\"scattergeo\",\"marker\":{\"colorbar\":{\"outlinewidth\":0,\"ticks\":\"\"}}}],\"scatterpolar\":[{\"type\":\"scatterpolar\",\"marker\":{\"colorbar\":{\"outlinewidth\":0,\"ticks\":\"\"}}}],\"histogram\":[{\"marker\":{\"pattern\":{\"fillmode\":\"overlay\",\"size\":10,\"solidity\":0.2}},\"type\":\"histogram\"}],\"scattergl\":[{\"type\":\"scattergl\",\"marker\":{\"colorbar\":{\"outlinewidth\":0,\"ticks\":\"\"}}}],\"scatter3d\":[{\"type\":\"scatter3d\",\"line\":{\"colorbar\":{\"outlinewidth\":0,\"ticks\":\"\"}},\"marker\":{\"colorbar\":{\"outlinewidth\":0,\"ticks\":\"\"}}}],\"scattermapbox\":[{\"type\":\"scattermapbox\",\"marker\":{\"colorbar\":{\"outlinewidth\":0,\"ticks\":\"\"}}}],\"scatterternary\":[{\"type\":\"scatterternary\",\"marker\":{\"colorbar\":{\"outlinewidth\":0,\"ticks\":\"\"}}}],\"scattercarpet\":[{\"type\":\"scattercarpet\",\"marker\":{\"colorbar\":{\"outlinewidth\":0,\"ticks\":\"\"}}}],\"carpet\":[{\"aaxis\":{\"endlinecolor\":\"#2a3f5f\",\"gridcolor\":\"white\",\"linecolor\":\"white\",\"minorgridcolor\":\"white\",\"startlinecolor\":\"#2a3f5f\"},\"baxis\":{\"endlinecolor\":\"#2a3f5f\",\"gridcolor\":\"white\",\"linecolor\":\"white\",\"minorgridcolor\":\"white\",\"startlinecolor\":\"#2a3f5f\"},\"type\":\"carpet\"}],\"table\":[{\"cells\":{\"fill\":{\"color\":\"#EBF0F8\"},\"line\":{\"color\":\"white\"}},\"header\":{\"fill\":{\"color\":\"#C8D4E3\"},\"line\":{\"color\":\"white\"}},\"type\":\"table\"}],\"barpolar\":[{\"marker\":{\"line\":{\"color\":\"#E5ECF6\",\"width\":0.5},\"pattern\":{\"fillmode\":\"overlay\",\"size\":10,\"solidity\":0.2}},\"type\":\"barpolar\"}],\"pie\":[{\"automargin\":true,\"type\":\"pie\"}]},\"layout\":{\"autotypenumbers\":\"strict\",\"colorway\":[\"#636efa\",\"#EF553B\",\"#00cc96\",\"#ab63fa\",\"#FFA15A\",\"#19d3f3\",\"#FF6692\",\"#B6E880\",\"#FF97FF\",\"#FECB52\"],\"font\":{\"color\":\"#2a3f5f\"},\"hovermode\":\"closest\",\"hoverlabel\":{\"align\":\"left\"},\"paper_bgcolor\":\"white\",\"plot_bgcolor\":\"#E5ECF6\",\"polar\":{\"bgcolor\":\"#E5ECF6\",\"angularaxis\":{\"gridcolor\":\"white\",\"linecolor\":\"white\",\"ticks\":\"\"},\"radialaxis\":{\"gridcolor\":\"white\",\"linecolor\":\"white\",\"ticks\":\"\"}},\"ternary\":{\"bgcolor\":\"#E5ECF6\",\"aaxis\":{\"gridcolor\":\"white\",\"linecolor\":\"white\",\"ticks\":\"\"},\"baxis\":{\"gridcolor\":\"white\",\"linecolor\":\"white\",\"ticks\":\"\"},\"caxis\":{\"gridcolor\":\"white\",\"linecolor\":\"white\",\"ticks\":\"\"}},\"coloraxis\":{\"colorbar\":{\"outlinewidth\":0,\"ticks\":\"\"}},\"colorscale\":{\"sequential\":[[0.0,\"#0d0887\"],[0.1111111111111111,\"#46039f\"],[0.2222222222222222,\"#7201a8\"],[0.3333333333333333,\"#9c179e\"],[0.4444444444444444,\"#bd3786\"],[0.5555555555555556,\"#d8576b\"],[0.6666666666666666,\"#ed7953\"],[0.7777777777777778,\"#fb9f3a\"],[0.8888888888888888,\"#fdca26\"],[1.0,\"#f0f921\"]],\"sequentialminus\":[[0.0,\"#0d0887\"],[0.1111111111111111,\"#46039f\"],[0.2222222222222222,\"#7201a8\"],[0.3333333333333333,\"#9c179e\"],[0.4444444444444444,\"#bd3786\"],[0.5555555555555556,\"#d8576b\"],[0.6666666666666666,\"#ed7953\"],[0.7777777777777778,\"#fb9f3a\"],[0.8888888888888888,\"#fdca26\"],[1.0,\"#f0f921\"]],\"diverging\":[[0,\"#8e0152\"],[0.1,\"#c51b7d\"],[0.2,\"#de77ae\"],[0.3,\"#f1b6da\"],[0.4,\"#fde0ef\"],[0.5,\"#f7f7f7\"],[0.6,\"#e6f5d0\"],[0.7,\"#b8e186\"],[0.8,\"#7fbc41\"],[0.9,\"#4d9221\"],[1,\"#276419\"]]},\"xaxis\":{\"gridcolor\":\"white\",\"linecolor\":\"white\",\"ticks\":\"\",\"title\":{\"standoff\":15},\"zerolinecolor\":\"white\",\"automargin\":true,\"zerolinewidth\":2},\"yaxis\":{\"gridcolor\":\"white\",\"linecolor\":\"white\",\"ticks\":\"\",\"title\":{\"standoff\":15},\"zerolinecolor\":\"white\",\"automargin\":true,\"zerolinewidth\":2},\"scene\":{\"xaxis\":{\"backgroundcolor\":\"#E5ECF6\",\"gridcolor\":\"white\",\"linecolor\":\"white\",\"showbackground\":true,\"ticks\":\"\",\"zerolinecolor\":\"white\",\"gridwidth\":2},\"yaxis\":{\"backgroundcolor\":\"#E5ECF6\",\"gridcolor\":\"white\",\"linecolor\":\"white\",\"showbackground\":true,\"ticks\":\"\",\"zerolinecolor\":\"white\",\"gridwidth\":2},\"zaxis\":{\"backgroundcolor\":\"#E5ECF6\",\"gridcolor\":\"white\",\"linecolor\":\"white\",\"showbackground\":true,\"ticks\":\"\",\"zerolinecolor\":\"white\",\"gridwidth\":2}},\"shapedefaults\":{\"line\":{\"color\":\"#2a3f5f\"}},\"annotationdefaults\":{\"arrowcolor\":\"#2a3f5f\",\"arrowhead\":0,\"arrowwidth\":1},\"geo\":{\"bgcolor\":\"white\",\"landcolor\":\"#E5ECF6\",\"subunitcolor\":\"white\",\"showland\":true,\"showlakes\":true,\"lakecolor\":\"white\"},\"title\":{\"x\":0.05},\"mapbox\":{\"style\":\"light\"}}},\"title\":{\"text\":\"Candlestick Chart\"},\"xaxis\":{\"title\":{\"text\":\"Date\"}},\"yaxis\":{\"title\":{\"text\":\"Price\"}}},                        {\"responsive\": true}                    ).then(function(){\n",
       "                            \n",
       "var gd = document.getElementById('ab7211be-7fbd-42ee-8ba4-bd1cd40148fd');\n",
       "var x = new MutationObserver(function (mutations, observer) {{\n",
       "        var display = window.getComputedStyle(gd).display;\n",
       "        if (!display || display === 'none') {{\n",
       "            console.log([gd, 'removed!']);\n",
       "            Plotly.purge(gd);\n",
       "            observer.disconnect();\n",
       "        }}\n",
       "}});\n",
       "\n",
       "// Listen for the removal of the full notebook cells\n",
       "var notebookContainer = gd.closest('#notebook-container');\n",
       "if (notebookContainer) {{\n",
       "    x.observe(notebookContainer, {childList: true});\n",
       "}}\n",
       "\n",
       "// Listen for the clearing of the current output cell\n",
       "var outputEl = gd.closest('.output');\n",
       "if (outputEl) {{\n",
       "    x.observe(outputEl, {childList: true});\n",
       "}}\n",
       "\n",
       "                        })                };                });            </script>        </div>"
      ]
     },
     "metadata": {},
     "output_type": "display_data"
    }
   ],
   "source": [
    "import plotly.graph_objects as go\n",
    "\n",
    "fig = go.Figure(data=[go.Candlestick(x=df.index,\n",
    "                                     open=df['Open'],\n",
    "                                     high=df['High'],\n",
    "                                     low=df['Low'],\n",
    "                                     close=df['Close'])])\n",
    "fig.update_layout(title='Candlestick Chart', xaxis_title='Date', yaxis_title='Price')\n",
    "fig.show()"
   ]
  },
  {
   "cell_type": "code",
   "execution_count": 14,
   "id": "6ddb6e55",
   "metadata": {
    "execution": {
     "iopub.execute_input": "2024-09-24T18:01:10.398610Z",
     "iopub.status.busy": "2024-09-24T18:01:10.398156Z",
     "iopub.status.idle": "2024-09-24T18:01:10.536353Z",
     "shell.execute_reply": "2024-09-24T18:01:10.535093Z"
    },
    "id": "ORNNAsXJ4JA2",
    "outputId": "ae918dcc-40e0-49f6-e10c-9c4d8db9af75",
    "papermill": {
     "duration": 0.156306,
     "end_time": "2024-09-24T18:01:10.539046",
     "exception": false,
     "start_time": "2024-09-24T18:01:10.382740",
     "status": "completed"
    },
    "tags": []
   },
   "outputs": [
    {
     "data": {
      "text/html": [
       "<div>                            <div id=\"fef1d0c2-b84e-4dbc-939f-539477b80b65\" class=\"plotly-graph-div\" style=\"height:525px; width:100%;\"></div>            <script type=\"text/javascript\">                require([\"plotly\"], function(Plotly) {                    window.PLOTLYENV=window.PLOTLYENV || {};                                    if (document.getElementById(\"fef1d0c2-b84e-4dbc-939f-539477b80b65\")) {                    Plotly.newPlot(                        \"fef1d0c2-b84e-4dbc-939f-539477b80b65\",                        [{\"alignmentgroup\":\"True\",\"hovertemplate\":\"month=%{x}\\u003cbr\\u003eTurnover (Lacs)=%{y}\\u003cbr\\u003eyear=%{marker.color}\\u003cextra\\u003e\\u003c\\u002fextra\\u003e\",\"legendgroup\":\"\",\"marker\":{\"color\":[2010,2010,2010,2010,2010,2010,2011,2011,2011,2011,2011,2011,2011,2011,2011,2011,2011,2011,2012,2012,2012,2012,2012,2012,2012,2012,2012,2012,2012,2012,2013,2013,2013,2013,2013,2013,2013,2013,2013,2013,2013,2013,2014,2014,2014,2014,2014,2014,2014,2014,2014,2014,2014,2014,2015,2015,2015,2015,2015,2015,2015,2015,2015,2015,2015,2015,2016,2016,2016,2016,2016,2016,2016,2016,2016,2016,2016,2016,2017,2017,2017,2017,2017,2017,2017,2017,2017,2017,2017,2017,2018,2018,2018,2018,2018,2018,2018,2018,2018],\"coloraxis\":\"coloraxis\",\"pattern\":{\"shape\":\"\"}},\"name\":\"\",\"offsetgroup\":\"\",\"orientation\":\"v\",\"showlegend\":false,\"textposition\":\"auto\",\"x\":[7,8,9,10,11,12,1,2,3,4,5,6,7,8,9,10,11,12,1,2,3,4,5,6,7,8,9,10,11,12,1,2,3,4,5,6,7,8,9,10,11,12,1,2,3,4,5,6,7,8,9,10,11,12,1,2,3,4,5,6,7,8,9,10,11,12,1,2,3,4,5,6,7,8,9,10,11,12,1,2,3,4,5,6,7,8,9,10,11,12,1,2,3,4,5,6,7,8,9],\"xaxis\":\"x\",\"y\":[9871.75,31961.6,37124.83,42144.81,30944.7,21376.66,22825.09,13832.76,41484.58,21710.05,13242.029999999999,31470.25,39002.85,53533.64,21621.73,18122.010000000002,15606.76,11779.11,50835.64,125174.09,49961.98,45772.05,31233.0,34130.29,46466.9,56871.19,52006.28,123034.11,136697.27,87121.44,100810.45,89023.21,62391.45,56214.31,83902.24,61225.5,96170.98,63213.22,39306.21,79413.0,92316.19,82921.74,76537.83,40880.25,65733.7,66231.29000000001,82203.15,197962.55,115106.44,50463.44,115717.14,66024.1,74337.54,67221.01,66953.3,57046.24,57474.9,66324.81,51618.67,50498.18,54315.07,59064.439999999995,35308.37,25714.86,20562.19,30234.42,33250.67,42240.77,35107.74,24830.9,24392.91,52684.45,58466.72,65214.62,65433.26,106901.47,64500.44,26603.54,27972.48,50854.59,77225.94,45205.06,56176.42,72580.3,166654.5,267875.32,205287.07,170614.65,421898.33,308905.81,245825.15,232857.95,149776.67,188578.56,222201.04,148410.53,165647.63999999998,144077.97,150805.14],\"yaxis\":\"y\",\"type\":\"bar\"}],                        {\"template\":{\"data\":{\"histogram2dcontour\":[{\"type\":\"histogram2dcontour\",\"colorbar\":{\"outlinewidth\":0,\"ticks\":\"\"},\"colorscale\":[[0.0,\"#0d0887\"],[0.1111111111111111,\"#46039f\"],[0.2222222222222222,\"#7201a8\"],[0.3333333333333333,\"#9c179e\"],[0.4444444444444444,\"#bd3786\"],[0.5555555555555556,\"#d8576b\"],[0.6666666666666666,\"#ed7953\"],[0.7777777777777778,\"#fb9f3a\"],[0.8888888888888888,\"#fdca26\"],[1.0,\"#f0f921\"]]}],\"choropleth\":[{\"type\":\"choropleth\",\"colorbar\":{\"outlinewidth\":0,\"ticks\":\"\"}}],\"histogram2d\":[{\"type\":\"histogram2d\",\"colorbar\":{\"outlinewidth\":0,\"ticks\":\"\"},\"colorscale\":[[0.0,\"#0d0887\"],[0.1111111111111111,\"#46039f\"],[0.2222222222222222,\"#7201a8\"],[0.3333333333333333,\"#9c179e\"],[0.4444444444444444,\"#bd3786\"],[0.5555555555555556,\"#d8576b\"],[0.6666666666666666,\"#ed7953\"],[0.7777777777777778,\"#fb9f3a\"],[0.8888888888888888,\"#fdca26\"],[1.0,\"#f0f921\"]]}],\"heatmap\":[{\"type\":\"heatmap\",\"colorbar\":{\"outlinewidth\":0,\"ticks\":\"\"},\"colorscale\":[[0.0,\"#0d0887\"],[0.1111111111111111,\"#46039f\"],[0.2222222222222222,\"#7201a8\"],[0.3333333333333333,\"#9c179e\"],[0.4444444444444444,\"#bd3786\"],[0.5555555555555556,\"#d8576b\"],[0.6666666666666666,\"#ed7953\"],[0.7777777777777778,\"#fb9f3a\"],[0.8888888888888888,\"#fdca26\"],[1.0,\"#f0f921\"]]}],\"heatmapgl\":[{\"type\":\"heatmapgl\",\"colorbar\":{\"outlinewidth\":0,\"ticks\":\"\"},\"colorscale\":[[0.0,\"#0d0887\"],[0.1111111111111111,\"#46039f\"],[0.2222222222222222,\"#7201a8\"],[0.3333333333333333,\"#9c179e\"],[0.4444444444444444,\"#bd3786\"],[0.5555555555555556,\"#d8576b\"],[0.6666666666666666,\"#ed7953\"],[0.7777777777777778,\"#fb9f3a\"],[0.8888888888888888,\"#fdca26\"],[1.0,\"#f0f921\"]]}],\"contourcarpet\":[{\"type\":\"contourcarpet\",\"colorbar\":{\"outlinewidth\":0,\"ticks\":\"\"}}],\"contour\":[{\"type\":\"contour\",\"colorbar\":{\"outlinewidth\":0,\"ticks\":\"\"},\"colorscale\":[[0.0,\"#0d0887\"],[0.1111111111111111,\"#46039f\"],[0.2222222222222222,\"#7201a8\"],[0.3333333333333333,\"#9c179e\"],[0.4444444444444444,\"#bd3786\"],[0.5555555555555556,\"#d8576b\"],[0.6666666666666666,\"#ed7953\"],[0.7777777777777778,\"#fb9f3a\"],[0.8888888888888888,\"#fdca26\"],[1.0,\"#f0f921\"]]}],\"surface\":[{\"type\":\"surface\",\"colorbar\":{\"outlinewidth\":0,\"ticks\":\"\"},\"colorscale\":[[0.0,\"#0d0887\"],[0.1111111111111111,\"#46039f\"],[0.2222222222222222,\"#7201a8\"],[0.3333333333333333,\"#9c179e\"],[0.4444444444444444,\"#bd3786\"],[0.5555555555555556,\"#d8576b\"],[0.6666666666666666,\"#ed7953\"],[0.7777777777777778,\"#fb9f3a\"],[0.8888888888888888,\"#fdca26\"],[1.0,\"#f0f921\"]]}],\"mesh3d\":[{\"type\":\"mesh3d\",\"colorbar\":{\"outlinewidth\":0,\"ticks\":\"\"}}],\"scatter\":[{\"fillpattern\":{\"fillmode\":\"overlay\",\"size\":10,\"solidity\":0.2},\"type\":\"scatter\"}],\"parcoords\":[{\"type\":\"parcoords\",\"line\":{\"colorbar\":{\"outlinewidth\":0,\"ticks\":\"\"}}}],\"scatterpolargl\":[{\"type\":\"scatterpolargl\",\"marker\":{\"colorbar\":{\"outlinewidth\":0,\"ticks\":\"\"}}}],\"bar\":[{\"error_x\":{\"color\":\"#2a3f5f\"},\"error_y\":{\"color\":\"#2a3f5f\"},\"marker\":{\"line\":{\"color\":\"#E5ECF6\",\"width\":0.5},\"pattern\":{\"fillmode\":\"overlay\",\"size\":10,\"solidity\":0.2}},\"type\":\"bar\"}],\"scattergeo\":[{\"type\":\"scattergeo\",\"marker\":{\"colorbar\":{\"outlinewidth\":0,\"ticks\":\"\"}}}],\"scatterpolar\":[{\"type\":\"scatterpolar\",\"marker\":{\"colorbar\":{\"outlinewidth\":0,\"ticks\":\"\"}}}],\"histogram\":[{\"marker\":{\"pattern\":{\"fillmode\":\"overlay\",\"size\":10,\"solidity\":0.2}},\"type\":\"histogram\"}],\"scattergl\":[{\"type\":\"scattergl\",\"marker\":{\"colorbar\":{\"outlinewidth\":0,\"ticks\":\"\"}}}],\"scatter3d\":[{\"type\":\"scatter3d\",\"line\":{\"colorbar\":{\"outlinewidth\":0,\"ticks\":\"\"}},\"marker\":{\"colorbar\":{\"outlinewidth\":0,\"ticks\":\"\"}}}],\"scattermapbox\":[{\"type\":\"scattermapbox\",\"marker\":{\"colorbar\":{\"outlinewidth\":0,\"ticks\":\"\"}}}],\"scatterternary\":[{\"type\":\"scatterternary\",\"marker\":{\"colorbar\":{\"outlinewidth\":0,\"ticks\":\"\"}}}],\"scattercarpet\":[{\"type\":\"scattercarpet\",\"marker\":{\"colorbar\":{\"outlinewidth\":0,\"ticks\":\"\"}}}],\"carpet\":[{\"aaxis\":{\"endlinecolor\":\"#2a3f5f\",\"gridcolor\":\"white\",\"linecolor\":\"white\",\"minorgridcolor\":\"white\",\"startlinecolor\":\"#2a3f5f\"},\"baxis\":{\"endlinecolor\":\"#2a3f5f\",\"gridcolor\":\"white\",\"linecolor\":\"white\",\"minorgridcolor\":\"white\",\"startlinecolor\":\"#2a3f5f\"},\"type\":\"carpet\"}],\"table\":[{\"cells\":{\"fill\":{\"color\":\"#EBF0F8\"},\"line\":{\"color\":\"white\"}},\"header\":{\"fill\":{\"color\":\"#C8D4E3\"},\"line\":{\"color\":\"white\"}},\"type\":\"table\"}],\"barpolar\":[{\"marker\":{\"line\":{\"color\":\"#E5ECF6\",\"width\":0.5},\"pattern\":{\"fillmode\":\"overlay\",\"size\":10,\"solidity\":0.2}},\"type\":\"barpolar\"}],\"pie\":[{\"automargin\":true,\"type\":\"pie\"}]},\"layout\":{\"autotypenumbers\":\"strict\",\"colorway\":[\"#636efa\",\"#EF553B\",\"#00cc96\",\"#ab63fa\",\"#FFA15A\",\"#19d3f3\",\"#FF6692\",\"#B6E880\",\"#FF97FF\",\"#FECB52\"],\"font\":{\"color\":\"#2a3f5f\"},\"hovermode\":\"closest\",\"hoverlabel\":{\"align\":\"left\"},\"paper_bgcolor\":\"white\",\"plot_bgcolor\":\"#E5ECF6\",\"polar\":{\"bgcolor\":\"#E5ECF6\",\"angularaxis\":{\"gridcolor\":\"white\",\"linecolor\":\"white\",\"ticks\":\"\"},\"radialaxis\":{\"gridcolor\":\"white\",\"linecolor\":\"white\",\"ticks\":\"\"}},\"ternary\":{\"bgcolor\":\"#E5ECF6\",\"aaxis\":{\"gridcolor\":\"white\",\"linecolor\":\"white\",\"ticks\":\"\"},\"baxis\":{\"gridcolor\":\"white\",\"linecolor\":\"white\",\"ticks\":\"\"},\"caxis\":{\"gridcolor\":\"white\",\"linecolor\":\"white\",\"ticks\":\"\"}},\"coloraxis\":{\"colorbar\":{\"outlinewidth\":0,\"ticks\":\"\"}},\"colorscale\":{\"sequential\":[[0.0,\"#0d0887\"],[0.1111111111111111,\"#46039f\"],[0.2222222222222222,\"#7201a8\"],[0.3333333333333333,\"#9c179e\"],[0.4444444444444444,\"#bd3786\"],[0.5555555555555556,\"#d8576b\"],[0.6666666666666666,\"#ed7953\"],[0.7777777777777778,\"#fb9f3a\"],[0.8888888888888888,\"#fdca26\"],[1.0,\"#f0f921\"]],\"sequentialminus\":[[0.0,\"#0d0887\"],[0.1111111111111111,\"#46039f\"],[0.2222222222222222,\"#7201a8\"],[0.3333333333333333,\"#9c179e\"],[0.4444444444444444,\"#bd3786\"],[0.5555555555555556,\"#d8576b\"],[0.6666666666666666,\"#ed7953\"],[0.7777777777777778,\"#fb9f3a\"],[0.8888888888888888,\"#fdca26\"],[1.0,\"#f0f921\"]],\"diverging\":[[0,\"#8e0152\"],[0.1,\"#c51b7d\"],[0.2,\"#de77ae\"],[0.3,\"#f1b6da\"],[0.4,\"#fde0ef\"],[0.5,\"#f7f7f7\"],[0.6,\"#e6f5d0\"],[0.7,\"#b8e186\"],[0.8,\"#7fbc41\"],[0.9,\"#4d9221\"],[1,\"#276419\"]]},\"xaxis\":{\"gridcolor\":\"white\",\"linecolor\":\"white\",\"ticks\":\"\",\"title\":{\"standoff\":15},\"zerolinecolor\":\"white\",\"automargin\":true,\"zerolinewidth\":2},\"yaxis\":{\"gridcolor\":\"white\",\"linecolor\":\"white\",\"ticks\":\"\",\"title\":{\"standoff\":15},\"zerolinecolor\":\"white\",\"automargin\":true,\"zerolinewidth\":2},\"scene\":{\"xaxis\":{\"backgroundcolor\":\"#E5ECF6\",\"gridcolor\":\"white\",\"linecolor\":\"white\",\"showbackground\":true,\"ticks\":\"\",\"zerolinecolor\":\"white\",\"gridwidth\":2},\"yaxis\":{\"backgroundcolor\":\"#E5ECF6\",\"gridcolor\":\"white\",\"linecolor\":\"white\",\"showbackground\":true,\"ticks\":\"\",\"zerolinecolor\":\"white\",\"gridwidth\":2},\"zaxis\":{\"backgroundcolor\":\"#E5ECF6\",\"gridcolor\":\"white\",\"linecolor\":\"white\",\"showbackground\":true,\"ticks\":\"\",\"zerolinecolor\":\"white\",\"gridwidth\":2}},\"shapedefaults\":{\"line\":{\"color\":\"#2a3f5f\"}},\"annotationdefaults\":{\"arrowcolor\":\"#2a3f5f\",\"arrowhead\":0,\"arrowwidth\":1},\"geo\":{\"bgcolor\":\"white\",\"landcolor\":\"#E5ECF6\",\"subunitcolor\":\"white\",\"showland\":true,\"showlakes\":true,\"lakecolor\":\"white\"},\"title\":{\"x\":0.05},\"mapbox\":{\"style\":\"light\"}}},\"xaxis\":{\"anchor\":\"y\",\"domain\":[0.0,1.0],\"title\":{\"text\":\"month\"}},\"yaxis\":{\"anchor\":\"x\",\"domain\":[0.0,1.0],\"title\":{\"text\":\"Turnover (Lacs)\"}},\"coloraxis\":{\"colorbar\":{\"title\":{\"text\":\"year\"}},\"colorscale\":[[0.0,\"#0d0887\"],[0.1111111111111111,\"#46039f\"],[0.2222222222222222,\"#7201a8\"],[0.3333333333333333,\"#9c179e\"],[0.4444444444444444,\"#bd3786\"],[0.5555555555555556,\"#d8576b\"],[0.6666666666666666,\"#ed7953\"],[0.7777777777777778,\"#fb9f3a\"],[0.8888888888888888,\"#fdca26\"],[1.0,\"#f0f921\"]]},\"legend\":{\"tracegroupgap\":0},\"title\":{\"text\":\"Monthly Turnover\"},\"barmode\":\"relative\"},                        {\"responsive\": true}                    ).then(function(){\n",
       "                            \n",
       "var gd = document.getElementById('fef1d0c2-b84e-4dbc-939f-539477b80b65');\n",
       "var x = new MutationObserver(function (mutations, observer) {{\n",
       "        var display = window.getComputedStyle(gd).display;\n",
       "        if (!display || display === 'none') {{\n",
       "            console.log([gd, 'removed!']);\n",
       "            Plotly.purge(gd);\n",
       "            observer.disconnect();\n",
       "        }}\n",
       "}});\n",
       "\n",
       "// Listen for the removal of the full notebook cells\n",
       "var notebookContainer = gd.closest('#notebook-container');\n",
       "if (notebookContainer) {{\n",
       "    x.observe(notebookContainer, {childList: true});\n",
       "}}\n",
       "\n",
       "// Listen for the clearing of the current output cell\n",
       "var outputEl = gd.closest('.output');\n",
       "if (outputEl) {{\n",
       "    x.observe(outputEl, {childList: true});\n",
       "}}\n",
       "\n",
       "                        })                };                });            </script>        </div>"
      ]
     },
     "metadata": {},
     "output_type": "display_data"
    }
   ],
   "source": [
    "# Group by year and month to show total turnover\n",
    "df_grouped = df.groupby(['year', 'month']).agg({'Turnover (Lacs)': 'sum'}).reset_index()\n",
    "\n",
    "fig = px.bar(df_grouped, x='month', y='Turnover (Lacs)', color='year', title='Monthly Turnover')\n",
    "fig.show()"
   ]
  },
  {
   "cell_type": "code",
   "execution_count": 15,
   "id": "7274b8da",
   "metadata": {
    "execution": {
     "iopub.execute_input": "2024-09-24T18:01:10.568217Z",
     "iopub.status.busy": "2024-09-24T18:01:10.567747Z",
     "iopub.status.idle": "2024-09-24T18:01:10.647870Z",
     "shell.execute_reply": "2024-09-24T18:01:10.646536Z"
    },
    "id": "4yjMStja4NqN",
    "outputId": "aa785fb8-13fb-4314-c27a-b668624828ed",
    "papermill": {
     "duration": 0.098071,
     "end_time": "2024-09-24T18:01:10.650782",
     "exception": false,
     "start_time": "2024-09-24T18:01:10.552711",
     "status": "completed"
    },
    "tags": []
   },
   "outputs": [
    {
     "data": {
      "text/html": [
       "<div>                            <div id=\"6483ae20-fd74-4e33-b5ae-d77091ac25c5\" class=\"plotly-graph-div\" style=\"height:525px; width:100%;\"></div>            <script type=\"text/javascript\">                require([\"plotly\"], function(Plotly) {                    window.PLOTLYENV=window.PLOTLYENV || {};                                    if (document.getElementById(\"6483ae20-fd74-4e33-b5ae-d77091ac25c5\")) {                    Plotly.newPlot(                        \"6483ae20-fd74-4e33-b5ae-d77091ac25c5\",                        [{\"hovertemplate\":\"Total Trade Quantity=%{x}\\u003cbr\\u003eClose=%{y}\\u003cbr\\u003emonth=%{marker.color}\\u003cextra\\u003e\\u003c\\u002fextra\\u003e\",\"legendgroup\":\"\",\"marker\":{\"color\":[9,9,9,9,9,9,9,9,9,9,9,9,9,9,9,9,9,9,8,8,8,8,8,8,8,8,8,8,8,8,8,8,8,8,8,8,8,8,8,7,7,7,7,7,7,7,7,7,7,7,7,7,7,7,7,7,7,7,7,7,7,6,6,6,6,6,6,6,6,6,6,6,6,6,6,6,6,6,6,6,6,6,5,5,5,5,5,5,5,5,5,5,5,5,5,5,5,5,5,5,5,5,5,5,4,4,4,4,4,4,4,4,4,4,4,4,4,4,4,4,4,4,4,4,4,3,3,3,3,3,3,3,3,3,3,3,3,3,3,3,3,3,3,3,2,2,2,2,2,2,2,2,2,2,2,2,2,2,2,2,2,2,2,1,1,1,1,1,1,1,1,1,1,1,1,1,1,1,1,1,1,1,1,1,1,12,12,12,12,12,12,12,12,12,12,12,12,12,12,12,12,12,12,12,12,11,11,11,11,11,11,11,11,11,11,11,11,11,11,11,11,11,11,11,11,11,11,10,10,10,10,10,10,10,10,10,10,10,10,10,10,10,10,10,10,10,10,9,9,9,9,9,9,9,9,9,9,9,9,9,9,9,9,9,9,9,9,9,8,8,8,8,8,8,8,8,8,8,8,8,8,8,8,8,8,8,8,8,8,7,7,7,7,7,7,7,7,7,7,7,7,7,7,7,7,7,7,7,7,7,6,6,6,6,6,6,6,6,6,6,6,6,6,6,6,6,6,6,6,6,6,5,5,5,5,5,5,5,5,5,5,5,5,5,5,5,5,5,5,5,5,5,5,4,4,4,4,4,4,4,4,4,4,4,4,4,4,4,4,4,4,3,3,3,3,3,3,3,3,3,3,3,3,3,3,3,3,3,3,3,3,3,3,2,2,2,2,2,2,2,2,2,2,2,2,2,2,2,2,2,2,2,1,1,1,1,1,1,1,1,1,1,1,1,1,1,1,1,1,1,1,1,1,12,12,12,12,12,12,12,12,12,12,12,12,12,12,12,12,12,12,12,12,12,12,11,11,11,11,11,11,11,11,11,11,11,11,11,11,11,11,11,11,11,11,11,10,10,10,10,10,10,10,10,10,10,10,10,10,10,10,10,10,10,10,9,9,9,9,9,9,9,9,9,9,9,9,9,9,9,9,9,9,9,9,8,8,8,8,8,8,8,8,8,8,8,8,8,8,8,8,8,8,8,8,8,8,7,7,7,7,7,7,7,7,7,7,7,7,7,7,7,7,7,7,7,7,6,6,6,6,6,6,6,6,6,6,6,6,6,6,6,6,6,6,6,6,6,6,5,5,5,5,5,5,5,5,5,5,5,5,5,5,5,5,5,5,5,5,5,5,4,4,4,4,4,4,4,4,4,4,4,4,4,4,4,4,4,4,3,3,3,3,3,3,3,3,3,3,3,3,3,3,3,3,3,3,3,3,2,2,2,2,2,2,2,2,2,2,2,2,2,2,2,2,2,2,2,2,2,1,1,1,1,1,1,1,1,1,1,1,1,1,1,1,1,1,1,1,1,12,12,12,12,12,12,12,12,12,12,12,12,12,12,12,12,12,12,12,12,12,12,11,11,11,11,11,11,11,11,11,11,11,11,11,11,11,11,11,11,11,10,10,10,10,10,10,10,10,10,10,10,10,10,10,10,10,10,10,10,10,9,9,9,9,9,9,9,9,9,9,9,9,9,9,9,9,9,9,9,9,8,8,8,8,8,8,8,8,8,8,8,8,8,8,8,8,8,8,8,8,8,7,7,7,7,7,7,7,7,7,7,7,7,7,7,7,7,7,7,7,7,7,7,7,6,6,6,6,6,6,6,6,6,6,6,6,6,6,6,6,6,6,6,6,6,6,5,5,5,5,5,5,5,5,5,5,5,5,5,5,5,5,5,5,5,5,4,4,4,4,4,4,4,4,4,4,4,4,4,4,4,4,4,4,4,3,3,3,3,3,3,3,3,3,3,3,3,3,3,3,3,3,3,3,3,3,2,2,2,2,2,2,2,2,2,2,2,2,2,2,2,2,2,2,2,2,1,1,1,1,1,1,1,1,1,1,1,1,1,1,1,1,1,1,1,1,1,12,12,12,12,12,12,12,12,12,12,12,12,12,12,12,12,12,12,12,12,12,12,11,11,11,11,11,11,11,11,11,11,11,11,11,11,11,11,11,11,10,10,10,10,10,10,10,10,10,10,10,10,10,10,10,10,10,10,9,9,9,9,9,9,9,9,9,9,9,9,9,9,9,9,9,9,9,9,9,9,8,8,8,8,8,8,8,8,8,8,8,8,8,8,8,8,8,8,8,7,7,7,7,7,7,7,7,7,7,7,7,7,7,7,7,7,7,7,7,7,7,6,6,6,6,6,6,6,6,6,6,6,6,6,6,6,6,6,6,6,6,6,5,5,5,5,5,5,5,5,5,5,5,5,5,5,5,5,5,5,5,5,5,4,4,4,4,4,4,4,4,4,4,4,4,4,4,4,4,4,4,3,3,3,3,3,3,3,3,3,3,3,3,3,3,3,3,3,3,3,3,3,2,2,2,2,2,2,2,2,2,2,2,2,2,2,2,2,2,2,2,1,1,1,1,1,1,1,1,1,1,1,1,1,1,1,1,1,1,1,1,1,1,1,12,12,12,12,12,12,12,12,12,12,12,12,12,12,12,12,12,12,12,12,12,11,11,11,11,11,11,11,11,11,11,11,11,11,11,11,11,11,11,11,11,10,10,10,10,10,10,10,10,10,10,10,10,10,10,10,10,10,10,10,10,10,9,9,9,9,9,9,9,9,9,9,9,9,9,9,9,9,9,9,9,9,8,8,8,8,8,8,8,8,8,8,8,8,8,8,8,8,8,8,8,8,7,7,7,7,7,7,7,7,7,7,7,7,7,7,7,7,7,7,7,7,7,7,7,6,6,6,6,6,6,6,6,6,6,6,6,6,6,6,6,6,6,6,6,5,5,5,5,5,5,5,5,5,5,5,5,5,5,5,5,5,5,5,5,5,5,5,4,4,4,4,4,4,4,4,4,4,4,4,4,4,4,4,4,4,4,4,3,3,3,3,3,3,3,3,3,3,3,3,3,3,3,3,3,3,3,2,2,2,2,2,2,2,2,2,2,2,2,2,2,2,2,2,2,2,2,1,1,1,1,1,1,1,1,1,1,1,1,1,1,1,1,1,1,1,1,1,1,1,12,12,12,12,12,12,12,12,12,12,12,12,12,12,12,12,12,12,12,12,11,11,11,11,11,11,11,11,11,11,11,11,11,11,11,11,11,11,11,11,10,10,10,10,10,10,10,10,10,10,10,10,10,10,10,10,10,10,10,10,10,9,9,9,9,9,9,9,9,9,9,9,9,9,9,9,9,9,9,9,9,8,8,8,8,8,8,8,8,8,8,8,8,8,8,8,8,8,8,8,8,8,7,7,7,7,7,7,7,7,7,7,7,7,7,7,7,7,7,7,7,7,7,7,6,6,6,6,6,6,6,6,6,6,6,6,6,6,6,6,6,6,6,6,6,5,5,5,5,5,5,5,5,5,5,5,5,5,5,5,5,5,5,5,5,5,5,4,4,4,4,4,4,4,4,4,4,4,4,4,4,4,4,4,4,4,4,3,3,3,3,3,3,3,3,3,3,3,3,3,3,3,3,3,3,3,3,3,3,2,2,2,2,2,2,2,2,2,2,2,2,2,2,2,2,2,2,2,2,1,1,1,1,1,1,1,1,1,1,1,1,1,1,1,1,1,1,1,1,1,1,12,12,12,12,12,12,12,12,12,12,12,12,12,12,12,12,12,12,12,12,12,11,11,11,11,11,11,11,11,11,11,11,11,11,11,11,11,11,11,11,11,10,10,10,10,10,10,10,10,10,10,10,10,10,10,10,10,10,10,10,9,9,9,9,9,9,9,9,9,9,9,9,9,9,9,9,9,9,9,9,9,8,8,8,8,8,8,8,8,8,8,8,8,8,8,8,8,8,8,8,8,8,7,7,7,7,7,7,7,7,7,7,7,7,7,7,7,7,7,7,7,7,7,6,6,6,6,6,6,6,6,6,6,6,6,6,6,6,6,6,6,6,6,6,6,5,5,5,5,5,5,5,5,5,5,5,5,5,5,5,5,5,5,5,5,5,5,4,4,4,4,4,4,4,4,4,4,4,4,4,4,4,4,4,4,3,3,3,3,3,3,3,3,3,3,3,3,3,3,3,3,3,3,3,3,3,3,2,2,2,2,2,2,2,2,2,2,2,2,2,2,2,2,2,2,2,2,1,1,1,1,1,1,1,1,1,1,1,1,1,1,1,1,1,1,1,1,12,12,12,12,12,12,12,12,12,12,12,12,12,12,12,12,12,12,12,12,12,12,11,11,11,11,11,11,11,11,11,11,11,11,11,11,11,11,11,11,11,11,11,10,10,10,10,10,10,10,10,10,10,10,10,10,10,10,10,10,10,10,10,10,9,9,9,9,9,9,9,9,9,9,9,9,9,9,9,9,9,9,9,9,9,8,8,8,8,8,8,8,8,8,8,8,8,8,8,8,8,8,8,8,8,8,8,7,7,7,7,7,7,7,7],\"coloraxis\":\"coloraxis\",\"symbol\":\"circle\"},\"mode\":\"markers\",\"name\":\"\",\"showlegend\":false,\"x\":[3069914,5082859,2240909,2349368,3423509,5395319,1362058,2614794,3170894,6377909,4570939,3508990,7514106,1232507,1738824,3023097,3554859,5242852,3353833,1921327,1394661,2374782,1990020,1838417,1553953,3272005,1690225,2838238,2551480,1885288,1948583,2035594,1127248,1807313,1963538,2560616,3357945,5700851,13272609,4422342,1867720,1581985,3996921,2310430,2278457,2351769,3003282,4223216,3343525,3158004,3454849,3357333,2250217,1407688,1284523,2267486,2022333,2338411,3598212,6676660,3661633,2077927,4511203,2234204,2208389,2103452,2459832,3020580,3367252,6224725,1541522,3133233,3646744,1232644,1206633,3538690,1104173,1527128,2052017,4208120,1819147,2622839,3469905,4154146,2235734,2649349,2071496,2921253,4295785,3175432,3180360,3297714,7108750,6328483,9298329,16822847,1974327,1446384,1820409,1720983,1848551,1399442,2561225,1857277,3046154,1858644,4942803,4804882,2131466,1687369,2523492,2434183,4719061,5799262,3030999,2196800,2149205,1996390,2190930,4623765,1852060,2658707,3283985,2613360,6610831,2283408,3071911,2440719,2297852,1681596,1477158,2855717,3665423,2762357,2877987,2056369,3095190,2583575,1614381,2246589,4847214,6601857,4680138,2322191,2808234,4778178,3672359,3895920,5466484,3638163,5120799,2620461,1925414,1807307,2455660,4583181,3121544,5863983,8055761,7044561,6833906,6697007,4593306,5397599,2590100,1806919,3631793,2154759,4416130,3278437,3653286,3408593,3742677,4683847,4519030,14484043,3481728,2517494,2411068,2171903,1896601,2703849,2073353,2014415,1602814,6874520,4620000,3315278,3956481,4703911,2280137,4692403,8383608,5912782,3036814,5575066,6799578,6874578,8045275,4297335,3820082,4358618,4876970,5784862,7150041,9944314,6464166,11258640,2208868,3855810,3371088,5015906,12063135,13458563,6857865,6292626,17805319,15847309,2923051,7726311,11299727,3299527,5306883,6994467,1920643,7866167,3608627,5175219,13953152,8891566,4964383,2640192,3568231,2952899,532661,4687271,3269191,2658347,3171251,3902627,6891689,2125747,1653094,2534607,2228532,1964885,1985873,3721338,4602566,3331256,5546594,4019965,3851873,2914695,2906933,9580786,2491966,2608124,2980684,4637092,4884083,3393087,6430260,5862028,14490021,3442385,4372250,3401210,7760949,7173447,5679382,3684762,4587179,7522673,7466196,15744338,10030010,10381703,29191015,9368807,6027593,2470478,1267995,2372930,2548868,2298689,2895078,2009220,2140964,1896521,2290563,2370296,3803339,2103806,2636591,4670938,2791324,4161102,3264325,4882663,2831387,5222043,10623109,12571250,4761386,6442241,4873097,5849123,3080845,8680232,1854572,2280933,2135161,1465569,1980476,2216575,2770731,1212404,1362450,1968954,3647423,4815053,3463217,1438107,1319642,1479812,1943703,1290705,1647207,3603942,2952069,3325237,1513053,977041,1417686,1842806,1755862,1355129,1098727,2744849,1233917,1161590,1306020,1012554,940916,589464,1186929,939148,1239593,1349536,1653237,1523044,6827849,1132516,1388038,4161713,945527,1079887,1293698,1540540,1092317,1563947,830703,1272204,1907247,2064221,1857915,1444642,2295942,2011288,1788548,1193137,3022795,2092924,2740120,2933289,3485991,6422298,2306755,2955856,2675495,1898811,3987646,1279451,838219,1671172,1073015,1103877,727617,2043052,1672938,1765255,4919352,1513693,1129032,1340126,1296093,1671915,1517679,952450,942382,1193620,1395593,2224197,1367413,1726818,2162887,2205918,2127506,3569132,6652685,1221969,1614154,1256759,759876,909771,996229,746313,961631,1308883,1059940,851814,538746,3617760,1403598,839283,533212,414927,1255021,503565,656213,580430,1102178,1017447,1025503,866902,728501,425216,749376,839802,677057,646197,923038,804735,2212399,826188,502421,760874,920060,1090370,1217621,1486818,1401882,1343432,1205710,1616908,1993986,1738935,1474301,2220419,2170944,3411500,1976322,2008909,1306586,4703414,2405650,3058329,2170482,5272740,2758553,1948286,4614456,2063211,2026448,1497745,428310,2281364,8524741,3586046,3234883,2715234,1751366,2780284,6685790,2736835,3180180,3968866,3116651,2063455,4097231,6256632,9741635,2678079,1927658,1471713,4753568,6464628,3316650,2769361,3538509,1204798,1635459,1787917,1362666,3029995,1451283,1045853,2248691,1199464,1155009,2381717,1300643,1681308,2493654,1401308,1832319,1604324,1468343,4868511,2956023,1282978,1398679,2298138,901208,778141,1518494,1024054,1140212,3289526,8549636,2430227,1427614,1515003,1451654,1175233,1987955,3056272,3754038,3576969,1271947,1656721,2012357,1884426,1887075,3903542,2283784,1587827,1093389,1306338,1612081,1689644,1296935,2125346,942568,1144671,5379977,2810587,2735697,2563561,2162032,3585896,1408701,2792498,447117,732869,1717907,1489092,1662070,2902578,4305954,900666,2825223,2390316,690551,866406,1783456,549738,581341,658231,692008,676137,1383549,1787665,1438192,1396870,466672,1085102,641976,1068540,688646,1103386,596225,622661,526190,1207381,654231,745000,894057,1356187,717595,869948,2142054,1949554,984070,782130,716365,892645,1572869,765331,928735,788617,1050521,648096,1147382,1327276,1663091,831737,1532533,1627181,1922207,3588313,1382616,1230385,1469400,839802,2062464,1396728,964165,1082982,1609295,1170769,1177827,1555016,1677380,1377634,1260507,1220668,1481271,1639500,2381968,9364686,758132,1037357,1151733,1340622,1429030,1268061,1341261,1091675,2087141,5524328,1654991,1109232,1227619,797137,1120485,877186,734748,592819,925581,1539708,655053,682689,1084192,1322358,1278069,1411260,2065711,1756768,1431102,1907971,1353097,1201860,1284440,1034747,834054,1502760,950484,781067,1464755,1746109,1260484,780709,1428993,561726,609093,1040800,1147660,1707401,1191657,589790,773849,836942,704236,1152536,1271238,476940,758581,689892,565383,911482,849968,1152280,1904180,613392,842444,1149754,488288,922793,1152357,580961,737584,100180,525833,1107840,858491,892494,557561,519168,621684,774022,2084196,593469,881996,734224,413539,589717,2469431,405056,357403,591991,1428493,1028678,566886,1317037,846622,994870,1009128,746173,1218988,915110,1009942,1253307,1011551,1055109,1284630,623623,1284690,695624,939558,789201,784377,1042265,1569358,1414288,1349442,2496844,4688477,1927201,2716732,2010188,3490011,6857158,1404188,5056575,3763375,1043785,1354813,1504926,2189190,798673,1714304,1074691,1197225,1269206,1248444,992867,3835649,1550830,2117898,1673236,2328615,1848759,1150281,1294926,1245996,1542474,2009103,1310150,1965237,2394358,2108950,804974,1530200,1974367,1720786,1590741,1049069,1608817,3133999,1260314,1032972,1826569,2667661,4332991,1397938,928889,2736280,1696146,2115793,1019044,1278156,970883,2239733,1341209,1933262,2641286,1586596,799419,877704,1937914,756591,2132044,2271136,2077218,569531,1343454,5132085,909189,1118631,872187,1010894,702795,1648427,1138811,1497623,2232739,1373721,2227212,3019872,2341680,1572681,2366296,2281538,1785800,1103984,2456804,1836583,3701269,3007045,1179218,2312755,2719219,3096387,1753170,1223180,1373494,4215595,3122578,6349564,852909,1142129,1810409,843471,575050,1383972,818899,2099157,2029247,1566031,1328198,1229406,1834524,1776564,1268390,1416285,1343251,2248388,2130596,1773712,1354766,2281047,1419036,2204041,4314580,1211587,816168,1540677,2960597,1546220,1404899,1614558,2886605,1377032,1122120,696970,1565871,1727098,1131718,1719968,1470539,1392578,2403931,1567779,1927234,5423705,4094370,2823390,1819031,1634586,2437301,2326838,2696995,1211357,1000172,1299810,1183917,1383172,1558189,1647105,4013444,2292977,2770541,2390258,1873161,2043127,535692,1347935,747441,913003,999836,6940283,1396448,1657451,1456641,1538715,4975475,2871674,1510454,1376256,1006074,1102295,1339740,1580445,1451138,1691661,2826458,3473392,1893457,3713876,7062154,1634296,1704935,1832296,1541039,1670273,3713745,1709932,4643861,2634731,2038270,1887415,1662143,1570697,2600609,2428509,2713036,4750346,4589900,1079352,1153614,1019575,526665,2010555,2584790,2073712,3946921,2254205,1967222,2022489,3624666,3216539,1524087,2284463,1198264,1917772,2096263,2924724,2973253,2219635,3086572,4342518,6277667,2243468,2748845,3786842,2733612,4325265,6185414,1964477,2016606,3403585,4436559,5685443,1808768,1903051,1611331,3046168,1030109,954442,1498748,1273200,1803100,3127760,1835749,1212265,1220808,1521138,1282122,1212104,2393314,1557133,1890055,1788911,1677773,2361557,4155508,2757448,2789011,3156927,2894662,3001729,2700600,1938059,4974108,2116223,2539258,1859780,2443696,3188567,3284116,3488714,3349829,2054919,4246788,5474004,3796609,5379012,5884830,5470675,5084653,4512185,4394262,8915917,2474896,2957708,3059834,2644231,4149164,6509643,4131952,7414725,11693055,8772925,17064363,2556595,4764627,3014557,3308467,4293795,5050078,1655825,1748577,5629757,3014828,3246095,2539045,3351574,4970218,3658879,2208007,1851834,2352331,1789879,1219063,1475651,979792,1231593,1058888,1207233,2460179,1294813,1452937,1867200,3277200,2243023,2939902,4644106,1148162,1464343,1788771,2017657,3183552,1476512,1970278,2346430,2596842,4863298,4143774,3912192,3147980,1763657,1214418,1239544,125170,2771806,1578311,1982788,926631,1237254,1240884,2109508,2110986,2127241,2910251,3010530,2317544,2995506,2979960,1852558,1868445,1034913,613301,1204144,784045,882447,1294179,1078151,1060283,1390278,1486914,1465761,1411856,2053488,2905219,1418289,2866989,2140205,2555790,4943283,2441955,2281455,1798083,2015494,1191923,4586839,1992324,2549468,1884689,2142240,1117786,2175698,2340369,2520546,1740722,2122772,1244854,1538685,1816178,2116255,1958707,2258565,3188036,3624182,10232143,2997231,3101414,5456617,1833784,1672571,1678569,1279705,1102791,1185509,1285575,1821331,2508890,1385102,1565641,1547460,2227417,2063513,2020588,3615167,1855005,2505101,2305892,2315264,2997918,2756146,3835593,5738832,4246087,11917625,1842456,1954941,1175152,2358582,2080746,1762917,512878,3726470,3033400,1918758,2067392,1058274,4412267,4943284,1228667,1598301,3257249,2540836,2724697,1145582,1281419,1880046,3124853,2049580,1720413,2133863,1944288,3537917,1995226,785467,1936317,1245218,1636310,1237964,1352385,827487,1640655,622249,1036322,1043593,1277003,1524759,2053278,1297746,1464565,1905598,1006267,1615075,1184597,1088398,2463614,4089680,1910201,1772634,1072989,1935560,2395241,816055,2073385,1628570,1559833,1470364,1480481,1669456,1795135,3028037,1485475,2949174,7166956,3344864,7626988,6209599,3984763,2094766,1509224,1633371,1873632,1816542,2383891,4769847,2076273,3099447,1680043,2026285,2518478,1688913,1497219,2429015,2220317,2268177,1699358,2581665,1913234,6997945,1186410,1516124,2280723,1769894,1219143,1036866,1753310,1301928,2039325,2083641,4596668,1193656,2252773,1955532,1633085,1965493,3464825,1446953,3823348,8696753,3312025,5651909,1372887,830319,2023773,1048831,1245564,1408332,2294608,1838806,3704692,2111690,1966719,163605,1749193,3362377,1717318,1337524,1885775,2503514,3400457,3713627,3641202,2279744,2035505,998966,2041646,2924016,4670998,2050330,1391803,1127803,1396745,1396238,1762110,2437204,1052127,1300935,1515245,1694920,1832628,2963777,1828953,3225051,1442967,2807473,2640664,3195668,1395102,2951545,2600375,2208924,1986559,1502207,3047021,2054577,3317696,3076756,1957560,3851148,6711317,2832343,3431214,3454472,3963491,4308771,6359736,2816601,3031011,2341701,2418731,1806217,2145899,1831532,1408440,3760231,2986704,2825282,1415455,3680233,6700011,2144014,1843799,1458221,2744215,2604987,2379204,2136770,1572447,1658186,2079725,2338646,2480513,2881113,1919016,1844488,2427569,3429376,2340504,1901621,4841015,7201391,3237577,1579057,3540354,5550194,1645334,1922825,2415570,1960923,1973831,2129858,1487624,1145592,2915524,1988850,2509708,4194870,6204240,1949278,2272058,1869928,3160525,3996804,3999480,3126602,3080275,3658856,2824334,5161857,4152208,6071387,4742850,8682652,1426984,1731275,3242540,6884754,4066517,1224178,2593949,2650292,9321042,2088725,2265966,2533641,1997116,2856121,1381693,2532870,2079479,1917975,2690095,3516939,3043585,2721618,8658347,4721884,2947656,7208920,3319802,4789280,9645143,6368524,8868992,1001599,1433480,1457469,865801,1323240,1220738,2354285,2437711,1560857,2158447,894277,1275189,1367931,108287,1773324,3011491,2265877,2015686,1334353,1238269,2511083,1428400,2256686,1596773,1520284,2030186,1621306,1498330,2944589,1703869,1906984,3514187,2352342,2732118,1507756,1648078,1166050,2754756,3704533,1645936,3491456,1301962,2010264,2495002,2974617,4358964,871954,1990761,2092817,1921543,1559903,907506,631539,1803322,2031355,1060814,1421548,914595,841326,1440238,1277595,1424923,1202974,1557877,3777776,3537169,1688608,1130700,1490853,1347318,1195595,1077600,833731,946884,1270402,717576,1346356,2116151,1147297,1115088,1107816,1164412,1100400,1024425,507762,947315,760535,992439,1544381,3216009,902856,837940,944570,2015162,1790142,1356022,1653547,1402452,1189412,946118,663646,812441,1259029,1334337,2329678,1021693,111115,773334,2275505,1043981,1144299,2467260,3365943,4841334,2490749,1065048,699597,2171860,2189471,3346924,1505824,1352343,1432817,3673526,1384543,1601856,3130838,1258009,1430659,1876141,1621699,3284714,1762594,1510160,1932912,3007235,1913587,3780295,1985125,1064909,1294468,2513257,2354718,1627562,249882,1933023,2169528,6964341,3650262,1524588,2583514,6664371,3550314,2567921,1751459,3063855,2467621,2141133,4462353,5100633,11787258,6717339,6305206,7170401,9568283,7218657,10809985,17917625,3746496,2904708,4269611,1178358,1047711,1488319,1520629,1422930,3182287,2862414,2114712,569114,651931,808847,649944,39610,733883,847775,1653611,1175311,694783,687835,1168213,460774,290800,252790,559644,737871,300885,439611,574963,1195277,865847,414887,397070,294423,357702,640464,473563,415300,1563193,1160486,2480580,1560875,657439,1090160,1288429,1088448,540870,518836,542006,1062728,867491,780713,745440,846088,532674,331397,628106,779242,843703,1053931,2221268,1990456,257402,928512,725045,927470,1742297,910465,813333,1388807,529855,1335870,1418981,1353794,1401068,845994,585464,711092,659545,841081,2053322,1016187,644053,884536,1832341,1597785,1010991,564581,507629,2248059,465889,509414,1145348,759717,1774124,889411,1094307,1814731,1131363,1072859,1492329,1514076,1663279,3394184,1598937,1293713,1767264,2292742,2557677,1847715,1760296,1822217,3406154,5475703,3024432,2168843,3814732,9505355,1327004,491903,618007,1415275,1866076,3412909,2805411,2274829,1255645,756565,568842,574825,1182349,819412,788661,649474,1059512,893861,1037626,1576231,1532011,3742291,6965551,2340652,2423639,1245523,1310771,1261290,975813,1564718,658517,634845,1271268,1385206,590293,735010,1405134,3147174,616793,1186411,5219442,503353,337230,1195286,3317304,2000205,1649143,769973,428191,1427562,2432836,1126516,169762,391739,193726,223932,207063,210300,234413,976743,544025,636338,319107,391145,530567,329969,658603,373053,406614,740728,806586,1680945,394687,778698,1089914,702620,920428,547540,966511,644008,1920194,1682298,2449721,2467731,1054078,1619264,1341150,1160681,1868971,440245,860340,1751455,603536,1111602,1512956,2030038,1134598,1567627,4231545,4331609,9568830,1109740,3190205,1931634,270846,283108,874532,687513,735597,689138,1653543,306107,422308,355646,920020,1893119,239997,579786,477647,650078,989327,680652,431156,577722,857280,739877,439822,1031266,922239,2063094,1791689,631517,259338,522747,1009083,677140,384406,2529271,1914263,409758,438502,979117,1005103,1343822,801491,712670,1649997,1381804,1258058,2518794,789049,859691,923042,648507,601654,1629061,759131,282973,298756,444045,449080,426795,1106252,1285356,1032008,566010,1036023,606153,887683,628391,993783,725219,2279992,2586020,516440,1306073,829435,3005760,1214961,1118449,490031,1155144,1363674,2011117,1186665,1093519,232370,722306,602987,573772,1621553,2960093,1734169,1116487,756589,494115,1375503,1293596,749862,916321,1236535,1040782,1826325,880932,1252217,1052978,1913647,7163066,1598194,1542220,670447,711861,1240038,984606,799399,1209662,2458845,1845230,1032364,1128334,1073215,2098722,1073175,1111988,1439867,1180485,1599954,2539739,2683457,626335,731590,716515,2274887,2110321,463046,1375227,2531255,1606579,3422797,4033916,653286,1643818,959932,1079479,818831,755675,434265,1307966,327364,415026,547881,777490,1012396,611234,663593,2656191,2359134,835593,586100,658440,281312,293312,658666],\"xaxis\":\"x\",\"y\":[233.75,233.25,234.25,236.1,233.3,234.6,234.9,235.05,236.6,233.95,222.65,216.0,222.0,222.95,221.05,222.4,223.7,236.7,234.3,236.0,234.55,233.35,237.05,231.0,235.45,240.55,245.15,243.0,239.35,237.55,234.55,233.55,237.3,236.35,237.6,239.5,234.65,235.45,235.65,246.9,242.2,242.25,239.1,236.9,246.3,243.3,238.6,233.1,238.65,247.9,243.25,258.9,265.2,269.8,274.75,275.25,266.3,271.25,277.3,281.0,264.45,269.35,263.95,265.6,267.35,264.5,262.1,258.2,260.85,267.05,275.35,272.15,277.8,269.6,267.6,263.7,266.95,267.1,265.75,263.75,255.25,263.25,269.2,264.5,257.5,260.65,257.85,254.5,250.2,247.15,243.55,244.7,247.5,241.1,242.65,255.9,287.5,285.25,292.0,289.7,294.2,287.8,286.65,292.75,297.55,292.1,291.2,289.1,283.15,283.6,286.3,286.2,284.1,280.95,279.65,275.5,273.85,273.85,275.5,277.8,272.7,273.0,270.25,274.8,276.95,258.75,263.8,262.2,257.9,258.85,263.2,262.05,260.6,272.4,279.6,278.5,278.2,276.05,268.35,273.4,268.9,274.15,275.65,274.85,275.5,275.0,273.5,270.7,262.15,266.6,262.85,267.95,275.6,279.05,281.95,285.1,278.25,280.45,280.15,266.7,273.1,274.85,288.35,290.65,304.0,301.8,304.25,304.25,307.2,308.85,308.35,305.45,313.55,316.4,323.0,325.75,313.3,314.1,315.3,317.6,312.95,312.25,311.2,311.15,312.9,316.4,306.6,305.55,305.95,302.75,300.15,300.85,300.65,290.85,286.85,284.3,284.45,287.8,298.35,288.45,284.0,274.95,279.95,279.05,283.55,287.1,280.2,287.75,277.45,278.7,274.8,274.05,273.15,274.9,259.9,251.95,250.9,246.7,234.4,236.15,240.45,224.5,225.0,234.7,225.3,226.35,227.8,226.95,226.8,220.5,209.8,205.3,209.65,203.1,204.6,206.8,210.3,209.6,210.25,212.0,209.4,208.45,208.3,209.6,209.45,204.95,206.45,205.8,203.15,198.6,204.65,196.65,201.15,212.2,213.7,216.2,213.3,210.55,212.05,207.3,212.05,209.25,206.9,205.75,205.95,196.7,193.3,197.6,198.0,197.05,190.35,193.3,194.25,196.55,189.85,196.15,194.4,190.6,193.85,178.75,164.2,156.0,162.1,166.0,170.45,166.45,166.65,165.1,167.5,169.55,169.15,168.4,172.2,171.15,170.0,172.2,171.3,175.15,173.75,177.0,174.2,175.4,173.75,169.5,166.55,157.75,153.35,156.15,150.05,151.6,150.65,148.5,149.15,147.35,151.15,154.75,156.8,156.85,156.4,158.2,159.1,158.45,156.45,152.1,154.4,154.6,155.55,153.0,154.95,154.85,152.4,149.4,145.55,145.4,146.9,143.05,141.7,144.75,147.8,149.5,147.5,152.85,154.45,154.6,152.65,154.0,154.85,154.05,152.6,152.3,155.35,156.2,157.7,153.1,152.1,153.75,151.7,151.95,151.3,152.15,150.2,148.15,149.45,150.5,151.75,153.4,150.95,150.6,153.05,152.65,151.9,150.55,150.15,150.6,150.55,148.6,151.15,151.6,143.1,145.9,146.45,144.8,144.7,140.9,139.5,137.1,140.8,141.4,142.75,143.25,143.35,141.1,143.6,138.05,138.9,139.25,140.0,141.6,141.6,140.15,140.1,138.75,141.2,141.95,143.95,143.9,146.15,141.65,142.75,141.85,137.65,130.1,128.85,130.45,129.2,128.35,128.45,127.9,126.4,130.5,128.65,127.6,127.65,128.35,125.15,127.55,124.45,124.75,124.65,125.2,124.45,124.45,123.55,122.0,121.1,119.6,120.55,117.0,118.85,119.4,121.6,121.25,124.3,124.3,124.45,122.75,123.35,123.35,123.9,123.85,122.3,123.4,123.65,121.55,121.9,123.85,121.95,120.95,118.5,115.1,117.65,117.3,115.65,120.1,118.6,121.3,117.0,118.65,125.4,121.9,127.45,128.0,126.85,131.35,134.95,138.6,139.4,139.95,137.75,145.4,150.0,154.05,152.5,152.35,154.6,151.9,150.25,153.2,147.85,151.65,151.25,150.9,153.3,141.8,142.35,139.6,137.0,146.75,144.55,140.65,142.4,138.9,138.05,138.0,139.9,139.85,137.0,137.45,135.3,139.7,142.2,142.2,141.75,141.6,141.1,140.25,140.2,139.0,139.9,140.45,140.25,139.6,138.4,141.25,138.85,137.65,138.05,136.95,137.3,137.75,143.25,142.9,139.1,138.3,135.75,138.4,141.0,142.15,140.15,137.45,131.15,133.45,131.5,131.8,133.85,130.05,129.95,132.6,132.6,132.15,132.9,133.1,132.6,134.45,133.9,134.1,134.9,131.2,129.7,127.85,125.95,124.25,126.75,127.25,125.45,126.15,125.7,126.1,127.0,126.5,128.15,123.65,124.95,124.4,119.35,119.3,120.2,119.25,118.05,117.75,117.95,117.3,118.6,119.5,121.75,120.4,120.05,119.95,120.95,120.35,120.65,119.55,118.95,117.3,118.2,118.75,118.1,116.35,116.95,119.45,121.1,120.05,120.3,122.4,121.8,121.2,120.25,120.1,121.85,120.0,120.65,118.35,119.5,117.7,118.7,118.85,118.25,121.2,122.55,121.25,121.4,119.3,119.4,119.45,121.4,119.9,118.9,115.8,115.1,115.45,115.65,115.85,116.45,116.85,115.65,113.25,109.5,109.9,108.9,103.55,104.75,106.2,106.7,106.65,109.1,107.3,104.55,104.0,102.65,106.0,104.3,105.25,118.35,120.75,123.9,122.5,121.6,121.75,124.25,126.6,126.5,123.15,124.45,124.3,125.55,121.75,122.55,126.4,121.85,128.5,134.05,135.6,139.5,141.9,144.45,140.05,145.25,148.35,143.7,146.4,146.2,146.35,141.9,144.05,144.8,142.0,141.2,142.9,141.9,142.2,136.55,133.85,134.35,133.2,135.3,132.15,135.0,135.35,133.65,134.9,136.2,136.25,137.55,136.95,134.95,134.35,132.95,133.8,130.9,128.75,132.5,128.15,128.0,127.9,125.7,128.8,125.85,128.0,131.75,131.75,132.65,133.45,135.9,135.6,135.8,138.9,137.8,137.55,139.4,134.7,134.0,134.7,134.0,132.3,134.55,134.7,133.35,133.05,130.55,131.85,130.05,127.8,126.6,127.1,124.2,125.0,123.9,125.5,125.45,123.1,125.4,124.05,123.25,123.75,123.65,120.95,120.45,120.2,124.15,118.85,115.2,119.6,118.15,116.35,117.3,117.55,114.85,130.4,132.9,133.8,134.15,131.0,132.1,130.0,133.05,137.7,138.95,141.95,143.75,142.15,143.3,140.85,140.2,137.15,138.65,137.45,137.55,140.8,140.85,139.5,137.5,141.75,139.0,138.0,138.15,137.05,136.8,134.55,133.95,134.9,138.2,135.0,136.1,137.1,135.55,132.2,129.55,133.85,135.7,133.2,133.85,135.0,133.75,132.6,132.35,128.7,129.1,128.15,134.4,136.6,137.55,134.85,138.5,137.75,137.35,140.8,145.15,146.25,144.9,148.7,148.8,147.45,147.95,146.65,145.95,147.55,147.95,147.4,146.3,144.55,142.85,143.35,141.05,137.75,139.8,144.55,143.55,142.1,142.55,141.95,142.15,147.25,150.2,149.65,150.2,153.25,157.55,159.3,158.95,161.5,161.2,152.05,151.6,151.1,151.45,151.1,148.8,149.75,145.75,147.3,149.0,147.95,147.2,149.95,153.85,155.85,156.7,154.75,154.85,160.0,157.85,157.25,159.05,159.3,158.35,163.55,158.35,154.9,156.05,152.55,153.5,155.55,155.95,159.7,157.0,156.85,155.15,157.4,155.2,154.35,151.55,149.55,152.4,154.75,158.55,160.45,163.6,158.7,158.25,158.75,159.4,161.15,158.85,158.0,156.35,156.55,154.3,155.65,154.85,155.25,157.35,155.6,153.7,148.45,148.15,152.95,152.5,150.7,150.95,149.05,148.65,146.85,146.9,148.3,147.5,147.4,147.5,145.0,144.25,151.6,152.95,155.65,156.0,154.85,158.3,161.1,163.4,163.25,163.35,159.55,161.3,161.0,155.3,154.2,156.95,156.75,156.95,157.85,159.4,159.9,155.25,154.2,155.85,158.25,157.75,160.9,161.65,163.75,160.1,157.45,157.3,156.35,156.3,158.35,156.5,155.55,154.7,153.35,152.35,156.4,157.5,160.25,161.25,160.25,158.8,158.85,159.35,159.0,159.65,160.3,164.75,164.45,170.6,168.6,164.85,161.6,159.45,167.2,169.55,167.4,162.55,165.2,164.6,162.25,162.2,154.25,155.4,153.9,150.5,153.1,152.95,155.45,155.45,157.1,158.5,156.5,154.4,152.1,151.15,154.45,151.9,150.65,154.15,153.8,154.9,155.5,154.3,153.5,152.9,155.2,153.5,156.55,156.8,158.7,159.2,160.65,160.35,157.2,153.75,151.8,149.8,155.45,154.95,158.7,167.05,167.85,169.2,174.35,174.8,172.75,171.1,167.8,169.5,167.3,167.95,162.35,162.9,163.55,167.05,166.0,163.7,168.65,169.35,174.85,171.2,171.1,154.05,153.0,150.3,147.5,149.1,148.9,156.25,156.4,156.45,157.55,155.55,153.1,153.45,150.7,144.75,144.2,147.3,146.4,144.55,145.0,142.45,144.6,145.1,146.7,148.35,149.45,151.3,152.85,152.95,156.1,157.85,156.15,157.45,150.5,153.05,152.75,153.1,154.4,151.45,152.2,151.55,153.5,154.25,150.05,148.0,141.8,142.75,142.9,142.85,143.65,143.4,141.4,141.3,143.15,142.7,142.55,145.65,145.15,143.8,143.3,142.55,140.9,140.4,135.95,139.7,139.8,141.2,142.7,142.0,141.1,140.35,140.2,138.9,140.55,141.75,144.05,144.85,143.6,143.35,141.15,143.05,143.15,140.7,141.0,140.45,142.15,138.95,141.35,144.25,148.2,149.85,147.85,148.3,146.2,149.05,152.05,152.05,152.9,155.95,157.25,157.1,156.5,156.8,156.35,154.95,160.5,160.45,159.8,158.05,161.05,157.25,154.7,153.1,147.5,148.2,144.75,143.45,145.15,146.75,147.0,147.45,146.7,146.2,146.65,145.55,146.8,149.3,148.9,147.65,145.05,145.5,142.4,141.8,143.65,145.35,144.55,147.7,143.95,144.3,154.55,156.55,160.1,160.35,163.55,167.6,169.5,167.7,164.0,165.0,162.4,163.25,163.85,165.45,158.75,161.85,159.6,164.2,162.0,158.05,159.45,160.05,160.15,155.55,155.8,156.2,153.0,155.2,149.8,143.85,146.2,145.95,145.9,143.15,144.9,149.0,150.55,147.65,148.05,150.05,152.15,150.75,150.7,146.65,147.0,147.2,143.85,141.55,143.8,139.0,137.95,136.05,141.3,144.05,146.75,146.25,141.9,140.9,141.65,140.45,147.65,146.55,145.5,146.5,141.9,137.95,142.8,146.4,147.05,159.7,158.85,159.4,156.7,151.75,153.55,154.75,154.6,155.7,154.95,157.05,153.75,154.05,147.6,147.65,149.1,145.1,147.45,145.15,143.5,141.6,140.1,141.5,134.4,129.3,133.45,133.9,133.35,136.4,140.8,143.5,142.9,140.4,139.95,139.1,141.6,142.6,146.0,149.1,149.6,150.2,149.9,147.05,145.9,148.0,143.0,144.7,143.7,141.3,138.75,142.65,144.4,144.05,146.6,143.25,147.3,141.0,146.45,147.7,146.15,148.05,151.0,149.05,147.55,147.35,149.0,147.25,144.25,140.4,136.05,138.35,140.55,138.75,137.1,133.65,132.3,131.75,131.4,131.0,130.15,132.8,128.2,127.4,130.65,134.2,131.45,127.85,123.5,123.55,125.9,124.6,128.35,130.15,131.1,133.4,134.35,133.5,133.2,132.75,134.1,131.65,130.05,132.05,126.6,127.95,125.2,132.2,131.85,133.4,138.15,138.0,145.05,146.35,141.9,141.05,139.05,141.55,142.05,140.8,142.5,144.85,142.25,141.5,145.15,146.8,149.35,143.9,147.75,147.65,148.0,145.5,149.0,151.85,154.0,153.0,154.95,156.5,158.55,159.45,158.65,161.0,162.45,163.75,162.75,164.15,165.85,166.65,160.8,159.95,160.45,159.65,160.15,160.65,160.85,162.95,165.15,165.2,165.65,168.75,168.05,172.05,169.8,172.85,169.85,165.75,165.6,166.25,168.55,165.95,162.6,163.05,163.4,163.4,159.95,160.85,159.0,164.15,173.4,178.85,171.45,168.8,168.9,167.35,159.55,157.85,158.65,158.3,159.8,150.15,150.7,148.0,151.4,154.85,156.95,159.6,157.95,162.05,162.45,161.25,160.0,161.25,160.05,156.15,153.4,155.55,150.2,151.9,155.4,145.65,142.85,131.65,130.55,128.85,128.8,131.05,127.4,129.75,128.5,133.65,133.9,134.4,134.8,135.35,136.65,136.6,135.6,133.65,131.6,130.4,129.8,130.3,125.2,127.9,128.45,128.85,131.0,131.8,132.9,134.7,133.9,133.9,135.15,132.85,131.25,130.1,129.85,129.95,131.15,130.05,127.05,127.0,122.65,120.65,120.05,120.8,123.4,115.65,118.75,121.35,119.05,116.35,114.45,114.2,115.4,116.45,115.7,114.15,117.8,119.45,118.8,119.55,117.95,115.95,115.75,117.15,115.15,109.45,108.2,107.7,106.25,104.9,105.65,107.65,105.85,108.5,112.05,110.85,112.05,109.15,107.9,105.35,104.55,105.65,107.6,107.55,110.0,111.1,107.95,109.6,107.9,107.0,106.8,105.55,107.35,107.85,104.85,103.05,108.45,112.45,110.5,112.85,116.2,114.4,117.45,119.35,116.9,116.4,115.7,115.45,116.65,118.5,117.4,121.7,124.0,119.15,118.95,118.5,116.8,121.2,118.25,117.4,116.95,117.7,118.95,115.35,112.35,108.3,109.85,110.05,109.15,112.7,110.95,114.7,113.1,109.7,112.95,116.0,120.4,118.1,116.8,118.2,116.1,113.8,116.0,120.4,120.55,123.35,125.55,120.7,113.05,119.95,120.0,117.2,120.8,119.2,120.9,121.0,120.8,121.45,118.95,123.05,117.75,113.4,116.05,119.75,110.0,109.15,107.75,97.9,97.1,95.25,93.3,92.05,92.65,93.9,93.0,97.2,98.5,94.15,92.9,92.9,93.95,93.1,93.35,93.5,93.1,95.4,94.55,90.95,90.1,90.1,87.45,88.0,88.7,88.7,89.85,86.35,85.05,84.5,86.4,89.8,87.5,88.8,87.55,89.7,89.75,90.85,90.55,91.75,88.25,83.95,84.1,83.75,81.55,82.4,80.95,82.7,82.0,82.6,82.5,83.7,85.75,87.7,88.3,89.15,90.75,90.95,90.7,91.15,91.65,92.6,89.75,87.9,86.85,85.15,84.7,85.25,87.55,87.55,90.3,87.9,86.75,88.1,86.65,85.65,82.55,81.1,82.9,84.0,85.8,85.7,86.45,88.6,86.7,87.05,86.2,92.8,92.15,90.65,90.55,92.6,92.0,91.15,91.05,93.3,94.55,94.4,94.2,91.6,92.7,93.55,93.35,89.35,92.15,91.2,92.1,90.6,87.6,88.6,95.35,98.45,102.3,102.95,106.65,102.75,106.3,106.35,111.0,107.65,104.6,107.0,106.55,108.0,108.55,104.95,105.4,102.8,99.25,100.95,102.8,103.15,100.85,102.55,101.65,100.4,101.45,100.0,105.0,103.2,103.0,104.35,97.75,96.55,93.05,92.7,92.05,91.8,90.6,90.25,92.35,93.4,98.6,96.95,98.65,100.05,99.9,95.85,96.65,98.2,94.2,93.15,93.6,94.0,91.6,87.4,86.85,88.2,85.75,88.2,92.15,95.45,97.3,96.2,96.4,96.35,97.25,99.15,97.95,100.75,99.8,97.7,97.55,96.35,97.9,99.45,100.0,100.75,102.6,103.95,104.45,102.15,103.05,101.8,101.45,100.4,103.25,103.3,102.5,104.65,108.9,106.65,105.4,101.85,100.65,97.75,97.05,96.0,98.5,98.15,99.25,97.65,97.9,98.25,97.6,97.3,99.1,98.5,102.1,101.3,96.4,96.35,93.6,88.75,90.75,90.4,91.0,89.25,88.6,87.4,95.3,96.4,96.15,94.5,101.65,94.45,95.75,94.6,91.7,88.1,87.85,92.5,95.75,95.3,96.05,97.35,98.3,99.45,99.8,106.35,106.2,106.25,105.65,106.5,104.95,104.75,104.9,104.4,103.25,103.75,101.9,104.25,108.3,111.0,112.3,113.1,111.5,108.1,107.25,109.4,109.55,109.75,112.5,112.4,113.6,115.8,115.45,115.15,114.8,114.1,112.8,110.95,111.5,114.85,115.25,114.95,114.1,115.25,114.75,112.95,112.95,112.45,109.95,116.8,117.2,119.9,120.1,119.6,121.2,124.75,124.85,128.1,131.9,127.4,125.15,125.6,124.3,124.55,125.15,124.55,124.65,128.95,127.25,127.35,128.45,128.55,130.4,129.35,129.75,129.6,129.85,133.05,133.75,131.0,134.25,132.6,133.4,129.3,127.0,124.65,123.5,120.2,121.5,122.85,123.6,125.1,123.55,120.8,122.5,124.55,122.65,122.15,123.25,123.9,125.95,127.8,127.25,127.7,123.15,122.15,122.4,123.0,120.5,117.6,117.75,118.15,117.0,116.45,116.7,111.5,113.05,108.85,110.1,111.25,114.15,112.55,113.9,112.3,112.85,112.1,114.05,116.5,118.3,117.3,116.05,116.6,118.25,118.65,117.6,120.65,120.9,121.55],\"yaxis\":\"y\",\"type\":\"scattergl\"}],                        {\"template\":{\"data\":{\"histogram2dcontour\":[{\"type\":\"histogram2dcontour\",\"colorbar\":{\"outlinewidth\":0,\"ticks\":\"\"},\"colorscale\":[[0.0,\"#0d0887\"],[0.1111111111111111,\"#46039f\"],[0.2222222222222222,\"#7201a8\"],[0.3333333333333333,\"#9c179e\"],[0.4444444444444444,\"#bd3786\"],[0.5555555555555556,\"#d8576b\"],[0.6666666666666666,\"#ed7953\"],[0.7777777777777778,\"#fb9f3a\"],[0.8888888888888888,\"#fdca26\"],[1.0,\"#f0f921\"]]}],\"choropleth\":[{\"type\":\"choropleth\",\"colorbar\":{\"outlinewidth\":0,\"ticks\":\"\"}}],\"histogram2d\":[{\"type\":\"histogram2d\",\"colorbar\":{\"outlinewidth\":0,\"ticks\":\"\"},\"colorscale\":[[0.0,\"#0d0887\"],[0.1111111111111111,\"#46039f\"],[0.2222222222222222,\"#7201a8\"],[0.3333333333333333,\"#9c179e\"],[0.4444444444444444,\"#bd3786\"],[0.5555555555555556,\"#d8576b\"],[0.6666666666666666,\"#ed7953\"],[0.7777777777777778,\"#fb9f3a\"],[0.8888888888888888,\"#fdca26\"],[1.0,\"#f0f921\"]]}],\"heatmap\":[{\"type\":\"heatmap\",\"colorbar\":{\"outlinewidth\":0,\"ticks\":\"\"},\"colorscale\":[[0.0,\"#0d0887\"],[0.1111111111111111,\"#46039f\"],[0.2222222222222222,\"#7201a8\"],[0.3333333333333333,\"#9c179e\"],[0.4444444444444444,\"#bd3786\"],[0.5555555555555556,\"#d8576b\"],[0.6666666666666666,\"#ed7953\"],[0.7777777777777778,\"#fb9f3a\"],[0.8888888888888888,\"#fdca26\"],[1.0,\"#f0f921\"]]}],\"heatmapgl\":[{\"type\":\"heatmapgl\",\"colorbar\":{\"outlinewidth\":0,\"ticks\":\"\"},\"colorscale\":[[0.0,\"#0d0887\"],[0.1111111111111111,\"#46039f\"],[0.2222222222222222,\"#7201a8\"],[0.3333333333333333,\"#9c179e\"],[0.4444444444444444,\"#bd3786\"],[0.5555555555555556,\"#d8576b\"],[0.6666666666666666,\"#ed7953\"],[0.7777777777777778,\"#fb9f3a\"],[0.8888888888888888,\"#fdca26\"],[1.0,\"#f0f921\"]]}],\"contourcarpet\":[{\"type\":\"contourcarpet\",\"colorbar\":{\"outlinewidth\":0,\"ticks\":\"\"}}],\"contour\":[{\"type\":\"contour\",\"colorbar\":{\"outlinewidth\":0,\"ticks\":\"\"},\"colorscale\":[[0.0,\"#0d0887\"],[0.1111111111111111,\"#46039f\"],[0.2222222222222222,\"#7201a8\"],[0.3333333333333333,\"#9c179e\"],[0.4444444444444444,\"#bd3786\"],[0.5555555555555556,\"#d8576b\"],[0.6666666666666666,\"#ed7953\"],[0.7777777777777778,\"#fb9f3a\"],[0.8888888888888888,\"#fdca26\"],[1.0,\"#f0f921\"]]}],\"surface\":[{\"type\":\"surface\",\"colorbar\":{\"outlinewidth\":0,\"ticks\":\"\"},\"colorscale\":[[0.0,\"#0d0887\"],[0.1111111111111111,\"#46039f\"],[0.2222222222222222,\"#7201a8\"],[0.3333333333333333,\"#9c179e\"],[0.4444444444444444,\"#bd3786\"],[0.5555555555555556,\"#d8576b\"],[0.6666666666666666,\"#ed7953\"],[0.7777777777777778,\"#fb9f3a\"],[0.8888888888888888,\"#fdca26\"],[1.0,\"#f0f921\"]]}],\"mesh3d\":[{\"type\":\"mesh3d\",\"colorbar\":{\"outlinewidth\":0,\"ticks\":\"\"}}],\"scatter\":[{\"fillpattern\":{\"fillmode\":\"overlay\",\"size\":10,\"solidity\":0.2},\"type\":\"scatter\"}],\"parcoords\":[{\"type\":\"parcoords\",\"line\":{\"colorbar\":{\"outlinewidth\":0,\"ticks\":\"\"}}}],\"scatterpolargl\":[{\"type\":\"scatterpolargl\",\"marker\":{\"colorbar\":{\"outlinewidth\":0,\"ticks\":\"\"}}}],\"bar\":[{\"error_x\":{\"color\":\"#2a3f5f\"},\"error_y\":{\"color\":\"#2a3f5f\"},\"marker\":{\"line\":{\"color\":\"#E5ECF6\",\"width\":0.5},\"pattern\":{\"fillmode\":\"overlay\",\"size\":10,\"solidity\":0.2}},\"type\":\"bar\"}],\"scattergeo\":[{\"type\":\"scattergeo\",\"marker\":{\"colorbar\":{\"outlinewidth\":0,\"ticks\":\"\"}}}],\"scatterpolar\":[{\"type\":\"scatterpolar\",\"marker\":{\"colorbar\":{\"outlinewidth\":0,\"ticks\":\"\"}}}],\"histogram\":[{\"marker\":{\"pattern\":{\"fillmode\":\"overlay\",\"size\":10,\"solidity\":0.2}},\"type\":\"histogram\"}],\"scattergl\":[{\"type\":\"scattergl\",\"marker\":{\"colorbar\":{\"outlinewidth\":0,\"ticks\":\"\"}}}],\"scatter3d\":[{\"type\":\"scatter3d\",\"line\":{\"colorbar\":{\"outlinewidth\":0,\"ticks\":\"\"}},\"marker\":{\"colorbar\":{\"outlinewidth\":0,\"ticks\":\"\"}}}],\"scattermapbox\":[{\"type\":\"scattermapbox\",\"marker\":{\"colorbar\":{\"outlinewidth\":0,\"ticks\":\"\"}}}],\"scatterternary\":[{\"type\":\"scatterternary\",\"marker\":{\"colorbar\":{\"outlinewidth\":0,\"ticks\":\"\"}}}],\"scattercarpet\":[{\"type\":\"scattercarpet\",\"marker\":{\"colorbar\":{\"outlinewidth\":0,\"ticks\":\"\"}}}],\"carpet\":[{\"aaxis\":{\"endlinecolor\":\"#2a3f5f\",\"gridcolor\":\"white\",\"linecolor\":\"white\",\"minorgridcolor\":\"white\",\"startlinecolor\":\"#2a3f5f\"},\"baxis\":{\"endlinecolor\":\"#2a3f5f\",\"gridcolor\":\"white\",\"linecolor\":\"white\",\"minorgridcolor\":\"white\",\"startlinecolor\":\"#2a3f5f\"},\"type\":\"carpet\"}],\"table\":[{\"cells\":{\"fill\":{\"color\":\"#EBF0F8\"},\"line\":{\"color\":\"white\"}},\"header\":{\"fill\":{\"color\":\"#C8D4E3\"},\"line\":{\"color\":\"white\"}},\"type\":\"table\"}],\"barpolar\":[{\"marker\":{\"line\":{\"color\":\"#E5ECF6\",\"width\":0.5},\"pattern\":{\"fillmode\":\"overlay\",\"size\":10,\"solidity\":0.2}},\"type\":\"barpolar\"}],\"pie\":[{\"automargin\":true,\"type\":\"pie\"}]},\"layout\":{\"autotypenumbers\":\"strict\",\"colorway\":[\"#636efa\",\"#EF553B\",\"#00cc96\",\"#ab63fa\",\"#FFA15A\",\"#19d3f3\",\"#FF6692\",\"#B6E880\",\"#FF97FF\",\"#FECB52\"],\"font\":{\"color\":\"#2a3f5f\"},\"hovermode\":\"closest\",\"hoverlabel\":{\"align\":\"left\"},\"paper_bgcolor\":\"white\",\"plot_bgcolor\":\"#E5ECF6\",\"polar\":{\"bgcolor\":\"#E5ECF6\",\"angularaxis\":{\"gridcolor\":\"white\",\"linecolor\":\"white\",\"ticks\":\"\"},\"radialaxis\":{\"gridcolor\":\"white\",\"linecolor\":\"white\",\"ticks\":\"\"}},\"ternary\":{\"bgcolor\":\"#E5ECF6\",\"aaxis\":{\"gridcolor\":\"white\",\"linecolor\":\"white\",\"ticks\":\"\"},\"baxis\":{\"gridcolor\":\"white\",\"linecolor\":\"white\",\"ticks\":\"\"},\"caxis\":{\"gridcolor\":\"white\",\"linecolor\":\"white\",\"ticks\":\"\"}},\"coloraxis\":{\"colorbar\":{\"outlinewidth\":0,\"ticks\":\"\"}},\"colorscale\":{\"sequential\":[[0.0,\"#0d0887\"],[0.1111111111111111,\"#46039f\"],[0.2222222222222222,\"#7201a8\"],[0.3333333333333333,\"#9c179e\"],[0.4444444444444444,\"#bd3786\"],[0.5555555555555556,\"#d8576b\"],[0.6666666666666666,\"#ed7953\"],[0.7777777777777778,\"#fb9f3a\"],[0.8888888888888888,\"#fdca26\"],[1.0,\"#f0f921\"]],\"sequentialminus\":[[0.0,\"#0d0887\"],[0.1111111111111111,\"#46039f\"],[0.2222222222222222,\"#7201a8\"],[0.3333333333333333,\"#9c179e\"],[0.4444444444444444,\"#bd3786\"],[0.5555555555555556,\"#d8576b\"],[0.6666666666666666,\"#ed7953\"],[0.7777777777777778,\"#fb9f3a\"],[0.8888888888888888,\"#fdca26\"],[1.0,\"#f0f921\"]],\"diverging\":[[0,\"#8e0152\"],[0.1,\"#c51b7d\"],[0.2,\"#de77ae\"],[0.3,\"#f1b6da\"],[0.4,\"#fde0ef\"],[0.5,\"#f7f7f7\"],[0.6,\"#e6f5d0\"],[0.7,\"#b8e186\"],[0.8,\"#7fbc41\"],[0.9,\"#4d9221\"],[1,\"#276419\"]]},\"xaxis\":{\"gridcolor\":\"white\",\"linecolor\":\"white\",\"ticks\":\"\",\"title\":{\"standoff\":15},\"zerolinecolor\":\"white\",\"automargin\":true,\"zerolinewidth\":2},\"yaxis\":{\"gridcolor\":\"white\",\"linecolor\":\"white\",\"ticks\":\"\",\"title\":{\"standoff\":15},\"zerolinecolor\":\"white\",\"automargin\":true,\"zerolinewidth\":2},\"scene\":{\"xaxis\":{\"backgroundcolor\":\"#E5ECF6\",\"gridcolor\":\"white\",\"linecolor\":\"white\",\"showbackground\":true,\"ticks\":\"\",\"zerolinecolor\":\"white\",\"gridwidth\":2},\"yaxis\":{\"backgroundcolor\":\"#E5ECF6\",\"gridcolor\":\"white\",\"linecolor\":\"white\",\"showbackground\":true,\"ticks\":\"\",\"zerolinecolor\":\"white\",\"gridwidth\":2},\"zaxis\":{\"backgroundcolor\":\"#E5ECF6\",\"gridcolor\":\"white\",\"linecolor\":\"white\",\"showbackground\":true,\"ticks\":\"\",\"zerolinecolor\":\"white\",\"gridwidth\":2}},\"shapedefaults\":{\"line\":{\"color\":\"#2a3f5f\"}},\"annotationdefaults\":{\"arrowcolor\":\"#2a3f5f\",\"arrowhead\":0,\"arrowwidth\":1},\"geo\":{\"bgcolor\":\"white\",\"landcolor\":\"#E5ECF6\",\"subunitcolor\":\"white\",\"showland\":true,\"showlakes\":true,\"lakecolor\":\"white\"},\"title\":{\"x\":0.05},\"mapbox\":{\"style\":\"light\"}}},\"xaxis\":{\"anchor\":\"y\",\"domain\":[0.0,1.0],\"title\":{\"text\":\"Total Trade Quantity\"}},\"yaxis\":{\"anchor\":\"x\",\"domain\":[0.0,1.0],\"title\":{\"text\":\"Close\"}},\"coloraxis\":{\"colorbar\":{\"title\":{\"text\":\"month\"}},\"colorscale\":[[0.0,\"#0d0887\"],[0.1111111111111111,\"#46039f\"],[0.2222222222222222,\"#7201a8\"],[0.3333333333333333,\"#9c179e\"],[0.4444444444444444,\"#bd3786\"],[0.5555555555555556,\"#d8576b\"],[0.6666666666666666,\"#ed7953\"],[0.7777777777777778,\"#fb9f3a\"],[0.8888888888888888,\"#fdca26\"],[1.0,\"#f0f921\"]]},\"legend\":{\"tracegroupgap\":0},\"title\":{\"text\":\"Trade Quantity vs. Close Price\"}},                        {\"responsive\": true}                    ).then(function(){\n",
       "                            \n",
       "var gd = document.getElementById('6483ae20-fd74-4e33-b5ae-d77091ac25c5');\n",
       "var x = new MutationObserver(function (mutations, observer) {{\n",
       "        var display = window.getComputedStyle(gd).display;\n",
       "        if (!display || display === 'none') {{\n",
       "            console.log([gd, 'removed!']);\n",
       "            Plotly.purge(gd);\n",
       "            observer.disconnect();\n",
       "        }}\n",
       "}});\n",
       "\n",
       "// Listen for the removal of the full notebook cells\n",
       "var notebookContainer = gd.closest('#notebook-container');\n",
       "if (notebookContainer) {{\n",
       "    x.observe(notebookContainer, {childList: true});\n",
       "}}\n",
       "\n",
       "// Listen for the clearing of the current output cell\n",
       "var outputEl = gd.closest('.output');\n",
       "if (outputEl) {{\n",
       "    x.observe(outputEl, {childList: true});\n",
       "}}\n",
       "\n",
       "                        })                };                });            </script>        </div>"
      ]
     },
     "metadata": {},
     "output_type": "display_data"
    }
   ],
   "source": [
    "fig = px.scatter(df, x='Total Trade Quantity', y='Close', title='Trade Quantity vs. Close Price', color='month')\n",
    "fig.show()"
   ]
  },
  {
   "cell_type": "code",
   "execution_count": 16,
   "id": "ea05b522",
   "metadata": {
    "execution": {
     "iopub.execute_input": "2024-09-24T18:01:10.682116Z",
     "iopub.status.busy": "2024-09-24T18:01:10.681662Z",
     "iopub.status.idle": "2024-09-24T18:01:10.795962Z",
     "shell.execute_reply": "2024-09-24T18:01:10.794722Z"
    },
    "id": "irr9FmVt46Ei",
    "outputId": "001f6836-5fc8-4545-f653-5157cd3d0e0d",
    "papermill": {
     "duration": 0.133856,
     "end_time": "2024-09-24T18:01:10.799453",
     "exception": false,
     "start_time": "2024-09-24T18:01:10.665597",
     "status": "completed"
    },
    "tags": []
   },
   "outputs": [
    {
     "data": {
      "text/html": [
       "<div>                            <div id=\"1701ab0b-98da-4ce0-b6e6-89579c51918a\" class=\"plotly-graph-div\" style=\"height:525px; width:100%;\"></div>            <script type=\"text/javascript\">                require([\"plotly\"], function(Plotly) {                    window.PLOTLYENV=window.PLOTLYENV || {};                                    if (document.getElementById(\"1701ab0b-98da-4ce0-b6e6-89579c51918a\")) {                    Plotly.newPlot(                        \"1701ab0b-98da-4ce0-b6e6-89579c51918a\",                        [{\"customdata\":[[2018],[2018],[2018],[2018],[2018],[2018],[2018],[2018],[2018],[2018],[2018],[2018],[2018],[2018],[2018],[2018],[2018],[2018],[2018],[2018],[2018],[2018],[2018],[2018],[2018],[2018],[2018],[2018],[2018],[2018],[2018],[2018],[2018],[2018],[2018],[2018],[2018],[2018],[2018],[2018],[2018],[2018],[2018],[2018],[2018],[2018],[2018],[2018],[2018],[2018],[2018],[2018],[2018],[2018],[2018],[2018],[2018],[2018],[2018],[2018],[2018],[2018],[2018],[2018],[2018],[2018],[2018],[2018],[2018],[2018],[2018],[2018],[2018],[2018],[2018],[2018],[2018],[2018],[2018],[2018],[2018],[2018],[2018],[2018],[2018],[2018],[2018],[2018],[2018],[2018],[2018],[2018],[2018],[2018],[2018],[2018],[2018],[2018],[2018],[2018],[2018],[2018],[2018],[2018],[2018],[2018],[2018],[2018],[2018],[2018],[2018],[2018],[2018],[2018],[2018],[2018],[2018],[2018],[2018],[2018],[2018],[2018],[2018],[2018],[2018],[2018],[2018],[2018],[2018],[2018],[2018],[2018],[2018],[2018],[2018],[2018],[2018],[2018],[2018],[2018],[2018],[2018],[2018],[2018],[2018],[2018],[2018],[2018],[2018],[2018],[2018],[2018],[2018],[2018],[2018],[2018],[2018],[2018],[2018],[2018],[2018],[2018],[2018],[2018],[2018],[2018],[2018],[2018],[2018],[2018],[2018],[2018],[2018],[2018],[2018],[2018],[2018],[2018],[2018],[2018],[2018],[2018],[2018],[2018],[2018],[2017],[2017],[2017],[2017],[2017],[2017],[2017],[2017],[2017],[2017],[2017],[2017],[2017],[2017],[2017],[2017],[2017],[2017],[2017],[2017],[2017],[2017],[2017],[2017],[2017],[2017],[2017],[2017],[2017],[2017],[2017],[2017],[2017],[2017],[2017],[2017],[2017],[2017],[2017],[2017],[2017],[2017],[2017],[2017],[2017],[2017],[2017],[2017],[2017],[2017],[2017],[2017],[2017],[2017],[2017],[2017],[2017],[2017],[2017],[2017],[2017],[2017],[2017],[2017],[2017],[2017],[2017],[2017],[2017],[2017],[2017],[2017],[2017],[2017],[2017],[2017],[2017],[2017],[2017],[2017],[2017],[2017],[2017],[2017],[2017],[2017],[2017],[2017],[2017],[2017],[2017],[2017],[2017],[2017],[2017],[2017],[2017],[2017],[2017],[2017],[2017],[2017],[2017],[2017],[2017],[2017],[2017],[2017],[2017],[2017],[2017],[2017],[2017],[2017],[2017],[2017],[2017],[2017],[2017],[2017],[2017],[2017],[2017],[2017],[2017],[2017],[2017],[2017],[2017],[2017],[2017],[2017],[2017],[2017],[2017],[2017],[2017],[2017],[2017],[2017],[2017],[2017],[2017],[2017],[2017],[2017],[2017],[2017],[2017],[2017],[2017],[2017],[2017],[2017],[2017],[2017],[2017],[2017],[2017],[2017],[2017],[2017],[2017],[2017],[2017],[2017],[2017],[2017],[2017],[2017],[2017],[2017],[2017],[2017],[2017],[2017],[2017],[2017],[2017],[2017],[2017],[2017],[2017],[2017],[2017],[2017],[2017],[2017],[2017],[2017],[2017],[2017],[2017],[2017],[2017],[2017],[2017],[2017],[2017],[2017],[2017],[2017],[2017],[2017],[2017],[2017],[2017],[2017],[2017],[2017],[2017],[2017],[2017],[2017],[2017],[2017],[2017],[2017],[2017],[2017],[2017],[2017],[2017],[2017],[2017],[2017],[2017],[2017],[2017],[2017],[2017],[2017],[2017],[2017],[2017],[2017],[2017],[2017],[2017],[2017],[2017],[2017],[2017],[2017],[2017],[2017],[2017],[2017],[2016],[2016],[2016],[2016],[2016],[2016],[2016],[2016],[2016],[2016],[2016],[2016],[2016],[2016],[2016],[2016],[2016],[2016],[2016],[2016],[2016],[2016],[2016],[2016],[2016],[2016],[2016],[2016],[2016],[2016],[2016],[2016],[2016],[2016],[2016],[2016],[2016],[2016],[2016],[2016],[2016],[2016],[2016],[2016],[2016],[2016],[2016],[2016],[2016],[2016],[2016],[2016],[2016],[2016],[2016],[2016],[2016],[2016],[2016],[2016],[2016],[2016],[2016],[2016],[2016],[2016],[2016],[2016],[2016],[2016],[2016],[2016],[2016],[2016],[2016],[2016],[2016],[2016],[2016],[2016],[2016],[2016],[2016],[2016],[2016],[2016],[2016],[2016],[2016],[2016],[2016],[2016],[2016],[2016],[2016],[2016],[2016],[2016],[2016],[2016],[2016],[2016],[2016],[2016],[2016],[2016],[2016],[2016],[2016],[2016],[2016],[2016],[2016],[2016],[2016],[2016],[2016],[2016],[2016],[2016],[2016],[2016],[2016],[2016],[2016],[2016],[2016],[2016],[2016],[2016],[2016],[2016],[2016],[2016],[2016],[2016],[2016],[2016],[2016],[2016],[2016],[2016],[2016],[2016],[2016],[2016],[2016],[2016],[2016],[2016],[2016],[2016],[2016],[2016],[2016],[2016],[2016],[2016],[2016],[2016],[2016],[2016],[2016],[2016],[2016],[2016],[2016],[2016],[2016],[2016],[2016],[2016],[2016],[2016],[2016],[2016],[2016],[2016],[2016],[2016],[2016],[2016],[2016],[2016],[2016],[2016],[2016],[2016],[2016],[2016],[2016],[2016],[2016],[2016],[2016],[2016],[2016],[2016],[2016],[2016],[2016],[2016],[2016],[2016],[2016],[2016],[2016],[2016],[2016],[2016],[2016],[2016],[2016],[2016],[2016],[2016],[2016],[2016],[2016],[2016],[2016],[2016],[2016],[2016],[2016],[2016],[2016],[2016],[2016],[2016],[2016],[2016],[2016],[2016],[2016],[2016],[2016],[2016],[2016],[2016],[2016],[2016],[2016],[2016],[2016],[2016],[2016],[2015],[2015],[2015],[2015],[2015],[2015],[2015],[2015],[2015],[2015],[2015],[2015],[2015],[2015],[2015],[2015],[2015],[2015],[2015],[2015],[2015],[2015],[2015],[2015],[2015],[2015],[2015],[2015],[2015],[2015],[2015],[2015],[2015],[2015],[2015],[2015],[2015],[2015],[2015],[2015],[2015],[2015],[2015],[2015],[2015],[2015],[2015],[2015],[2015],[2015],[2015],[2015],[2015],[2015],[2015],[2015],[2015],[2015],[2015],[2015],[2015],[2015],[2015],[2015],[2015],[2015],[2015],[2015],[2015],[2015],[2015],[2015],[2015],[2015],[2015],[2015],[2015],[2015],[2015],[2015],[2015],[2015],[2015],[2015],[2015],[2015],[2015],[2015],[2015],[2015],[2015],[2015],[2015],[2015],[2015],[2015],[2015],[2015],[2015],[2015],[2015],[2015],[2015],[2015],[2015],[2015],[2015],[2015],[2015],[2015],[2015],[2015],[2015],[2015],[2015],[2015],[2015],[2015],[2015],[2015],[2015],[2015],[2015],[2015],[2015],[2015],[2015],[2015],[2015],[2015],[2015],[2015],[2015],[2015],[2015],[2015],[2015],[2015],[2015],[2015],[2015],[2015],[2015],[2015],[2015],[2015],[2015],[2015],[2015],[2015],[2015],[2015],[2015],[2015],[2015],[2015],[2015],[2015],[2015],[2015],[2015],[2015],[2015],[2015],[2015],[2015],[2015],[2015],[2015],[2015],[2015],[2015],[2015],[2015],[2015],[2015],[2015],[2015],[2015],[2015],[2015],[2015],[2015],[2015],[2015],[2015],[2015],[2015],[2015],[2015],[2015],[2015],[2015],[2015],[2015],[2015],[2015],[2015],[2015],[2015],[2015],[2015],[2015],[2015],[2015],[2015],[2015],[2015],[2015],[2015],[2015],[2015],[2015],[2015],[2015],[2015],[2015],[2015],[2015],[2015],[2015],[2015],[2015],[2015],[2015],[2015],[2015],[2015],[2015],[2015],[2015],[2015],[2015],[2015],[2015],[2015],[2015],[2015],[2015],[2015],[2015],[2015],[2015],[2015],[2015],[2015],[2015],[2015],[2014],[2014],[2014],[2014],[2014],[2014],[2014],[2014],[2014],[2014],[2014],[2014],[2014],[2014],[2014],[2014],[2014],[2014],[2014],[2014],[2014],[2014],[2014],[2014],[2014],[2014],[2014],[2014],[2014],[2014],[2014],[2014],[2014],[2014],[2014],[2014],[2014],[2014],[2014],[2014],[2014],[2014],[2014],[2014],[2014],[2014],[2014],[2014],[2014],[2014],[2014],[2014],[2014],[2014],[2014],[2014],[2014],[2014],[2014],[2014],[2014],[2014],[2014],[2014],[2014],[2014],[2014],[2014],[2014],[2014],[2014],[2014],[2014],[2014],[2014],[2014],[2014],[2014],[2014],[2014],[2014],[2014],[2014],[2014],[2014],[2014],[2014],[2014],[2014],[2014],[2014],[2014],[2014],[2014],[2014],[2014],[2014],[2014],[2014],[2014],[2014],[2014],[2014],[2014],[2014],[2014],[2014],[2014],[2014],[2014],[2014],[2014],[2014],[2014],[2014],[2014],[2014],[2014],[2014],[2014],[2014],[2014],[2014],[2014],[2014],[2014],[2014],[2014],[2014],[2014],[2014],[2014],[2014],[2014],[2014],[2014],[2014],[2014],[2014],[2014],[2014],[2014],[2014],[2014],[2014],[2014],[2014],[2014],[2014],[2014],[2014],[2014],[2014],[2014],[2014],[2014],[2014],[2014],[2014],[2014],[2014],[2014],[2014],[2014],[2014],[2014],[2014],[2014],[2014],[2014],[2014],[2014],[2014],[2014],[2014],[2014],[2014],[2014],[2014],[2014],[2014],[2014],[2014],[2014],[2014],[2014],[2014],[2014],[2014],[2014],[2014],[2014],[2014],[2014],[2014],[2014],[2014],[2014],[2014],[2014],[2014],[2014],[2014],[2014],[2014],[2014],[2014],[2014],[2014],[2014],[2014],[2014],[2014],[2014],[2014],[2014],[2014],[2014],[2014],[2014],[2014],[2014],[2014],[2014],[2014],[2014],[2014],[2014],[2014],[2014],[2014],[2014],[2014],[2014],[2014],[2014],[2014],[2014],[2014],[2014],[2014],[2014],[2014],[2014],[2013],[2013],[2013],[2013],[2013],[2013],[2013],[2013],[2013],[2013],[2013],[2013],[2013],[2013],[2013],[2013],[2013],[2013],[2013],[2013],[2013],[2013],[2013],[2013],[2013],[2013],[2013],[2013],[2013],[2013],[2013],[2013],[2013],[2013],[2013],[2013],[2013],[2013],[2013],[2013],[2013],[2013],[2013],[2013],[2013],[2013],[2013],[2013],[2013],[2013],[2013],[2013],[2013],[2013],[2013],[2013],[2013],[2013],[2013],[2013],[2013],[2013],[2013],[2013],[2013],[2013],[2013],[2013],[2013],[2013],[2013],[2013],[2013],[2013],[2013],[2013],[2013],[2013],[2013],[2013],[2013],[2013],[2013],[2013],[2013],[2013],[2013],[2013],[2013],[2013],[2013],[2013],[2013],[2013],[2013],[2013],[2013],[2013],[2013],[2013],[2013],[2013],[2013],[2013],[2013],[2013],[2013],[2013],[2013],[2013],[2013],[2013],[2013],[2013],[2013],[2013],[2013],[2013],[2013],[2013],[2013],[2013],[2013],[2013],[2013],[2013],[2013],[2013],[2013],[2013],[2013],[2013],[2013],[2013],[2013],[2013],[2013],[2013],[2013],[2013],[2013],[2013],[2013],[2013],[2013],[2013],[2013],[2013],[2013],[2013],[2013],[2013],[2013],[2013],[2013],[2013],[2013],[2013],[2013],[2013],[2013],[2013],[2013],[2013],[2013],[2013],[2013],[2013],[2013],[2013],[2013],[2013],[2013],[2013],[2013],[2013],[2013],[2013],[2013],[2013],[2013],[2013],[2013],[2013],[2013],[2013],[2013],[2013],[2013],[2013],[2013],[2013],[2013],[2013],[2013],[2013],[2013],[2013],[2013],[2013],[2013],[2013],[2013],[2013],[2013],[2013],[2013],[2013],[2013],[2013],[2013],[2013],[2013],[2013],[2013],[2013],[2013],[2013],[2013],[2013],[2013],[2013],[2013],[2013],[2013],[2013],[2013],[2013],[2013],[2013],[2013],[2013],[2013],[2013],[2013],[2013],[2013],[2013],[2013],[2013],[2013],[2013],[2013],[2013],[2013],[2013],[2013],[2013],[2013],[2013],[2012],[2012],[2012],[2012],[2012],[2012],[2012],[2012],[2012],[2012],[2012],[2012],[2012],[2012],[2012],[2012],[2012],[2012],[2012],[2012],[2012],[2012],[2012],[2012],[2012],[2012],[2012],[2012],[2012],[2012],[2012],[2012],[2012],[2012],[2012],[2012],[2012],[2012],[2012],[2012],[2012],[2012],[2012],[2012],[2012],[2012],[2012],[2012],[2012],[2012],[2012],[2012],[2012],[2012],[2012],[2012],[2012],[2012],[2012],[2012],[2012],[2012],[2012],[2012],[2012],[2012],[2012],[2012],[2012],[2012],[2012],[2012],[2012],[2012],[2012],[2012],[2012],[2012],[2012],[2012],[2012],[2012],[2012],[2012],[2012],[2012],[2012],[2012],[2012],[2012],[2012],[2012],[2012],[2012],[2012],[2012],[2012],[2012],[2012],[2012],[2012],[2012],[2012],[2012],[2012],[2012],[2012],[2012],[2012],[2012],[2012],[2012],[2012],[2012],[2012],[2012],[2012],[2012],[2012],[2012],[2012],[2012],[2012],[2012],[2012],[2012],[2012],[2012],[2012],[2012],[2012],[2012],[2012],[2012],[2012],[2012],[2012],[2012],[2012],[2012],[2012],[2012],[2012],[2012],[2012],[2012],[2012],[2012],[2012],[2012],[2012],[2012],[2012],[2012],[2012],[2012],[2012],[2012],[2012],[2012],[2012],[2012],[2012],[2012],[2012],[2012],[2012],[2012],[2012],[2012],[2012],[2012],[2012],[2012],[2012],[2012],[2012],[2012],[2012],[2012],[2012],[2012],[2012],[2012],[2012],[2012],[2012],[2012],[2012],[2012],[2012],[2012],[2012],[2012],[2012],[2012],[2012],[2012],[2012],[2012],[2012],[2012],[2012],[2012],[2012],[2012],[2012],[2012],[2012],[2012],[2012],[2012],[2012],[2012],[2012],[2012],[2012],[2012],[2012],[2012],[2012],[2012],[2012],[2012],[2012],[2012],[2012],[2012],[2012],[2012],[2012],[2012],[2012],[2012],[2012],[2012],[2012],[2012],[2012],[2012],[2012],[2012],[2012],[2012],[2012],[2012],[2012],[2012],[2012],[2012],[2012],[2011],[2011],[2011],[2011],[2011],[2011],[2011],[2011],[2011],[2011],[2011],[2011],[2011],[2011],[2011],[2011],[2011],[2011],[2011],[2011],[2011],[2011],[2011],[2011],[2011],[2011],[2011],[2011],[2011],[2011],[2011],[2011],[2011],[2011],[2011],[2011],[2011],[2011],[2011],[2011],[2011],[2011],[2011],[2011],[2011],[2011],[2011],[2011],[2011],[2011],[2011],[2011],[2011],[2011],[2011],[2011],[2011],[2011],[2011],[2011],[2011],[2011],[2011],[2011],[2011],[2011],[2011],[2011],[2011],[2011],[2011],[2011],[2011],[2011],[2011],[2011],[2011],[2011],[2011],[2011],[2011],[2011],[2011],[2011],[2011],[2011],[2011],[2011],[2011],[2011],[2011],[2011],[2011],[2011],[2011],[2011],[2011],[2011],[2011],[2011],[2011],[2011],[2011],[2011],[2011],[2011],[2011],[2011],[2011],[2011],[2011],[2011],[2011],[2011],[2011],[2011],[2011],[2011],[2011],[2011],[2011],[2011],[2011],[2011],[2011],[2011],[2011],[2011],[2011],[2011],[2011],[2011],[2011],[2011],[2011],[2011],[2011],[2011],[2011],[2011],[2011],[2011],[2011],[2011],[2011],[2011],[2011],[2011],[2011],[2011],[2011],[2011],[2011],[2011],[2011],[2011],[2011],[2011],[2011],[2011],[2011],[2011],[2011],[2011],[2011],[2011],[2011],[2011],[2011],[2011],[2011],[2011],[2011],[2011],[2011],[2011],[2011],[2011],[2011],[2011],[2011],[2011],[2011],[2011],[2011],[2011],[2011],[2011],[2011],[2011],[2011],[2011],[2011],[2011],[2011],[2011],[2011],[2011],[2011],[2011],[2011],[2011],[2011],[2011],[2011],[2011],[2011],[2011],[2011],[2011],[2011],[2011],[2011],[2011],[2011],[2011],[2011],[2011],[2011],[2011],[2011],[2011],[2011],[2011],[2011],[2011],[2011],[2011],[2011],[2011],[2011],[2011],[2011],[2011],[2011],[2011],[2011],[2011],[2011],[2011],[2011],[2011],[2011],[2011],[2011],[2011],[2011],[2010],[2010],[2010],[2010],[2010],[2010],[2010],[2010],[2010],[2010],[2010],[2010],[2010],[2010],[2010],[2010],[2010],[2010],[2010],[2010],[2010],[2010],[2010],[2010],[2010],[2010],[2010],[2010],[2010],[2010],[2010],[2010],[2010],[2010],[2010],[2010],[2010],[2010],[2010],[2010],[2010],[2010],[2010],[2010],[2010],[2010],[2010],[2010],[2010],[2010],[2010],[2010],[2010],[2010],[2010],[2010],[2010],[2010],[2010],[2010],[2010],[2010],[2010],[2010],[2010],[2010],[2010],[2010],[2010],[2010],[2010],[2010],[2010],[2010],[2010],[2010],[2010],[2010],[2010],[2010],[2010],[2010],[2010],[2010],[2010],[2010],[2010],[2010],[2010],[2010],[2010],[2010],[2010],[2010],[2010],[2010],[2010],[2010],[2010],[2010],[2010],[2010],[2010],[2010],[2010],[2010],[2010],[2010],[2010],[2010],[2010],[2010],[2010],[2010],[2010]],\"domain\":{\"x\":[0.0,1.0],\"y\":[0.0,1.0]},\"hovertemplate\":\"month=%{label}\\u003cbr\\u003eTurnover (Lacs)=%{value}\\u003cbr\\u003eyear=%{customdata[0]}\\u003cextra\\u003e\\u003c\\u002fextra\\u003e\",\"labels\":[9,9,9,9,9,9,9,9,9,9,9,9,9,9,9,9,9,9,8,8,8,8,8,8,8,8,8,8,8,8,8,8,8,8,8,8,8,8,8,7,7,7,7,7,7,7,7,7,7,7,7,7,7,7,7,7,7,7,7,7,7,6,6,6,6,6,6,6,6,6,6,6,6,6,6,6,6,6,6,6,6,6,5,5,5,5,5,5,5,5,5,5,5,5,5,5,5,5,5,5,5,5,5,5,4,4,4,4,4,4,4,4,4,4,4,4,4,4,4,4,4,4,4,4,4,3,3,3,3,3,3,3,3,3,3,3,3,3,3,3,3,3,3,3,2,2,2,2,2,2,2,2,2,2,2,2,2,2,2,2,2,2,2,1,1,1,1,1,1,1,1,1,1,1,1,1,1,1,1,1,1,1,1,1,1,12,12,12,12,12,12,12,12,12,12,12,12,12,12,12,12,12,12,12,12,11,11,11,11,11,11,11,11,11,11,11,11,11,11,11,11,11,11,11,11,11,11,10,10,10,10,10,10,10,10,10,10,10,10,10,10,10,10,10,10,10,10,9,9,9,9,9,9,9,9,9,9,9,9,9,9,9,9,9,9,9,9,9,8,8,8,8,8,8,8,8,8,8,8,8,8,8,8,8,8,8,8,8,8,7,7,7,7,7,7,7,7,7,7,7,7,7,7,7,7,7,7,7,7,7,6,6,6,6,6,6,6,6,6,6,6,6,6,6,6,6,6,6,6,6,6,5,5,5,5,5,5,5,5,5,5,5,5,5,5,5,5,5,5,5,5,5,5,4,4,4,4,4,4,4,4,4,4,4,4,4,4,4,4,4,4,3,3,3,3,3,3,3,3,3,3,3,3,3,3,3,3,3,3,3,3,3,3,2,2,2,2,2,2,2,2,2,2,2,2,2,2,2,2,2,2,2,1,1,1,1,1,1,1,1,1,1,1,1,1,1,1,1,1,1,1,1,1,12,12,12,12,12,12,12,12,12,12,12,12,12,12,12,12,12,12,12,12,12,12,11,11,11,11,11,11,11,11,11,11,11,11,11,11,11,11,11,11,11,11,11,10,10,10,10,10,10,10,10,10,10,10,10,10,10,10,10,10,10,10,9,9,9,9,9,9,9,9,9,9,9,9,9,9,9,9,9,9,9,9,8,8,8,8,8,8,8,8,8,8,8,8,8,8,8,8,8,8,8,8,8,8,7,7,7,7,7,7,7,7,7,7,7,7,7,7,7,7,7,7,7,7,6,6,6,6,6,6,6,6,6,6,6,6,6,6,6,6,6,6,6,6,6,6,5,5,5,5,5,5,5,5,5,5,5,5,5,5,5,5,5,5,5,5,5,5,4,4,4,4,4,4,4,4,4,4,4,4,4,4,4,4,4,4,3,3,3,3,3,3,3,3,3,3,3,3,3,3,3,3,3,3,3,3,2,2,2,2,2,2,2,2,2,2,2,2,2,2,2,2,2,2,2,2,2,1,1,1,1,1,1,1,1,1,1,1,1,1,1,1,1,1,1,1,1,12,12,12,12,12,12,12,12,12,12,12,12,12,12,12,12,12,12,12,12,12,12,11,11,11,11,11,11,11,11,11,11,11,11,11,11,11,11,11,11,11,10,10,10,10,10,10,10,10,10,10,10,10,10,10,10,10,10,10,10,10,9,9,9,9,9,9,9,9,9,9,9,9,9,9,9,9,9,9,9,9,8,8,8,8,8,8,8,8,8,8,8,8,8,8,8,8,8,8,8,8,8,7,7,7,7,7,7,7,7,7,7,7,7,7,7,7,7,7,7,7,7,7,7,7,6,6,6,6,6,6,6,6,6,6,6,6,6,6,6,6,6,6,6,6,6,6,5,5,5,5,5,5,5,5,5,5,5,5,5,5,5,5,5,5,5,5,4,4,4,4,4,4,4,4,4,4,4,4,4,4,4,4,4,4,4,3,3,3,3,3,3,3,3,3,3,3,3,3,3,3,3,3,3,3,3,3,2,2,2,2,2,2,2,2,2,2,2,2,2,2,2,2,2,2,2,2,1,1,1,1,1,1,1,1,1,1,1,1,1,1,1,1,1,1,1,1,1,12,12,12,12,12,12,12,12,12,12,12,12,12,12,12,12,12,12,12,12,12,12,11,11,11,11,11,11,11,11,11,11,11,11,11,11,11,11,11,11,10,10,10,10,10,10,10,10,10,10,10,10,10,10,10,10,10,10,9,9,9,9,9,9,9,9,9,9,9,9,9,9,9,9,9,9,9,9,9,9,8,8,8,8,8,8,8,8,8,8,8,8,8,8,8,8,8,8,8,7,7,7,7,7,7,7,7,7,7,7,7,7,7,7,7,7,7,7,7,7,7,6,6,6,6,6,6,6,6,6,6,6,6,6,6,6,6,6,6,6,6,6,5,5,5,5,5,5,5,5,5,5,5,5,5,5,5,5,5,5,5,5,5,4,4,4,4,4,4,4,4,4,4,4,4,4,4,4,4,4,4,3,3,3,3,3,3,3,3,3,3,3,3,3,3,3,3,3,3,3,3,3,2,2,2,2,2,2,2,2,2,2,2,2,2,2,2,2,2,2,2,1,1,1,1,1,1,1,1,1,1,1,1,1,1,1,1,1,1,1,1,1,1,1,12,12,12,12,12,12,12,12,12,12,12,12,12,12,12,12,12,12,12,12,12,11,11,11,11,11,11,11,11,11,11,11,11,11,11,11,11,11,11,11,11,10,10,10,10,10,10,10,10,10,10,10,10,10,10,10,10,10,10,10,10,10,9,9,9,9,9,9,9,9,9,9,9,9,9,9,9,9,9,9,9,9,8,8,8,8,8,8,8,8,8,8,8,8,8,8,8,8,8,8,8,8,7,7,7,7,7,7,7,7,7,7,7,7,7,7,7,7,7,7,7,7,7,7,7,6,6,6,6,6,6,6,6,6,6,6,6,6,6,6,6,6,6,6,6,5,5,5,5,5,5,5,5,5,5,5,5,5,5,5,5,5,5,5,5,5,5,5,4,4,4,4,4,4,4,4,4,4,4,4,4,4,4,4,4,4,4,4,3,3,3,3,3,3,3,3,3,3,3,3,3,3,3,3,3,3,3,2,2,2,2,2,2,2,2,2,2,2,2,2,2,2,2,2,2,2,2,1,1,1,1,1,1,1,1,1,1,1,1,1,1,1,1,1,1,1,1,1,1,1,12,12,12,12,12,12,12,12,12,12,12,12,12,12,12,12,12,12,12,12,11,11,11,11,11,11,11,11,11,11,11,11,11,11,11,11,11,11,11,11,10,10,10,10,10,10,10,10,10,10,10,10,10,10,10,10,10,10,10,10,10,9,9,9,9,9,9,9,9,9,9,9,9,9,9,9,9,9,9,9,9,8,8,8,8,8,8,8,8,8,8,8,8,8,8,8,8,8,8,8,8,8,7,7,7,7,7,7,7,7,7,7,7,7,7,7,7,7,7,7,7,7,7,7,6,6,6,6,6,6,6,6,6,6,6,6,6,6,6,6,6,6,6,6,6,5,5,5,5,5,5,5,5,5,5,5,5,5,5,5,5,5,5,5,5,5,5,4,4,4,4,4,4,4,4,4,4,4,4,4,4,4,4,4,4,4,4,3,3,3,3,3,3,3,3,3,3,3,3,3,3,3,3,3,3,3,3,3,3,2,2,2,2,2,2,2,2,2,2,2,2,2,2,2,2,2,2,2,2,1,1,1,1,1,1,1,1,1,1,1,1,1,1,1,1,1,1,1,1,1,1,12,12,12,12,12,12,12,12,12,12,12,12,12,12,12,12,12,12,12,12,12,11,11,11,11,11,11,11,11,11,11,11,11,11,11,11,11,11,11,11,11,10,10,10,10,10,10,10,10,10,10,10,10,10,10,10,10,10,10,10,9,9,9,9,9,9,9,9,9,9,9,9,9,9,9,9,9,9,9,9,9,8,8,8,8,8,8,8,8,8,8,8,8,8,8,8,8,8,8,8,8,8,7,7,7,7,7,7,7,7,7,7,7,7,7,7,7,7,7,7,7,7,7,6,6,6,6,6,6,6,6,6,6,6,6,6,6,6,6,6,6,6,6,6,6,5,5,5,5,5,5,5,5,5,5,5,5,5,5,5,5,5,5,5,5,5,5,4,4,4,4,4,4,4,4,4,4,4,4,4,4,4,4,4,4,3,3,3,3,3,3,3,3,3,3,3,3,3,3,3,3,3,3,3,3,3,3,2,2,2,2,2,2,2,2,2,2,2,2,2,2,2,2,2,2,2,2,1,1,1,1,1,1,1,1,1,1,1,1,1,1,1,1,1,1,1,1,12,12,12,12,12,12,12,12,12,12,12,12,12,12,12,12,12,12,12,12,12,12,11,11,11,11,11,11,11,11,11,11,11,11,11,11,11,11,11,11,11,11,11,10,10,10,10,10,10,10,10,10,10,10,10,10,10,10,10,10,10,10,10,10,9,9,9,9,9,9,9,9,9,9,9,9,9,9,9,9,9,9,9,9,9,8,8,8,8,8,8,8,8,8,8,8,8,8,8,8,8,8,8,8,8,8,8,7,7,7,7,7,7,7,7],\"legendgroup\":\"\",\"marker\":{\"colors\":[\"#636efa\",\"#636efa\",\"#636efa\",\"#636efa\",\"#636efa\",\"#636efa\",\"#636efa\",\"#636efa\",\"#636efa\",\"#636efa\",\"#636efa\",\"#636efa\",\"#636efa\",\"#636efa\",\"#636efa\",\"#636efa\",\"#636efa\",\"#636efa\",\"#636efa\",\"#636efa\",\"#636efa\",\"#636efa\",\"#636efa\",\"#636efa\",\"#636efa\",\"#636efa\",\"#636efa\",\"#636efa\",\"#636efa\",\"#636efa\",\"#636efa\",\"#636efa\",\"#636efa\",\"#636efa\",\"#636efa\",\"#636efa\",\"#636efa\",\"#636efa\",\"#636efa\",\"#636efa\",\"#636efa\",\"#636efa\",\"#636efa\",\"#636efa\",\"#636efa\",\"#636efa\",\"#636efa\",\"#636efa\",\"#636efa\",\"#636efa\",\"#636efa\",\"#636efa\",\"#636efa\",\"#636efa\",\"#636efa\",\"#636efa\",\"#636efa\",\"#636efa\",\"#636efa\",\"#636efa\",\"#636efa\",\"#636efa\",\"#636efa\",\"#636efa\",\"#636efa\",\"#636efa\",\"#636efa\",\"#636efa\",\"#636efa\",\"#636efa\",\"#636efa\",\"#636efa\",\"#636efa\",\"#636efa\",\"#636efa\",\"#636efa\",\"#636efa\",\"#636efa\",\"#636efa\",\"#636efa\",\"#636efa\",\"#636efa\",\"#636efa\",\"#636efa\",\"#636efa\",\"#636efa\",\"#636efa\",\"#636efa\",\"#636efa\",\"#636efa\",\"#636efa\",\"#636efa\",\"#636efa\",\"#636efa\",\"#636efa\",\"#636efa\",\"#636efa\",\"#636efa\",\"#636efa\",\"#636efa\",\"#636efa\",\"#636efa\",\"#636efa\",\"#636efa\",\"#636efa\",\"#636efa\",\"#636efa\",\"#636efa\",\"#636efa\",\"#636efa\",\"#636efa\",\"#636efa\",\"#636efa\",\"#636efa\",\"#636efa\",\"#636efa\",\"#636efa\",\"#636efa\",\"#636efa\",\"#636efa\",\"#636efa\",\"#636efa\",\"#636efa\",\"#636efa\",\"#636efa\",\"#636efa\",\"#636efa\",\"#636efa\",\"#636efa\",\"#636efa\",\"#636efa\",\"#636efa\",\"#636efa\",\"#636efa\",\"#636efa\",\"#636efa\",\"#636efa\",\"#636efa\",\"#636efa\",\"#636efa\",\"#636efa\",\"#636efa\",\"#636efa\",\"#636efa\",\"#636efa\",\"#636efa\",\"#636efa\",\"#636efa\",\"#636efa\",\"#636efa\",\"#636efa\",\"#636efa\",\"#636efa\",\"#636efa\",\"#636efa\",\"#636efa\",\"#636efa\",\"#636efa\",\"#636efa\",\"#636efa\",\"#636efa\",\"#636efa\",\"#636efa\",\"#636efa\",\"#636efa\",\"#636efa\",\"#636efa\",\"#636efa\",\"#636efa\",\"#636efa\",\"#636efa\",\"#636efa\",\"#636efa\",\"#636efa\",\"#636efa\",\"#636efa\",\"#636efa\",\"#636efa\",\"#636efa\",\"#636efa\",\"#636efa\",\"#636efa\",\"#636efa\",\"#636efa\",\"#636efa\",\"#EF553B\",\"#EF553B\",\"#EF553B\",\"#EF553B\",\"#EF553B\",\"#EF553B\",\"#EF553B\",\"#EF553B\",\"#EF553B\",\"#EF553B\",\"#EF553B\",\"#EF553B\",\"#EF553B\",\"#EF553B\",\"#EF553B\",\"#EF553B\",\"#EF553B\",\"#EF553B\",\"#EF553B\",\"#EF553B\",\"#EF553B\",\"#EF553B\",\"#EF553B\",\"#EF553B\",\"#EF553B\",\"#EF553B\",\"#EF553B\",\"#EF553B\",\"#EF553B\",\"#EF553B\",\"#EF553B\",\"#EF553B\",\"#EF553B\",\"#EF553B\",\"#EF553B\",\"#EF553B\",\"#EF553B\",\"#EF553B\",\"#EF553B\",\"#EF553B\",\"#EF553B\",\"#EF553B\",\"#EF553B\",\"#EF553B\",\"#EF553B\",\"#EF553B\",\"#EF553B\",\"#EF553B\",\"#EF553B\",\"#EF553B\",\"#EF553B\",\"#EF553B\",\"#EF553B\",\"#EF553B\",\"#EF553B\",\"#EF553B\",\"#EF553B\",\"#EF553B\",\"#EF553B\",\"#EF553B\",\"#EF553B\",\"#EF553B\",\"#EF553B\",\"#EF553B\",\"#EF553B\",\"#EF553B\",\"#EF553B\",\"#EF553B\",\"#EF553B\",\"#EF553B\",\"#EF553B\",\"#EF553B\",\"#EF553B\",\"#EF553B\",\"#EF553B\",\"#EF553B\",\"#EF553B\",\"#EF553B\",\"#EF553B\",\"#EF553B\",\"#EF553B\",\"#EF553B\",\"#EF553B\",\"#EF553B\",\"#EF553B\",\"#EF553B\",\"#EF553B\",\"#EF553B\",\"#EF553B\",\"#EF553B\",\"#EF553B\",\"#EF553B\",\"#EF553B\",\"#EF553B\",\"#EF553B\",\"#EF553B\",\"#EF553B\",\"#EF553B\",\"#EF553B\",\"#EF553B\",\"#EF553B\",\"#EF553B\",\"#EF553B\",\"#EF553B\",\"#EF553B\",\"#EF553B\",\"#EF553B\",\"#EF553B\",\"#EF553B\",\"#EF553B\",\"#EF553B\",\"#EF553B\",\"#EF553B\",\"#EF553B\",\"#EF553B\",\"#EF553B\",\"#EF553B\",\"#EF553B\",\"#EF553B\",\"#EF553B\",\"#EF553B\",\"#EF553B\",\"#EF553B\",\"#EF553B\",\"#EF553B\",\"#EF553B\",\"#EF553B\",\"#EF553B\",\"#EF553B\",\"#EF553B\",\"#EF553B\",\"#EF553B\",\"#EF553B\",\"#EF553B\",\"#EF553B\",\"#EF553B\",\"#EF553B\",\"#EF553B\",\"#EF553B\",\"#EF553B\",\"#EF553B\",\"#EF553B\",\"#EF553B\",\"#EF553B\",\"#EF553B\",\"#EF553B\",\"#EF553B\",\"#EF553B\",\"#EF553B\",\"#EF553B\",\"#EF553B\",\"#EF553B\",\"#EF553B\",\"#EF553B\",\"#EF553B\",\"#EF553B\",\"#EF553B\",\"#EF553B\",\"#EF553B\",\"#EF553B\",\"#EF553B\",\"#EF553B\",\"#EF553B\",\"#EF553B\",\"#EF553B\",\"#EF553B\",\"#EF553B\",\"#EF553B\",\"#EF553B\",\"#EF553B\",\"#EF553B\",\"#EF553B\",\"#EF553B\",\"#EF553B\",\"#EF553B\",\"#EF553B\",\"#EF553B\",\"#EF553B\",\"#EF553B\",\"#EF553B\",\"#EF553B\",\"#EF553B\",\"#EF553B\",\"#EF553B\",\"#EF553B\",\"#EF553B\",\"#EF553B\",\"#EF553B\",\"#EF553B\",\"#EF553B\",\"#EF553B\",\"#EF553B\",\"#EF553B\",\"#EF553B\",\"#EF553B\",\"#EF553B\",\"#EF553B\",\"#EF553B\",\"#EF553B\",\"#EF553B\",\"#EF553B\",\"#EF553B\",\"#EF553B\",\"#EF553B\",\"#EF553B\",\"#EF553B\",\"#EF553B\",\"#EF553B\",\"#EF553B\",\"#EF553B\",\"#EF553B\",\"#EF553B\",\"#EF553B\",\"#EF553B\",\"#EF553B\",\"#EF553B\",\"#EF553B\",\"#EF553B\",\"#EF553B\",\"#EF553B\",\"#EF553B\",\"#EF553B\",\"#EF553B\",\"#EF553B\",\"#EF553B\",\"#EF553B\",\"#EF553B\",\"#EF553B\",\"#EF553B\",\"#EF553B\",\"#EF553B\",\"#EF553B\",\"#EF553B\",\"#EF553B\",\"#EF553B\",\"#EF553B\",\"#EF553B\",\"#EF553B\",\"#EF553B\",\"#EF553B\",\"#EF553B\",\"#EF553B\",\"#EF553B\",\"#EF553B\",\"#EF553B\",\"#EF553B\",\"#EF553B\",\"#EF553B\",\"#00cc96\",\"#00cc96\",\"#00cc96\",\"#00cc96\",\"#00cc96\",\"#00cc96\",\"#00cc96\",\"#00cc96\",\"#00cc96\",\"#00cc96\",\"#00cc96\",\"#00cc96\",\"#00cc96\",\"#00cc96\",\"#00cc96\",\"#00cc96\",\"#00cc96\",\"#00cc96\",\"#00cc96\",\"#00cc96\",\"#00cc96\",\"#00cc96\",\"#00cc96\",\"#00cc96\",\"#00cc96\",\"#00cc96\",\"#00cc96\",\"#00cc96\",\"#00cc96\",\"#00cc96\",\"#00cc96\",\"#00cc96\",\"#00cc96\",\"#00cc96\",\"#00cc96\",\"#00cc96\",\"#00cc96\",\"#00cc96\",\"#00cc96\",\"#00cc96\",\"#00cc96\",\"#00cc96\",\"#00cc96\",\"#00cc96\",\"#00cc96\",\"#00cc96\",\"#00cc96\",\"#00cc96\",\"#00cc96\",\"#00cc96\",\"#00cc96\",\"#00cc96\",\"#00cc96\",\"#00cc96\",\"#00cc96\",\"#00cc96\",\"#00cc96\",\"#00cc96\",\"#00cc96\",\"#00cc96\",\"#00cc96\",\"#00cc96\",\"#00cc96\",\"#00cc96\",\"#00cc96\",\"#00cc96\",\"#00cc96\",\"#00cc96\",\"#00cc96\",\"#00cc96\",\"#00cc96\",\"#00cc96\",\"#00cc96\",\"#00cc96\",\"#00cc96\",\"#00cc96\",\"#00cc96\",\"#00cc96\",\"#00cc96\",\"#00cc96\",\"#00cc96\",\"#00cc96\",\"#00cc96\",\"#00cc96\",\"#00cc96\",\"#00cc96\",\"#00cc96\",\"#00cc96\",\"#00cc96\",\"#00cc96\",\"#00cc96\",\"#00cc96\",\"#00cc96\",\"#00cc96\",\"#00cc96\",\"#00cc96\",\"#00cc96\",\"#00cc96\",\"#00cc96\",\"#00cc96\",\"#00cc96\",\"#00cc96\",\"#00cc96\",\"#00cc96\",\"#00cc96\",\"#00cc96\",\"#00cc96\",\"#00cc96\",\"#00cc96\",\"#00cc96\",\"#00cc96\",\"#00cc96\",\"#00cc96\",\"#00cc96\",\"#00cc96\",\"#00cc96\",\"#00cc96\",\"#00cc96\",\"#00cc96\",\"#00cc96\",\"#00cc96\",\"#00cc96\",\"#00cc96\",\"#00cc96\",\"#00cc96\",\"#00cc96\",\"#00cc96\",\"#00cc96\",\"#00cc96\",\"#00cc96\",\"#00cc96\",\"#00cc96\",\"#00cc96\",\"#00cc96\",\"#00cc96\",\"#00cc96\",\"#00cc96\",\"#00cc96\",\"#00cc96\",\"#00cc96\",\"#00cc96\",\"#00cc96\",\"#00cc96\",\"#00cc96\",\"#00cc96\",\"#00cc96\",\"#00cc96\",\"#00cc96\",\"#00cc96\",\"#00cc96\",\"#00cc96\",\"#00cc96\",\"#00cc96\",\"#00cc96\",\"#00cc96\",\"#00cc96\",\"#00cc96\",\"#00cc96\",\"#00cc96\",\"#00cc96\",\"#00cc96\",\"#00cc96\",\"#00cc96\",\"#00cc96\",\"#00cc96\",\"#00cc96\",\"#00cc96\",\"#00cc96\",\"#00cc96\",\"#00cc96\",\"#00cc96\",\"#00cc96\",\"#00cc96\",\"#00cc96\",\"#00cc96\",\"#00cc96\",\"#00cc96\",\"#00cc96\",\"#00cc96\",\"#00cc96\",\"#00cc96\",\"#00cc96\",\"#00cc96\",\"#00cc96\",\"#00cc96\",\"#00cc96\",\"#00cc96\",\"#00cc96\",\"#00cc96\",\"#00cc96\",\"#00cc96\",\"#00cc96\",\"#00cc96\",\"#00cc96\",\"#00cc96\",\"#00cc96\",\"#00cc96\",\"#00cc96\",\"#00cc96\",\"#00cc96\",\"#00cc96\",\"#00cc96\",\"#00cc96\",\"#00cc96\",\"#00cc96\",\"#00cc96\",\"#00cc96\",\"#00cc96\",\"#00cc96\",\"#00cc96\",\"#00cc96\",\"#00cc96\",\"#00cc96\",\"#00cc96\",\"#00cc96\",\"#00cc96\",\"#00cc96\",\"#00cc96\",\"#00cc96\",\"#00cc96\",\"#00cc96\",\"#00cc96\",\"#00cc96\",\"#00cc96\",\"#00cc96\",\"#00cc96\",\"#00cc96\",\"#00cc96\",\"#00cc96\",\"#00cc96\",\"#00cc96\",\"#00cc96\",\"#00cc96\",\"#00cc96\",\"#00cc96\",\"#00cc96\",\"#00cc96\",\"#00cc96\",\"#00cc96\",\"#00cc96\",\"#00cc96\",\"#00cc96\",\"#00cc96\",\"#00cc96\",\"#00cc96\",\"#00cc96\",\"#00cc96\",\"#ab63fa\",\"#ab63fa\",\"#ab63fa\",\"#ab63fa\",\"#ab63fa\",\"#ab63fa\",\"#ab63fa\",\"#ab63fa\",\"#ab63fa\",\"#ab63fa\",\"#ab63fa\",\"#ab63fa\",\"#ab63fa\",\"#ab63fa\",\"#ab63fa\",\"#ab63fa\",\"#ab63fa\",\"#ab63fa\",\"#ab63fa\",\"#ab63fa\",\"#ab63fa\",\"#ab63fa\",\"#ab63fa\",\"#ab63fa\",\"#ab63fa\",\"#ab63fa\",\"#ab63fa\",\"#ab63fa\",\"#ab63fa\",\"#ab63fa\",\"#ab63fa\",\"#ab63fa\",\"#ab63fa\",\"#ab63fa\",\"#ab63fa\",\"#ab63fa\",\"#ab63fa\",\"#ab63fa\",\"#ab63fa\",\"#ab63fa\",\"#ab63fa\",\"#ab63fa\",\"#ab63fa\",\"#ab63fa\",\"#ab63fa\",\"#ab63fa\",\"#ab63fa\",\"#ab63fa\",\"#ab63fa\",\"#ab63fa\",\"#ab63fa\",\"#ab63fa\",\"#ab63fa\",\"#ab63fa\",\"#ab63fa\",\"#ab63fa\",\"#ab63fa\",\"#ab63fa\",\"#ab63fa\",\"#ab63fa\",\"#ab63fa\",\"#ab63fa\",\"#ab63fa\",\"#ab63fa\",\"#ab63fa\",\"#ab63fa\",\"#ab63fa\",\"#ab63fa\",\"#ab63fa\",\"#ab63fa\",\"#ab63fa\",\"#ab63fa\",\"#ab63fa\",\"#ab63fa\",\"#ab63fa\",\"#ab63fa\",\"#ab63fa\",\"#ab63fa\",\"#ab63fa\",\"#ab63fa\",\"#ab63fa\",\"#ab63fa\",\"#ab63fa\",\"#ab63fa\",\"#ab63fa\",\"#ab63fa\",\"#ab63fa\",\"#ab63fa\",\"#ab63fa\",\"#ab63fa\",\"#ab63fa\",\"#ab63fa\",\"#ab63fa\",\"#ab63fa\",\"#ab63fa\",\"#ab63fa\",\"#ab63fa\",\"#ab63fa\",\"#ab63fa\",\"#ab63fa\",\"#ab63fa\",\"#ab63fa\",\"#ab63fa\",\"#ab63fa\",\"#ab63fa\",\"#ab63fa\",\"#ab63fa\",\"#ab63fa\",\"#ab63fa\",\"#ab63fa\",\"#ab63fa\",\"#ab63fa\",\"#ab63fa\",\"#ab63fa\",\"#ab63fa\",\"#ab63fa\",\"#ab63fa\",\"#ab63fa\",\"#ab63fa\",\"#ab63fa\",\"#ab63fa\",\"#ab63fa\",\"#ab63fa\",\"#ab63fa\",\"#ab63fa\",\"#ab63fa\",\"#ab63fa\",\"#ab63fa\",\"#ab63fa\",\"#ab63fa\",\"#ab63fa\",\"#ab63fa\",\"#ab63fa\",\"#ab63fa\",\"#ab63fa\",\"#ab63fa\",\"#ab63fa\",\"#ab63fa\",\"#ab63fa\",\"#ab63fa\",\"#ab63fa\",\"#ab63fa\",\"#ab63fa\",\"#ab63fa\",\"#ab63fa\",\"#ab63fa\",\"#ab63fa\",\"#ab63fa\",\"#ab63fa\",\"#ab63fa\",\"#ab63fa\",\"#ab63fa\",\"#ab63fa\",\"#ab63fa\",\"#ab63fa\",\"#ab63fa\",\"#ab63fa\",\"#ab63fa\",\"#ab63fa\",\"#ab63fa\",\"#ab63fa\",\"#ab63fa\",\"#ab63fa\",\"#ab63fa\",\"#ab63fa\",\"#ab63fa\",\"#ab63fa\",\"#ab63fa\",\"#ab63fa\",\"#ab63fa\",\"#ab63fa\",\"#ab63fa\",\"#ab63fa\",\"#ab63fa\",\"#ab63fa\",\"#ab63fa\",\"#ab63fa\",\"#ab63fa\",\"#ab63fa\",\"#ab63fa\",\"#ab63fa\",\"#ab63fa\",\"#ab63fa\",\"#ab63fa\",\"#ab63fa\",\"#ab63fa\",\"#ab63fa\",\"#ab63fa\",\"#ab63fa\",\"#ab63fa\",\"#ab63fa\",\"#ab63fa\",\"#ab63fa\",\"#ab63fa\",\"#ab63fa\",\"#ab63fa\",\"#ab63fa\",\"#ab63fa\",\"#ab63fa\",\"#ab63fa\",\"#ab63fa\",\"#ab63fa\",\"#ab63fa\",\"#ab63fa\",\"#ab63fa\",\"#ab63fa\",\"#ab63fa\",\"#ab63fa\",\"#ab63fa\",\"#ab63fa\",\"#ab63fa\",\"#ab63fa\",\"#ab63fa\",\"#ab63fa\",\"#ab63fa\",\"#ab63fa\",\"#ab63fa\",\"#ab63fa\",\"#ab63fa\",\"#ab63fa\",\"#ab63fa\",\"#ab63fa\",\"#ab63fa\",\"#ab63fa\",\"#ab63fa\",\"#ab63fa\",\"#ab63fa\",\"#ab63fa\",\"#ab63fa\",\"#ab63fa\",\"#ab63fa\",\"#ab63fa\",\"#ab63fa\",\"#ab63fa\",\"#ab63fa\",\"#ab63fa\",\"#ab63fa\",\"#ab63fa\",\"#ab63fa\",\"#ab63fa\",\"#ab63fa\",\"#ab63fa\",\"#ab63fa\",\"#ab63fa\",\"#ab63fa\",\"#ab63fa\",\"#ab63fa\",\"#ab63fa\",\"#FFA15A\",\"#FFA15A\",\"#FFA15A\",\"#FFA15A\",\"#FFA15A\",\"#FFA15A\",\"#FFA15A\",\"#FFA15A\",\"#FFA15A\",\"#FFA15A\",\"#FFA15A\",\"#FFA15A\",\"#FFA15A\",\"#FFA15A\",\"#FFA15A\",\"#FFA15A\",\"#FFA15A\",\"#FFA15A\",\"#FFA15A\",\"#FFA15A\",\"#FFA15A\",\"#FFA15A\",\"#FFA15A\",\"#FFA15A\",\"#FFA15A\",\"#FFA15A\",\"#FFA15A\",\"#FFA15A\",\"#FFA15A\",\"#FFA15A\",\"#FFA15A\",\"#FFA15A\",\"#FFA15A\",\"#FFA15A\",\"#FFA15A\",\"#FFA15A\",\"#FFA15A\",\"#FFA15A\",\"#FFA15A\",\"#FFA15A\",\"#FFA15A\",\"#FFA15A\",\"#FFA15A\",\"#FFA15A\",\"#FFA15A\",\"#FFA15A\",\"#FFA15A\",\"#FFA15A\",\"#FFA15A\",\"#FFA15A\",\"#FFA15A\",\"#FFA15A\",\"#FFA15A\",\"#FFA15A\",\"#FFA15A\",\"#FFA15A\",\"#FFA15A\",\"#FFA15A\",\"#FFA15A\",\"#FFA15A\",\"#FFA15A\",\"#FFA15A\",\"#FFA15A\",\"#FFA15A\",\"#FFA15A\",\"#FFA15A\",\"#FFA15A\",\"#FFA15A\",\"#FFA15A\",\"#FFA15A\",\"#FFA15A\",\"#FFA15A\",\"#FFA15A\",\"#FFA15A\",\"#FFA15A\",\"#FFA15A\",\"#FFA15A\",\"#FFA15A\",\"#FFA15A\",\"#FFA15A\",\"#FFA15A\",\"#FFA15A\",\"#FFA15A\",\"#FFA15A\",\"#FFA15A\",\"#FFA15A\",\"#FFA15A\",\"#FFA15A\",\"#FFA15A\",\"#FFA15A\",\"#FFA15A\",\"#FFA15A\",\"#FFA15A\",\"#FFA15A\",\"#FFA15A\",\"#FFA15A\",\"#FFA15A\",\"#FFA15A\",\"#FFA15A\",\"#FFA15A\",\"#FFA15A\",\"#FFA15A\",\"#FFA15A\",\"#FFA15A\",\"#FFA15A\",\"#FFA15A\",\"#FFA15A\",\"#FFA15A\",\"#FFA15A\",\"#FFA15A\",\"#FFA15A\",\"#FFA15A\",\"#FFA15A\",\"#FFA15A\",\"#FFA15A\",\"#FFA15A\",\"#FFA15A\",\"#FFA15A\",\"#FFA15A\",\"#FFA15A\",\"#FFA15A\",\"#FFA15A\",\"#FFA15A\",\"#FFA15A\",\"#FFA15A\",\"#FFA15A\",\"#FFA15A\",\"#FFA15A\",\"#FFA15A\",\"#FFA15A\",\"#FFA15A\",\"#FFA15A\",\"#FFA15A\",\"#FFA15A\",\"#FFA15A\",\"#FFA15A\",\"#FFA15A\",\"#FFA15A\",\"#FFA15A\",\"#FFA15A\",\"#FFA15A\",\"#FFA15A\",\"#FFA15A\",\"#FFA15A\",\"#FFA15A\",\"#FFA15A\",\"#FFA15A\",\"#FFA15A\",\"#FFA15A\",\"#FFA15A\",\"#FFA15A\",\"#FFA15A\",\"#FFA15A\",\"#FFA15A\",\"#FFA15A\",\"#FFA15A\",\"#FFA15A\",\"#FFA15A\",\"#FFA15A\",\"#FFA15A\",\"#FFA15A\",\"#FFA15A\",\"#FFA15A\",\"#FFA15A\",\"#FFA15A\",\"#FFA15A\",\"#FFA15A\",\"#FFA15A\",\"#FFA15A\",\"#FFA15A\",\"#FFA15A\",\"#FFA15A\",\"#FFA15A\",\"#FFA15A\",\"#FFA15A\",\"#FFA15A\",\"#FFA15A\",\"#FFA15A\",\"#FFA15A\",\"#FFA15A\",\"#FFA15A\",\"#FFA15A\",\"#FFA15A\",\"#FFA15A\",\"#FFA15A\",\"#FFA15A\",\"#FFA15A\",\"#FFA15A\",\"#FFA15A\",\"#FFA15A\",\"#FFA15A\",\"#FFA15A\",\"#FFA15A\",\"#FFA15A\",\"#FFA15A\",\"#FFA15A\",\"#FFA15A\",\"#FFA15A\",\"#FFA15A\",\"#FFA15A\",\"#FFA15A\",\"#FFA15A\",\"#FFA15A\",\"#FFA15A\",\"#FFA15A\",\"#FFA15A\",\"#FFA15A\",\"#FFA15A\",\"#FFA15A\",\"#FFA15A\",\"#FFA15A\",\"#FFA15A\",\"#FFA15A\",\"#FFA15A\",\"#FFA15A\",\"#FFA15A\",\"#FFA15A\",\"#FFA15A\",\"#FFA15A\",\"#FFA15A\",\"#FFA15A\",\"#FFA15A\",\"#FFA15A\",\"#FFA15A\",\"#FFA15A\",\"#FFA15A\",\"#FFA15A\",\"#FFA15A\",\"#FFA15A\",\"#FFA15A\",\"#FFA15A\",\"#FFA15A\",\"#FFA15A\",\"#FFA15A\",\"#FFA15A\",\"#FFA15A\",\"#FFA15A\",\"#FFA15A\",\"#FFA15A\",\"#FFA15A\",\"#FFA15A\",\"#FFA15A\",\"#FFA15A\",\"#FFA15A\",\"#19d3f3\",\"#19d3f3\",\"#19d3f3\",\"#19d3f3\",\"#19d3f3\",\"#19d3f3\",\"#19d3f3\",\"#19d3f3\",\"#19d3f3\",\"#19d3f3\",\"#19d3f3\",\"#19d3f3\",\"#19d3f3\",\"#19d3f3\",\"#19d3f3\",\"#19d3f3\",\"#19d3f3\",\"#19d3f3\",\"#19d3f3\",\"#19d3f3\",\"#19d3f3\",\"#19d3f3\",\"#19d3f3\",\"#19d3f3\",\"#19d3f3\",\"#19d3f3\",\"#19d3f3\",\"#19d3f3\",\"#19d3f3\",\"#19d3f3\",\"#19d3f3\",\"#19d3f3\",\"#19d3f3\",\"#19d3f3\",\"#19d3f3\",\"#19d3f3\",\"#19d3f3\",\"#19d3f3\",\"#19d3f3\",\"#19d3f3\",\"#19d3f3\",\"#19d3f3\",\"#19d3f3\",\"#19d3f3\",\"#19d3f3\",\"#19d3f3\",\"#19d3f3\",\"#19d3f3\",\"#19d3f3\",\"#19d3f3\",\"#19d3f3\",\"#19d3f3\",\"#19d3f3\",\"#19d3f3\",\"#19d3f3\",\"#19d3f3\",\"#19d3f3\",\"#19d3f3\",\"#19d3f3\",\"#19d3f3\",\"#19d3f3\",\"#19d3f3\",\"#19d3f3\",\"#19d3f3\",\"#19d3f3\",\"#19d3f3\",\"#19d3f3\",\"#19d3f3\",\"#19d3f3\",\"#19d3f3\",\"#19d3f3\",\"#19d3f3\",\"#19d3f3\",\"#19d3f3\",\"#19d3f3\",\"#19d3f3\",\"#19d3f3\",\"#19d3f3\",\"#19d3f3\",\"#19d3f3\",\"#19d3f3\",\"#19d3f3\",\"#19d3f3\",\"#19d3f3\",\"#19d3f3\",\"#19d3f3\",\"#19d3f3\",\"#19d3f3\",\"#19d3f3\",\"#19d3f3\",\"#19d3f3\",\"#19d3f3\",\"#19d3f3\",\"#19d3f3\",\"#19d3f3\",\"#19d3f3\",\"#19d3f3\",\"#19d3f3\",\"#19d3f3\",\"#19d3f3\",\"#19d3f3\",\"#19d3f3\",\"#19d3f3\",\"#19d3f3\",\"#19d3f3\",\"#19d3f3\",\"#19d3f3\",\"#19d3f3\",\"#19d3f3\",\"#19d3f3\",\"#19d3f3\",\"#19d3f3\",\"#19d3f3\",\"#19d3f3\",\"#19d3f3\",\"#19d3f3\",\"#19d3f3\",\"#19d3f3\",\"#19d3f3\",\"#19d3f3\",\"#19d3f3\",\"#19d3f3\",\"#19d3f3\",\"#19d3f3\",\"#19d3f3\",\"#19d3f3\",\"#19d3f3\",\"#19d3f3\",\"#19d3f3\",\"#19d3f3\",\"#19d3f3\",\"#19d3f3\",\"#19d3f3\",\"#19d3f3\",\"#19d3f3\",\"#19d3f3\",\"#19d3f3\",\"#19d3f3\",\"#19d3f3\",\"#19d3f3\",\"#19d3f3\",\"#19d3f3\",\"#19d3f3\",\"#19d3f3\",\"#19d3f3\",\"#19d3f3\",\"#19d3f3\",\"#19d3f3\",\"#19d3f3\",\"#19d3f3\",\"#19d3f3\",\"#19d3f3\",\"#19d3f3\",\"#19d3f3\",\"#19d3f3\",\"#19d3f3\",\"#19d3f3\",\"#19d3f3\",\"#19d3f3\",\"#19d3f3\",\"#19d3f3\",\"#19d3f3\",\"#19d3f3\",\"#19d3f3\",\"#19d3f3\",\"#19d3f3\",\"#19d3f3\",\"#19d3f3\",\"#19d3f3\",\"#19d3f3\",\"#19d3f3\",\"#19d3f3\",\"#19d3f3\",\"#19d3f3\",\"#19d3f3\",\"#19d3f3\",\"#19d3f3\",\"#19d3f3\",\"#19d3f3\",\"#19d3f3\",\"#19d3f3\",\"#19d3f3\",\"#19d3f3\",\"#19d3f3\",\"#19d3f3\",\"#19d3f3\",\"#19d3f3\",\"#19d3f3\",\"#19d3f3\",\"#19d3f3\",\"#19d3f3\",\"#19d3f3\",\"#19d3f3\",\"#19d3f3\",\"#19d3f3\",\"#19d3f3\",\"#19d3f3\",\"#19d3f3\",\"#19d3f3\",\"#19d3f3\",\"#19d3f3\",\"#19d3f3\",\"#19d3f3\",\"#19d3f3\",\"#19d3f3\",\"#19d3f3\",\"#19d3f3\",\"#19d3f3\",\"#19d3f3\",\"#19d3f3\",\"#19d3f3\",\"#19d3f3\",\"#19d3f3\",\"#19d3f3\",\"#19d3f3\",\"#19d3f3\",\"#19d3f3\",\"#19d3f3\",\"#19d3f3\",\"#19d3f3\",\"#19d3f3\",\"#19d3f3\",\"#19d3f3\",\"#19d3f3\",\"#19d3f3\",\"#19d3f3\",\"#19d3f3\",\"#19d3f3\",\"#19d3f3\",\"#19d3f3\",\"#19d3f3\",\"#19d3f3\",\"#19d3f3\",\"#19d3f3\",\"#19d3f3\",\"#19d3f3\",\"#19d3f3\",\"#19d3f3\",\"#19d3f3\",\"#19d3f3\",\"#19d3f3\",\"#19d3f3\",\"#19d3f3\",\"#19d3f3\",\"#19d3f3\",\"#19d3f3\",\"#19d3f3\",\"#19d3f3\",\"#19d3f3\",\"#19d3f3\",\"#FF6692\",\"#FF6692\",\"#FF6692\",\"#FF6692\",\"#FF6692\",\"#FF6692\",\"#FF6692\",\"#FF6692\",\"#FF6692\",\"#FF6692\",\"#FF6692\",\"#FF6692\",\"#FF6692\",\"#FF6692\",\"#FF6692\",\"#FF6692\",\"#FF6692\",\"#FF6692\",\"#FF6692\",\"#FF6692\",\"#FF6692\",\"#FF6692\",\"#FF6692\",\"#FF6692\",\"#FF6692\",\"#FF6692\",\"#FF6692\",\"#FF6692\",\"#FF6692\",\"#FF6692\",\"#FF6692\",\"#FF6692\",\"#FF6692\",\"#FF6692\",\"#FF6692\",\"#FF6692\",\"#FF6692\",\"#FF6692\",\"#FF6692\",\"#FF6692\",\"#FF6692\",\"#FF6692\",\"#FF6692\",\"#FF6692\",\"#FF6692\",\"#FF6692\",\"#FF6692\",\"#FF6692\",\"#FF6692\",\"#FF6692\",\"#FF6692\",\"#FF6692\",\"#FF6692\",\"#FF6692\",\"#FF6692\",\"#FF6692\",\"#FF6692\",\"#FF6692\",\"#FF6692\",\"#FF6692\",\"#FF6692\",\"#FF6692\",\"#FF6692\",\"#FF6692\",\"#FF6692\",\"#FF6692\",\"#FF6692\",\"#FF6692\",\"#FF6692\",\"#FF6692\",\"#FF6692\",\"#FF6692\",\"#FF6692\",\"#FF6692\",\"#FF6692\",\"#FF6692\",\"#FF6692\",\"#FF6692\",\"#FF6692\",\"#FF6692\",\"#FF6692\",\"#FF6692\",\"#FF6692\",\"#FF6692\",\"#FF6692\",\"#FF6692\",\"#FF6692\",\"#FF6692\",\"#FF6692\",\"#FF6692\",\"#FF6692\",\"#FF6692\",\"#FF6692\",\"#FF6692\",\"#FF6692\",\"#FF6692\",\"#FF6692\",\"#FF6692\",\"#FF6692\",\"#FF6692\",\"#FF6692\",\"#FF6692\",\"#FF6692\",\"#FF6692\",\"#FF6692\",\"#FF6692\",\"#FF6692\",\"#FF6692\",\"#FF6692\",\"#FF6692\",\"#FF6692\",\"#FF6692\",\"#FF6692\",\"#FF6692\",\"#FF6692\",\"#FF6692\",\"#FF6692\",\"#FF6692\",\"#FF6692\",\"#FF6692\",\"#FF6692\",\"#FF6692\",\"#FF6692\",\"#FF6692\",\"#FF6692\",\"#FF6692\",\"#FF6692\",\"#FF6692\",\"#FF6692\",\"#FF6692\",\"#FF6692\",\"#FF6692\",\"#FF6692\",\"#FF6692\",\"#FF6692\",\"#FF6692\",\"#FF6692\",\"#FF6692\",\"#FF6692\",\"#FF6692\",\"#FF6692\",\"#FF6692\",\"#FF6692\",\"#FF6692\",\"#FF6692\",\"#FF6692\",\"#FF6692\",\"#FF6692\",\"#FF6692\",\"#FF6692\",\"#FF6692\",\"#FF6692\",\"#FF6692\",\"#FF6692\",\"#FF6692\",\"#FF6692\",\"#FF6692\",\"#FF6692\",\"#FF6692\",\"#FF6692\",\"#FF6692\",\"#FF6692\",\"#FF6692\",\"#FF6692\",\"#FF6692\",\"#FF6692\",\"#FF6692\",\"#FF6692\",\"#FF6692\",\"#FF6692\",\"#FF6692\",\"#FF6692\",\"#FF6692\",\"#FF6692\",\"#FF6692\",\"#FF6692\",\"#FF6692\",\"#FF6692\",\"#FF6692\",\"#FF6692\",\"#FF6692\",\"#FF6692\",\"#FF6692\",\"#FF6692\",\"#FF6692\",\"#FF6692\",\"#FF6692\",\"#FF6692\",\"#FF6692\",\"#FF6692\",\"#FF6692\",\"#FF6692\",\"#FF6692\",\"#FF6692\",\"#FF6692\",\"#FF6692\",\"#FF6692\",\"#FF6692\",\"#FF6692\",\"#FF6692\",\"#FF6692\",\"#FF6692\",\"#FF6692\",\"#FF6692\",\"#FF6692\",\"#FF6692\",\"#FF6692\",\"#FF6692\",\"#FF6692\",\"#FF6692\",\"#FF6692\",\"#FF6692\",\"#FF6692\",\"#FF6692\",\"#FF6692\",\"#FF6692\",\"#FF6692\",\"#FF6692\",\"#FF6692\",\"#FF6692\",\"#FF6692\",\"#FF6692\",\"#FF6692\",\"#FF6692\",\"#FF6692\",\"#FF6692\",\"#FF6692\",\"#FF6692\",\"#FF6692\",\"#FF6692\",\"#FF6692\",\"#FF6692\",\"#FF6692\",\"#FF6692\",\"#FF6692\",\"#FF6692\",\"#FF6692\",\"#FF6692\",\"#FF6692\",\"#FF6692\",\"#FF6692\",\"#FF6692\",\"#FF6692\",\"#FF6692\",\"#FF6692\",\"#FF6692\",\"#FF6692\",\"#FF6692\",\"#FF6692\",\"#FF6692\",\"#FF6692\",\"#B6E880\",\"#B6E880\",\"#B6E880\",\"#B6E880\",\"#B6E880\",\"#B6E880\",\"#B6E880\",\"#B6E880\",\"#B6E880\",\"#B6E880\",\"#B6E880\",\"#B6E880\",\"#B6E880\",\"#B6E880\",\"#B6E880\",\"#B6E880\",\"#B6E880\",\"#B6E880\",\"#B6E880\",\"#B6E880\",\"#B6E880\",\"#B6E880\",\"#B6E880\",\"#B6E880\",\"#B6E880\",\"#B6E880\",\"#B6E880\",\"#B6E880\",\"#B6E880\",\"#B6E880\",\"#B6E880\",\"#B6E880\",\"#B6E880\",\"#B6E880\",\"#B6E880\",\"#B6E880\",\"#B6E880\",\"#B6E880\",\"#B6E880\",\"#B6E880\",\"#B6E880\",\"#B6E880\",\"#B6E880\",\"#B6E880\",\"#B6E880\",\"#B6E880\",\"#B6E880\",\"#B6E880\",\"#B6E880\",\"#B6E880\",\"#B6E880\",\"#B6E880\",\"#B6E880\",\"#B6E880\",\"#B6E880\",\"#B6E880\",\"#B6E880\",\"#B6E880\",\"#B6E880\",\"#B6E880\",\"#B6E880\",\"#B6E880\",\"#B6E880\",\"#B6E880\",\"#B6E880\",\"#B6E880\",\"#B6E880\",\"#B6E880\",\"#B6E880\",\"#B6E880\",\"#B6E880\",\"#B6E880\",\"#B6E880\",\"#B6E880\",\"#B6E880\",\"#B6E880\",\"#B6E880\",\"#B6E880\",\"#B6E880\",\"#B6E880\",\"#B6E880\",\"#B6E880\",\"#B6E880\",\"#B6E880\",\"#B6E880\",\"#B6E880\",\"#B6E880\",\"#B6E880\",\"#B6E880\",\"#B6E880\",\"#B6E880\",\"#B6E880\",\"#B6E880\",\"#B6E880\",\"#B6E880\",\"#B6E880\",\"#B6E880\",\"#B6E880\",\"#B6E880\",\"#B6E880\",\"#B6E880\",\"#B6E880\",\"#B6E880\",\"#B6E880\",\"#B6E880\",\"#B6E880\",\"#B6E880\",\"#B6E880\",\"#B6E880\",\"#B6E880\",\"#B6E880\",\"#B6E880\",\"#B6E880\",\"#B6E880\",\"#B6E880\",\"#B6E880\",\"#B6E880\",\"#B6E880\",\"#B6E880\",\"#B6E880\",\"#B6E880\",\"#B6E880\",\"#B6E880\",\"#B6E880\",\"#B6E880\",\"#B6E880\",\"#B6E880\",\"#B6E880\",\"#B6E880\",\"#B6E880\",\"#B6E880\",\"#B6E880\",\"#B6E880\",\"#B6E880\",\"#B6E880\",\"#B6E880\",\"#B6E880\",\"#B6E880\",\"#B6E880\",\"#B6E880\",\"#B6E880\",\"#B6E880\",\"#B6E880\",\"#B6E880\",\"#B6E880\",\"#B6E880\",\"#B6E880\",\"#B6E880\",\"#B6E880\",\"#B6E880\",\"#B6E880\",\"#B6E880\",\"#B6E880\",\"#B6E880\",\"#B6E880\",\"#B6E880\",\"#B6E880\",\"#B6E880\",\"#B6E880\",\"#B6E880\",\"#B6E880\",\"#B6E880\",\"#B6E880\",\"#B6E880\",\"#B6E880\",\"#B6E880\",\"#B6E880\",\"#B6E880\",\"#B6E880\",\"#B6E880\",\"#B6E880\",\"#B6E880\",\"#B6E880\",\"#B6E880\",\"#B6E880\",\"#B6E880\",\"#B6E880\",\"#B6E880\",\"#B6E880\",\"#B6E880\",\"#B6E880\",\"#B6E880\",\"#B6E880\",\"#B6E880\",\"#B6E880\",\"#B6E880\",\"#B6E880\",\"#B6E880\",\"#B6E880\",\"#B6E880\",\"#B6E880\",\"#B6E880\",\"#B6E880\",\"#B6E880\",\"#B6E880\",\"#B6E880\",\"#B6E880\",\"#B6E880\",\"#B6E880\",\"#B6E880\",\"#B6E880\",\"#B6E880\",\"#B6E880\",\"#B6E880\",\"#B6E880\",\"#B6E880\",\"#B6E880\",\"#B6E880\",\"#B6E880\",\"#B6E880\",\"#B6E880\",\"#B6E880\",\"#B6E880\",\"#B6E880\",\"#B6E880\",\"#B6E880\",\"#B6E880\",\"#B6E880\",\"#B6E880\",\"#B6E880\",\"#B6E880\",\"#B6E880\",\"#B6E880\",\"#B6E880\",\"#B6E880\",\"#B6E880\",\"#B6E880\",\"#B6E880\",\"#B6E880\",\"#B6E880\",\"#B6E880\",\"#B6E880\",\"#B6E880\",\"#B6E880\",\"#B6E880\",\"#B6E880\",\"#B6E880\",\"#B6E880\",\"#B6E880\",\"#B6E880\",\"#B6E880\",\"#B6E880\",\"#B6E880\",\"#B6E880\",\"#B6E880\",\"#B6E880\",\"#B6E880\",\"#FF97FF\",\"#FF97FF\",\"#FF97FF\",\"#FF97FF\",\"#FF97FF\",\"#FF97FF\",\"#FF97FF\",\"#FF97FF\",\"#FF97FF\",\"#FF97FF\",\"#FF97FF\",\"#FF97FF\",\"#FF97FF\",\"#FF97FF\",\"#FF97FF\",\"#FF97FF\",\"#FF97FF\",\"#FF97FF\",\"#FF97FF\",\"#FF97FF\",\"#FF97FF\",\"#FF97FF\",\"#FF97FF\",\"#FF97FF\",\"#FF97FF\",\"#FF97FF\",\"#FF97FF\",\"#FF97FF\",\"#FF97FF\",\"#FF97FF\",\"#FF97FF\",\"#FF97FF\",\"#FF97FF\",\"#FF97FF\",\"#FF97FF\",\"#FF97FF\",\"#FF97FF\",\"#FF97FF\",\"#FF97FF\",\"#FF97FF\",\"#FF97FF\",\"#FF97FF\",\"#FF97FF\",\"#FF97FF\",\"#FF97FF\",\"#FF97FF\",\"#FF97FF\",\"#FF97FF\",\"#FF97FF\",\"#FF97FF\",\"#FF97FF\",\"#FF97FF\",\"#FF97FF\",\"#FF97FF\",\"#FF97FF\",\"#FF97FF\",\"#FF97FF\",\"#FF97FF\",\"#FF97FF\",\"#FF97FF\",\"#FF97FF\",\"#FF97FF\",\"#FF97FF\",\"#FF97FF\",\"#FF97FF\",\"#FF97FF\",\"#FF97FF\",\"#FF97FF\",\"#FF97FF\",\"#FF97FF\",\"#FF97FF\",\"#FF97FF\",\"#FF97FF\",\"#FF97FF\",\"#FF97FF\",\"#FF97FF\",\"#FF97FF\",\"#FF97FF\",\"#FF97FF\",\"#FF97FF\",\"#FF97FF\",\"#FF97FF\",\"#FF97FF\",\"#FF97FF\",\"#FF97FF\",\"#FF97FF\",\"#FF97FF\",\"#FF97FF\",\"#FF97FF\",\"#FF97FF\",\"#FF97FF\",\"#FF97FF\",\"#FF97FF\",\"#FF97FF\",\"#FF97FF\",\"#FF97FF\",\"#FF97FF\",\"#FF97FF\",\"#FF97FF\",\"#FF97FF\",\"#FF97FF\",\"#FF97FF\",\"#FF97FF\",\"#FF97FF\",\"#FF97FF\",\"#FF97FF\",\"#FF97FF\",\"#FF97FF\",\"#FF97FF\",\"#FF97FF\",\"#FF97FF\",\"#FF97FF\",\"#FF97FF\",\"#FF97FF\",\"#FF97FF\"]},\"name\":\"\",\"showlegend\":true,\"values\":[7162.35,11859.95,5248.6,5503.9,7999.55,12589.59,3202.78,6163.7,7445.41,14784.5,10002.01,7735.81,17130.29,2742.84,3856.72,6674.93,8163.82,12538.39,7913.21,4516.57,3280.33,5571.77,4689.94,4289.35,3662.36,7941.4,4141.83,6885.52,6106.81,4459.96,4573.57,4757.48,2676.63,4305.39,4677.58,6080.87,7893.32,13328.52,32325.56,10917.34,4544.83,3821.97,9565.1,5596.44,5607.3,5645.48,7143.47,9934.06,8021.22,7794.77,8566.75,8804.57,6045.37,3811.57,3532.63,6168.1,5443.53,6459.01,9999.82,18483.41,9740.9,5519.02,11917.5,5905.05,5886.61,5563.82,6442.71,7806.4,8755.18,16640.21,4214.24,8614.03,10067.32,3311.87,3209.4,9470.3,2945.64,4075.26,5408.38,11030.56,4706.54,6920.49,9239.62,10876.9,5803.91,6862.75,5324.08,7380.24,10726.5,7874.05,7762.71,8103.65,17573.66,15295.87,23074.68,43913.37,5685.22,4157.17,5311.0,4998.87,5387.46,4014.1,7355.63,5479.6,9025.87,5443.94,14401.35,13808.09,6075.2,4794.16,7225.36,6966.56,13416.32,16355.69,8371.24,6024.34,5896.21,5454.47,6065.36,12889.29,5047.58,7260.79,8975.77,7162.95,17918.02,5951.18,8092.83,6332.93,5859.45,4369.46,3901.51,7453.21,9640.91,7633.86,8081.81,5729.14,8590.75,7052.02,4376.16,6068.8,13070.84,18367.89,12811.25,6392.67,7727.14,13208.65,10027.43,10479.23,14389.22,9678.53,13695.83,7022.82,5331.07,5082.79,7003.26,13079.39,8655.43,16553.84,22500.69,18431.55,18386.99,18375.08,13229.01,15929.24,7871.4,5489.77,11123.41,6585.37,13560.72,10171.94,11183.31,10502.65,11717.46,14922.72,14701.51,46643.39,10911.99,7944.49,7628.8,6855.32,5938.16,8380.41,6469.92,6252.42,5040.75,21586.26,14164.22,10164.51,12073.55,14271.47,6845.56,14149.92,24973.97,17013.97,8735.39,15810.93,19574.91,20150.22,23729.27,12354.21,10662.6,12100.11,13694.44,16212.97,20637.33,28436.36,18367.29,32227.87,6106.05,10704.91,9240.31,13645.79,33327.37,36047.39,17611.63,15781.35,44321.86,37901.49,6914.92,18509.13,26521.93,7424.32,12105.05,16298.62,4331.7,17834.16,8238.83,11696.96,31569.51,19257.33,10341.97,5437.31,7402.2,6030.3,1095.73,9730.6,6898.79,5563.4,6713.26,8224.13,14629.38,4448.8,3454.22,5332.72,4637.19,4032.28,4118.57,7700.44,9312.65,6727.73,11185.5,7877.39,7911.13,6159.43,6234.53,20840.29,5303.92,5500.51,6266.23,9768.64,10349.32,7098.12,13393.1,12129.82,29584.24,6738.89,8461.6,6743.59,15413.6,14034.74,10969.25,7147.52,8960.23,14522.9,14417.1,31403.67,19308.69,20050.09,55755.08,16312.73,9628.51,3921.42,2082.83,3988.91,4339.35,3815.79,4845.26,3334.75,3622.9,3230.5,3860.48,4031.92,6583.98,3600.42,4536.3,8039.92,4827.35,7313.99,5734.23,8646.0,4932.13,9084.43,18368.34,21392.59,7866.08,10106.02,7546.37,9038.88,4670.92,13243.65,2787.02,3427.43,3171.42,2168.84,3003.79,3452.47,4366.89,1905.12,2137.51,3144.41,5845.75,7637.53,5359.78,2198.67,2033.52,2293.76,3006.86,1983.0,2549.95,5621.37,4485.21,4964.89,2196.49,1425.46,2068.14,2641.78,2511.75,1972.13,1636.02,4157.98,1847.07,1779.67,2013.41,1558.96,1435.63,910.88,1838.9,1444.34,1897.26,2073.09,2581.07,2385.92,10835.58,1736.48,2122.54,6433.14,1437.23,1642.96,1966.07,2346.43,1632.17,2356.03,1242.12,1929.81,2899.6,3146.21,2800.01,2202.25,3509.67,3079.38,2722.96,1803.31,4557.84,3168.41,4110.55,4381.41,5286.28,9552.1,3313.05,4332.96,3920.26,2738.14,5746.46,1805.03,1169.88,2322.75,1515.67,1561.79,1040.72,2933.15,2381.46,2518.52,7066.2,2088.58,1574.65,1871.67,1827.19,2369.22,2144.39,1341.58,1314.08,1672.79,1978.89,3183.39,1969.94,2498.72,3121.95,3157.09,3039.13,5036.55,9084.0,1580.78,2100.16,1635.01,982.7,1166.6,1272.85,952.83,1233.64,1708.02,1367.68,1090.57,688.06,4668.88,1764.05,1061.75,663.16,517.65,1573.67,630.23,818.98,721.93,1354.06,1244.54,1241.44,1047.42,870.77,498.73,891.02,1006.49,826.44,790.28,1153.8,997.33,2759.52,1021.86,621.51,942.51,1141.18,1354.02,1497.39,1846.66,1726.87,1636.0,1487.76,1998.63,2444.39,2098.12,1729.5,2571.17,2551.58,3996.57,2322.63,2408.65,1571.34,5766.07,2821.05,3676.04,2726.12,6252.64,3546.48,2510.17,5932.76,2736.84,2751.99,2087.7,598.95,3195.54,11813.66,5290.8,4848.43,4200.26,2667.13,4276.92,10411.71,4153.1,4826.62,6001.16,4631.63,3145.51,6233.4,9528.1,14554.9,3782.65,2741.0,2041.23,6621.12,9527.29,4746.09,3938.54,5004.07,1671.52,2272.11,2480.4,1906.02,4235.35,1991.88,1429.46,3060.59,1687.44,1647.0,3401.42,1852.52,2384.65,3534.56,1969.16,2561.91,2231.58,2058.33,6958.79,4163.7,1791.19,1947.98,3228.51,1250.08,1074.7,2088.3,1414.49,1568.72,4614.1,12302.18,3446.81,1988.02,2088.78,1996.69,1646.87,2823.73,4351.61,5255.56,4878.82,1687.67,2195.84,2649.89,2501.25,2518.99,5074.0,3004.79,2112.71,1448.93,1726.29,2157.91,2259.91,1718.88,2871.1,1269.1,1539.68,7243.79,3671.52,3551.68,3275.46,2715.77,4327.25,1784.79,3546.81,563.25,923.88,2178.65,1881.45,2116.66,3705.09,5461.09,1119.05,3554.62,2952.57,826.5,1034.82,2152.68,651.64,689.22,777.45,819.71,797.88,1646.87,2143.66,1732.8,1705.09,561.05,1306.62,776.14,1287.08,825.83,1319.18,704.54,731.78,625.29,1437.25,772.29,868.5,1054.9,1638.36,860.64,1042.22,2587.18,2396.79,1199.34,943.57,863.98,1079.74,1904.59,918.68,1116.52,938.67,1254.56,765.29,1370.59,1576.32,1986.04,1013.25,1873.57,1972.21,2319.85,4282.06,1653.92,1478.76,1792.49,1006.63,2442.85,1617.02,1109.23,1250.14,1852.75,1358.32,1370.57,1812.31,1927.34,1536.64,1382.47,1351.06,1591.12,1719.38,2512.03,9939.52,809.55,1111.6,1253.34,1431.57,1493.94,1304.05,1412.03,1163.62,2152.86,6005.93,1954.04,1349.0,1528.91,976.55,1366.68,1080.52,923.04,752.61,1162.35,1901.94,815.65,855.91,1349.05,1613.85,1560.91,1766.28,2571.55,2297.61,1916.53,2586.28,1896.92,1714.3,1841.84,1461.84,1225.47,2195.84,1367.84,1148.71,2140.74,2531.27,1794.94,1125.27,2070.14,796.72,864.77,1486.74,1633.27,2391.93,1629.29,789.08,1035.44,1118.18,947.59,1547.19,1729.0,644.25,1014.28,932.1,771.53,1240.7,1165.48,1578.15,2570.62,825.13,1119.09,1547.91,637.58,1205.33,1523.05,744.3,940.98,128.04,666.03,1418.14,1083.85,1160.19,739.23,686.8,822.29,1040.85,2844.74,807.08,1204.09,1020.96,572.15,812.5,3446.98,544.71,477.91,794.31,1914.35,1368.62,764.14,1775.0,1126.76,1320.85,1321.99,980.21,1576.66,1171.44,1269.48,1587.58,1258.15,1308.78,1605.09,782.08,1602.92,859.2,1176.89,970.86,972.27,1276.1,1940.34,1692.06,1626.4,2994.97,5772.22,2277.36,3164.18,2394.47,4145.58,8010.0,1656.95,5810.86,4533.74,1359.79,1801.53,2003.37,2943.2,1050.35,2261.48,1418.21,1614.87,1750.14,1752.87,1417.95,5520.4,2216.78,3027.33,2374.57,3262.18,2523.61,1589.08,1779.17,1720.29,2176.94,2839.13,1823.96,2742.65,3378.35,2921.63,1109.54,2113.74,2707.3,2348.59,2140.22,1413.1,2183.57,4355.13,1687.12,1412.33,2501.0,3586.44,5696.62,1809.6,1240.8,3687.65,2271.11,2837.31,1377.75,1720.83,1292.67,2962.18,1716.65,2490.3,3422.1,2149.62,1095.41,1200.24,2617.89,1047.42,2926.25,3142.58,2965.56,827.64,1949.39,7496.33,1353.39,1662.47,1292.69,1497.68,1028.35,2418.83,1688.58,2226.75,3278.78,2005.47,3217.77,4303.91,3334.45,2211.64,3275.22,3207.9,2584.34,1584.73,3487.14,2617.78,5266.83,4300.52,1748.12,3494.39,4056.15,4690.1,2696.67,1947.21,2177.09,6782.77,5017.83,10128.78,1296.8,1737.96,2737.89,1273.34,867.44,2073.89,1214.3,3052.8,3012.11,2326.57,1961.73,1821.99,2762.52,2744.14,1989.44,2211.87,2069.88,3513.26,3406.94,2802.86,2151.99,3668.1,2253.68,3543.11,6991.32,1902.4,1263.62,2393.9,4531.01,2388.09,2178.49,2559.44,4624.45,2161.16,1762.78,1087.98,2463.48,2675.02,1735.14,2596.83,2209.3,2126.97,3759.09,2516.83,3110.99,8901.67,6490.15,4476.22,2885.37,2614.45,3892.41,3695.01,4264.27,1895.53,1563.52,2007.98,1848.1,2140.11,2417.14,2590.49,6224.83,3501.39,4090.99,3565.59,2866.56,3114.04,809.15,2033.66,1113.03,1355.87,1464.89,10234.09,2066.45,2437.44,2155.17,2274.32,7111.7,4237.13,2301.64,2134.25,1568.11,1720.32,2092.18,2519.47,2363.59,2754.59,4640.58,5601.51,3041.02,6004.17,11306.09,2529.82,2627.56,2872.28,2423.46,2614.65,5966.47,2730.7,7408.49,4078.76,3157.95,2959.17,2634.39,2497.12,4160.75,3948.85,4416.86,7604.24,7236.35,1700.6,1806.42,1603.41,833.42,3147.75,4011.2,3207.19,6023.07,3500.78,3097.04,3195.34,5845.16,5202.87,2437.49,3656.4,1915.37,3068.51,3353.22,4637.96,4790.09,3644.9,5186.1,7371.9,10619.19,3674.2,4396.31,6123.67,4600.91,7303.7,10330.87,3201.93,3317.68,5606.74,7205.7,9057.72,2799.1,2958.67,2468.07,4605.77,1584.33,1463.14,2339.38,1989.69,2856.86,4947.97,2870.42,1865.07,1853.86,2307.57,1971.83,1839.77,3610.85,2398.36,2934.91,2762.97,2598.58,3662.11,6392.01,4221.98,4288.36,4866.55,4543.21,4724.96,4300.12,3108.11,7996.8,3358.75,3960.97,2848.19,3695.88,4841.91,5096.64,5442.65,5446.75,3444.07,7163.27,9344.38,6649.77,9371.11,10218.17,9358.11,8519.47,7627.68,7365.66,15024.93,4041.91,4823.27,5065.77,4387.12,6818.61,10888.76,6987.01,12678.57,20262.26,15130.67,28176.94,3917.45,7258.03,4531.68,4880.48,6351.86,7548.4,2593.44,2720.85,9004.67,4730.58,5062.35,3905.09,5141.38,7374.52,5314.8,3207.68,2725.39,3463.9,2598.42,1762.88,2114.43,1424.64,1800.54,1560.97,1796.36,3708.75,1973.43,2217.95,2878.25,5157.88,3541.28,4642.58,7195.4,1740.82,2245.4,2734.32,3102.94,4917.5,2224.22,2998.0,3557.03,3983.2,7412.34,6228.57,5700.15,4474.49,2526.9,1736.63,1776.32,179.78,3999.94,2243.74,2815.35,1329.52,1760.76,1793.26,3090.43,3045.88,3064.66,4163.87,4256.23,3259.93,4182.18,4105.11,2600.32,2619.52,1469.54,873.85,1711.81,1105.59,1241.11,1811.73,1500.0,1490.75,1979.3,2145.07,2119.11,2030.88,2944.82,4119.2,2041.25,4052.98,3023.42,3603.27,7005.22,3477.95,3211.22,2557.45,2929.81,1769.79,6885.96,2959.65,3774.17,2784.42,3209.54,1695.44,3309.89,3600.63,3988.81,2738.72,3343.22,1950.31,2411.31,2819.87,3351.03,3160.15,3620.28,5054.86,5797.01,16618.38,4683.08,4817.62,8298.94,2704.13,2462.36,2443.6,1834.35,1608.29,1745.97,1889.48,2689.55,3674.98,2029.35,2304.46,2267.72,3286.14,3091.19,3005.77,5318.02,2699.14,3641.28,3285.91,3306.1,4355.49,4034.8,5596.79,8407.83,6161.68,17299.48,2891.59,3059.76,1883.24,3874.98,3437.64,2960.86,868.66,6227.17,4991.85,3158.04,3350.14,1733.67,7337.93,8096.77,1950.57,2583.68,5252.89,4163.49,4381.6,1805.49,2039.09,3030.76,4978.8,3204.49,2688.94,3297.63,2986.91,5432.0,2948.26,1133.32,2856.6,1806.53,2378.75,1784.48,1981.72,1235.02,2464.0,919.23,1539.97,1574.59,1939.84,2300.84,3084.6,1909.91,2163.67,2780.36,1446.89,2313.84,1692.05,1510.77,3405.09,5523.06,2708.58,2567.36,1575.28,2796.6,3443.25,1150.7,2918.62,2328.29,2302.39,2159.61,2164.39,2426.8,2524.34,4213.21,2140.22,4282.88,11071.78,5226.4,12233.65,9885.36,6139.81,3207.67,2315.82,2529.73,2929.35,2823.1,3718.86,7480.92,3191.45,4707.36,2476.33,3009.66,3726.49,2472.23,2183.99,3538.59,3178.35,3218.77,2393.96,3583.13,2555.63,9079.81,1585.24,2030.31,3018.4,2437.53,1718.21,1491.05,2504.07,1823.5,2864.86,2920.24,6453.26,1709.39,3343.28,2953.56,2438.73,2960.37,5211.36,2126.7,5628.29,12689.6,4737.95,8251.15,1960.23,1164.64,2803.32,1508.82,1795.46,2043.02,3348.07,2666.46,5381.18,3008.91,2890.36,241.12,2566.83,5095.97,2590.74,1985.16,2792.92,3696.88,5055.16,5416.02,5223.39,3165.2,2798.49,1384.81,2846.06,4041.45,6367.47,2743.68,1843.21,1483.88,1835.58,1817.54,2334.4,3214.06,1347.38,1674.41,2015.28,2261.37,2400.63,3732.17,2259.63,4082.77,1806.03,3541.91,3399.29,4157.7,1834.29,3973.4,3490.4,2941.34,2631.05,2008.81,4072.47,2699.52,4362.58,4018.72,2452.8,4926.57,8573.95,3755.15,4567.38,4668.84,5496.04,6045.18,9346.15,4074.24,4330.78,3289.4,3361.96,2585.32,3039.53,2589.76,2018.93,5483.33,4268.15,4006.83,2065.17,5457.12,9884.69,3115.71,2731.15,2162.98,4069.22,3826.9,3557.76,3288.13,2425.85,2562.62,3235.08,3679.91,3952.47,4536.31,3055.87,2982.16,3961.95,5612.58,3844.19,3127.28,8085.96,11884.96,5226.72,2531.61,5691.06,8896.81,2651.56,3100.35,3934.04,3202.39,3269.86,3520.27,2482.41,1928.93,5004.67,3401.06,4274.35,7242.5,10543.05,3224.85,3787.28,3122.62,5311.77,6653.25,6550.95,5113.67,5070.26,5950.82,4541.72,8332.23,6682.31,10088.11,8429.91,15471.07,2442.55,2934.15,5489.71,11380.33,6531.7,1943.31,4124.62,4224.18,14742.42,3147.48,3422.28,3781.39,3059.54,4403.01,2192.08,4049.41,3337.14,3118.69,4383.73,5705.25,4868.56,4400.32,13829.89,7340.68,4544.59,11198.41,4986.05,7329.1,14680.57,9255.94,12435.78,1314.8,1885.54,1890.13,1127.64,1721.25,1569.8,3056.69,3168.58,2083.29,2889.2,1204.17,1723.73,1860.35,147.9,2431.48,4067.01,3028.34,2645.54,1755.06,1613.01,3223.3,1804.89,2885.99,2072.71,1961.33,2672.53,2155.04,1997.49,3996.33,2297.97,2566.25,4754.58,3124.49,3589.06,1973.1,2138.52,1525.69,3612.75,4800.89,2105.27,4418.68,1587.04,2453.32,3012.91,3618.35,5276.56,1022.95,2405.43,2523.08,2275.75,1809.99,1036.53,727.3,2083.87,2356.55,1223.08,1635.53,1081.36,1004.51,1718.91,1515.41,1679.79,1404.96,1819.86,4421.91,4008.46,1858.93,1223.28,1599.29,1432.75,1256.24,1144.19,892.4,1017.49,1395.19,803.22,1513.74,2329.85,1248.77,1202.1,1176.12,1208.61,1172.93,1104.58,551.33,1057.88,834.41,1072.46,1686.65,3426.05,962.77,895.3,999.91,2188.72,1892.05,1416.78,1728.49,1519.77,1337.07,1061.56,762.38,925.72,1460.54,1583.86,2764.72,1195.25,129.09,897.74,2629.82,1225.18,1353.63,2952.11,4158.95,5943.13,2971.52,1262.92,825.82,2602.38,2650.17,3989.92,1753.03,1588.1,1698.4,4360.38,1584.51,1782.68,3391.2,1394.73,1570.16,2075.41,1821.14,3748.51,2020.89,1689.88,2160.3,3442.78,2247.23,4597.73,2346.16,1249.18,1527.05,2909.0,2750.64,1902.48,300.14,2351.94,2682.75,8756.38,4304.2,1756.34,3101.74,8010.66,4178.68,3104.05,2106.43,3701.56,2994.44,2589.49,5420.98,6184.93,14485.2,7809.23,7239.2,8463.11,11127.94,7944.1,11895.43,18764.68,3699.74,2798.81,4053.58,1098.44,970.78,1400.14,1438.04,1345.46,3129.89,2792.07,2007.25,530.35,611.59,757.82,608.05,37.04,679.42,795.24,1582.2,1102.25,632.8,624.9,1039.69,405.45,257.67,224.94,504.47,653.47,259.6,376.71,485.69,1070.72,767.49,368.59,349.57,259.84,318.38,575.42,429.47,378.17,1418.35,1010.52,2069.06,1321.9,549.43,896.31,1058.14,886.44,447.1,428.17,444.61,887.56,731.7,674.23,658.32,747.64,479.8,301.41,573.39,708.2,772.19,971.16,2047.17,1792.14,225.82,797.7,621.59,792.42,1491.37,796.75,714.68,1243.41,462.78,1174.24,1245.93,1187.18,1197.17,701.08,479.96,592.83,557.79,723.83,1764.73,889.57,568.88,761.9,1581.54,1409.04,935.52,518.57,462.34,2048.13,431.48,467.39,1053.82,693.8,1691.62,845.4,1039.65,1693.18,1043.77,997.57,1400.92,1395.11,1513.99,3117.01,1482.67,1192.19,1586.62,2005.83,2333.97,1777.93,1761.77,1876.95,3546.82,5783.08,3162.87,2281.43,4041.5,10685.03,1406.83,517.11,664.01,1526.82,2004.21,3682.74,2991.08,2399.65,1276.86,760.06,580.07,592.98,1219.38,830.92,811.17,659.17,1061.35,908.48,1053.42,1652.44,1591.62,3930.51,7182.36,2287.56,2300.85,1164.67,1208.97,1166.25,897.65,1417.66,602.4,596.08,1202.45,1357.12,576.41,732.04,1410.62,3100.3,594.43,1154.5,5105.44,473.99,315.75,1136.3,3137.94,1818.43,1436.44,674.76,375.07,1235.99,2150.52,1052.02,163.11,381.52,186.62,216.49,200.97,206.87,232.85,983.55,548.29,635.71,312.19,381.31,513.9,323.09,657.0,373.76,412.39,763.03,843.09,1729.29,404.47,802.26,1110.57,712.06,942.26,566.34,997.84,662.47,2045.82,1826.33,2607.37,2589.71,1075.45,1619.3,1306.33,1131.19,1814.28,434.18,848.73,1735.52,591.48,1095.86,1492.81,1994.83,1116.11,1572.4,4227.75,4444.1,9819.4,1076.86,3069.91,1793.76,240.12,258.3,795.09,625.57,654.84,612.62,1479.42,294.25,410.34,338.76,899.58,1890.06,227.82,550.54,448.88,583.52,863.93,613.29,405.72,556.84,825.7,715.02,432.86,1028.77,903.18,2074.8,1915.09,672.88,275.39,554.28,1079.62,713.86,404.58,2677.65,2042.54,423.77,449.61,1009.18,1064.43,1473.55,893.5,802.94,1868.15,1526.09,1361.83,2720.63,865.96,936.87,1022.93,730.08,678.9,1861.9,882.57,326.05,341.57,509.2,512.28,480.35,1226.48,1454.58,1181.91,649.53,1191.18,692.32,1026.67,722.87,1120.16,814.61,2520.35,2873.33,609.14,1525.45,987.14,3606.3,1448.5,1363.63,609.4,1465.67,1786.36,2637.2,1494.09,1375.42,291.93,897.69,754.43,719.46,2044.44,3672.24,2235.97,1423.6,968.72,637.58,1783.38,1675.9,972.64,1196.98,1586.54,1373.76,2451.46,1175.14,1651.49,1417.54,2553.76,9645.18,2058.5,1955.79,833.6,875.04,1495.4,1206.81,988.66,1510.21,3091.76,2272.82,1256.14,1388.86,1328.06,2583.19,1319.26,1383.3,1801.02,1493.73,2048.51,3236.78,3382.09,774.68,899.03,882.89,2781.63,2518.67,548.13,1635.69,2997.62,1880.76,4032.37,4697.91,732.65,1846.35,1052.23,1196.57,919.52,868.71,492.18,1499.66,368.92,468.6,620.33,893.61,1184.49,726.78,779.85,3112.68,2791.03,994.01,694.98,780.01,340.31,355.17,803.56],\"type\":\"pie\"}],                        {\"template\":{\"data\":{\"histogram2dcontour\":[{\"type\":\"histogram2dcontour\",\"colorbar\":{\"outlinewidth\":0,\"ticks\":\"\"},\"colorscale\":[[0.0,\"#0d0887\"],[0.1111111111111111,\"#46039f\"],[0.2222222222222222,\"#7201a8\"],[0.3333333333333333,\"#9c179e\"],[0.4444444444444444,\"#bd3786\"],[0.5555555555555556,\"#d8576b\"],[0.6666666666666666,\"#ed7953\"],[0.7777777777777778,\"#fb9f3a\"],[0.8888888888888888,\"#fdca26\"],[1.0,\"#f0f921\"]]}],\"choropleth\":[{\"type\":\"choropleth\",\"colorbar\":{\"outlinewidth\":0,\"ticks\":\"\"}}],\"histogram2d\":[{\"type\":\"histogram2d\",\"colorbar\":{\"outlinewidth\":0,\"ticks\":\"\"},\"colorscale\":[[0.0,\"#0d0887\"],[0.1111111111111111,\"#46039f\"],[0.2222222222222222,\"#7201a8\"],[0.3333333333333333,\"#9c179e\"],[0.4444444444444444,\"#bd3786\"],[0.5555555555555556,\"#d8576b\"],[0.6666666666666666,\"#ed7953\"],[0.7777777777777778,\"#fb9f3a\"],[0.8888888888888888,\"#fdca26\"],[1.0,\"#f0f921\"]]}],\"heatmap\":[{\"type\":\"heatmap\",\"colorbar\":{\"outlinewidth\":0,\"ticks\":\"\"},\"colorscale\":[[0.0,\"#0d0887\"],[0.1111111111111111,\"#46039f\"],[0.2222222222222222,\"#7201a8\"],[0.3333333333333333,\"#9c179e\"],[0.4444444444444444,\"#bd3786\"],[0.5555555555555556,\"#d8576b\"],[0.6666666666666666,\"#ed7953\"],[0.7777777777777778,\"#fb9f3a\"],[0.8888888888888888,\"#fdca26\"],[1.0,\"#f0f921\"]]}],\"heatmapgl\":[{\"type\":\"heatmapgl\",\"colorbar\":{\"outlinewidth\":0,\"ticks\":\"\"},\"colorscale\":[[0.0,\"#0d0887\"],[0.1111111111111111,\"#46039f\"],[0.2222222222222222,\"#7201a8\"],[0.3333333333333333,\"#9c179e\"],[0.4444444444444444,\"#bd3786\"],[0.5555555555555556,\"#d8576b\"],[0.6666666666666666,\"#ed7953\"],[0.7777777777777778,\"#fb9f3a\"],[0.8888888888888888,\"#fdca26\"],[1.0,\"#f0f921\"]]}],\"contourcarpet\":[{\"type\":\"contourcarpet\",\"colorbar\":{\"outlinewidth\":0,\"ticks\":\"\"}}],\"contour\":[{\"type\":\"contour\",\"colorbar\":{\"outlinewidth\":0,\"ticks\":\"\"},\"colorscale\":[[0.0,\"#0d0887\"],[0.1111111111111111,\"#46039f\"],[0.2222222222222222,\"#7201a8\"],[0.3333333333333333,\"#9c179e\"],[0.4444444444444444,\"#bd3786\"],[0.5555555555555556,\"#d8576b\"],[0.6666666666666666,\"#ed7953\"],[0.7777777777777778,\"#fb9f3a\"],[0.8888888888888888,\"#fdca26\"],[1.0,\"#f0f921\"]]}],\"surface\":[{\"type\":\"surface\",\"colorbar\":{\"outlinewidth\":0,\"ticks\":\"\"},\"colorscale\":[[0.0,\"#0d0887\"],[0.1111111111111111,\"#46039f\"],[0.2222222222222222,\"#7201a8\"],[0.3333333333333333,\"#9c179e\"],[0.4444444444444444,\"#bd3786\"],[0.5555555555555556,\"#d8576b\"],[0.6666666666666666,\"#ed7953\"],[0.7777777777777778,\"#fb9f3a\"],[0.8888888888888888,\"#fdca26\"],[1.0,\"#f0f921\"]]}],\"mesh3d\":[{\"type\":\"mesh3d\",\"colorbar\":{\"outlinewidth\":0,\"ticks\":\"\"}}],\"scatter\":[{\"fillpattern\":{\"fillmode\":\"overlay\",\"size\":10,\"solidity\":0.2},\"type\":\"scatter\"}],\"parcoords\":[{\"type\":\"parcoords\",\"line\":{\"colorbar\":{\"outlinewidth\":0,\"ticks\":\"\"}}}],\"scatterpolargl\":[{\"type\":\"scatterpolargl\",\"marker\":{\"colorbar\":{\"outlinewidth\":0,\"ticks\":\"\"}}}],\"bar\":[{\"error_x\":{\"color\":\"#2a3f5f\"},\"error_y\":{\"color\":\"#2a3f5f\"},\"marker\":{\"line\":{\"color\":\"#E5ECF6\",\"width\":0.5},\"pattern\":{\"fillmode\":\"overlay\",\"size\":10,\"solidity\":0.2}},\"type\":\"bar\"}],\"scattergeo\":[{\"type\":\"scattergeo\",\"marker\":{\"colorbar\":{\"outlinewidth\":0,\"ticks\":\"\"}}}],\"scatterpolar\":[{\"type\":\"scatterpolar\",\"marker\":{\"colorbar\":{\"outlinewidth\":0,\"ticks\":\"\"}}}],\"histogram\":[{\"marker\":{\"pattern\":{\"fillmode\":\"overlay\",\"size\":10,\"solidity\":0.2}},\"type\":\"histogram\"}],\"scattergl\":[{\"type\":\"scattergl\",\"marker\":{\"colorbar\":{\"outlinewidth\":0,\"ticks\":\"\"}}}],\"scatter3d\":[{\"type\":\"scatter3d\",\"line\":{\"colorbar\":{\"outlinewidth\":0,\"ticks\":\"\"}},\"marker\":{\"colorbar\":{\"outlinewidth\":0,\"ticks\":\"\"}}}],\"scattermapbox\":[{\"type\":\"scattermapbox\",\"marker\":{\"colorbar\":{\"outlinewidth\":0,\"ticks\":\"\"}}}],\"scatterternary\":[{\"type\":\"scatterternary\",\"marker\":{\"colorbar\":{\"outlinewidth\":0,\"ticks\":\"\"}}}],\"scattercarpet\":[{\"type\":\"scattercarpet\",\"marker\":{\"colorbar\":{\"outlinewidth\":0,\"ticks\":\"\"}}}],\"carpet\":[{\"aaxis\":{\"endlinecolor\":\"#2a3f5f\",\"gridcolor\":\"white\",\"linecolor\":\"white\",\"minorgridcolor\":\"white\",\"startlinecolor\":\"#2a3f5f\"},\"baxis\":{\"endlinecolor\":\"#2a3f5f\",\"gridcolor\":\"white\",\"linecolor\":\"white\",\"minorgridcolor\":\"white\",\"startlinecolor\":\"#2a3f5f\"},\"type\":\"carpet\"}],\"table\":[{\"cells\":{\"fill\":{\"color\":\"#EBF0F8\"},\"line\":{\"color\":\"white\"}},\"header\":{\"fill\":{\"color\":\"#C8D4E3\"},\"line\":{\"color\":\"white\"}},\"type\":\"table\"}],\"barpolar\":[{\"marker\":{\"line\":{\"color\":\"#E5ECF6\",\"width\":0.5},\"pattern\":{\"fillmode\":\"overlay\",\"size\":10,\"solidity\":0.2}},\"type\":\"barpolar\"}],\"pie\":[{\"automargin\":true,\"type\":\"pie\"}]},\"layout\":{\"autotypenumbers\":\"strict\",\"colorway\":[\"#636efa\",\"#EF553B\",\"#00cc96\",\"#ab63fa\",\"#FFA15A\",\"#19d3f3\",\"#FF6692\",\"#B6E880\",\"#FF97FF\",\"#FECB52\"],\"font\":{\"color\":\"#2a3f5f\"},\"hovermode\":\"closest\",\"hoverlabel\":{\"align\":\"left\"},\"paper_bgcolor\":\"white\",\"plot_bgcolor\":\"#E5ECF6\",\"polar\":{\"bgcolor\":\"#E5ECF6\",\"angularaxis\":{\"gridcolor\":\"white\",\"linecolor\":\"white\",\"ticks\":\"\"},\"radialaxis\":{\"gridcolor\":\"white\",\"linecolor\":\"white\",\"ticks\":\"\"}},\"ternary\":{\"bgcolor\":\"#E5ECF6\",\"aaxis\":{\"gridcolor\":\"white\",\"linecolor\":\"white\",\"ticks\":\"\"},\"baxis\":{\"gridcolor\":\"white\",\"linecolor\":\"white\",\"ticks\":\"\"},\"caxis\":{\"gridcolor\":\"white\",\"linecolor\":\"white\",\"ticks\":\"\"}},\"coloraxis\":{\"colorbar\":{\"outlinewidth\":0,\"ticks\":\"\"}},\"colorscale\":{\"sequential\":[[0.0,\"#0d0887\"],[0.1111111111111111,\"#46039f\"],[0.2222222222222222,\"#7201a8\"],[0.3333333333333333,\"#9c179e\"],[0.4444444444444444,\"#bd3786\"],[0.5555555555555556,\"#d8576b\"],[0.6666666666666666,\"#ed7953\"],[0.7777777777777778,\"#fb9f3a\"],[0.8888888888888888,\"#fdca26\"],[1.0,\"#f0f921\"]],\"sequentialminus\":[[0.0,\"#0d0887\"],[0.1111111111111111,\"#46039f\"],[0.2222222222222222,\"#7201a8\"],[0.3333333333333333,\"#9c179e\"],[0.4444444444444444,\"#bd3786\"],[0.5555555555555556,\"#d8576b\"],[0.6666666666666666,\"#ed7953\"],[0.7777777777777778,\"#fb9f3a\"],[0.8888888888888888,\"#fdca26\"],[1.0,\"#f0f921\"]],\"diverging\":[[0,\"#8e0152\"],[0.1,\"#c51b7d\"],[0.2,\"#de77ae\"],[0.3,\"#f1b6da\"],[0.4,\"#fde0ef\"],[0.5,\"#f7f7f7\"],[0.6,\"#e6f5d0\"],[0.7,\"#b8e186\"],[0.8,\"#7fbc41\"],[0.9,\"#4d9221\"],[1,\"#276419\"]]},\"xaxis\":{\"gridcolor\":\"white\",\"linecolor\":\"white\",\"ticks\":\"\",\"title\":{\"standoff\":15},\"zerolinecolor\":\"white\",\"automargin\":true,\"zerolinewidth\":2},\"yaxis\":{\"gridcolor\":\"white\",\"linecolor\":\"white\",\"ticks\":\"\",\"title\":{\"standoff\":15},\"zerolinecolor\":\"white\",\"automargin\":true,\"zerolinewidth\":2},\"scene\":{\"xaxis\":{\"backgroundcolor\":\"#E5ECF6\",\"gridcolor\":\"white\",\"linecolor\":\"white\",\"showbackground\":true,\"ticks\":\"\",\"zerolinecolor\":\"white\",\"gridwidth\":2},\"yaxis\":{\"backgroundcolor\":\"#E5ECF6\",\"gridcolor\":\"white\",\"linecolor\":\"white\",\"showbackground\":true,\"ticks\":\"\",\"zerolinecolor\":\"white\",\"gridwidth\":2},\"zaxis\":{\"backgroundcolor\":\"#E5ECF6\",\"gridcolor\":\"white\",\"linecolor\":\"white\",\"showbackground\":true,\"ticks\":\"\",\"zerolinecolor\":\"white\",\"gridwidth\":2}},\"shapedefaults\":{\"line\":{\"color\":\"#2a3f5f\"}},\"annotationdefaults\":{\"arrowcolor\":\"#2a3f5f\",\"arrowhead\":0,\"arrowwidth\":1},\"geo\":{\"bgcolor\":\"white\",\"landcolor\":\"#E5ECF6\",\"subunitcolor\":\"white\",\"showland\":true,\"showlakes\":true,\"lakecolor\":\"white\"},\"title\":{\"x\":0.05},\"mapbox\":{\"style\":\"light\"}}},\"legend\":{\"tracegroupgap\":0},\"title\":{\"text\":\"Cumulative Turnover by Year\"}},                        {\"responsive\": true}                    ).then(function(){\n",
       "                            \n",
       "var gd = document.getElementById('1701ab0b-98da-4ce0-b6e6-89579c51918a');\n",
       "var x = new MutationObserver(function (mutations, observer) {{\n",
       "        var display = window.getComputedStyle(gd).display;\n",
       "        if (!display || display === 'none') {{\n",
       "            console.log([gd, 'removed!']);\n",
       "            Plotly.purge(gd);\n",
       "            observer.disconnect();\n",
       "        }}\n",
       "}});\n",
       "\n",
       "// Listen for the removal of the full notebook cells\n",
       "var notebookContainer = gd.closest('#notebook-container');\n",
       "if (notebookContainer) {{\n",
       "    x.observe(notebookContainer, {childList: true});\n",
       "}}\n",
       "\n",
       "// Listen for the clearing of the current output cell\n",
       "var outputEl = gd.closest('.output');\n",
       "if (outputEl) {{\n",
       "    x.observe(outputEl, {childList: true});\n",
       "}}\n",
       "\n",
       "                        })                };                });            </script>        </div>"
      ]
     },
     "metadata": {},
     "output_type": "display_data"
    }
   ],
   "source": [
    "fig = px.pie(df, values='Turnover (Lacs)', names='month', color='year', title='Cumulative Turnover by Year')\n",
    "fig.show()"
   ]
  },
  {
   "cell_type": "markdown",
   "id": "bc2ba624",
   "metadata": {
    "id": "lip1bAIIw5Z0",
    "papermill": {
     "duration": 0.014667,
     "end_time": "2024-09-24T18:01:10.829365",
     "exception": false,
     "start_time": "2024-09-24T18:01:10.814698",
     "status": "completed"
    },
    "tags": []
   },
   "source": [
    "# Select Features"
   ]
  },
  {
   "cell_type": "code",
   "execution_count": 17,
   "id": "56ed6874",
   "metadata": {
    "execution": {
     "iopub.execute_input": "2024-09-24T18:01:10.861757Z",
     "iopub.status.busy": "2024-09-24T18:01:10.860614Z",
     "iopub.status.idle": "2024-09-24T18:01:10.874026Z",
     "shell.execute_reply": "2024-09-24T18:01:10.872943Z"
    },
    "id": "EuR-3hulxc0m",
    "papermill": {
     "duration": 0.032347,
     "end_time": "2024-09-24T18:01:10.876707",
     "exception": false,
     "start_time": "2024-09-24T18:01:10.844360",
     "status": "completed"
    },
    "tags": []
   },
   "outputs": [],
   "source": [
    "# Define your target variable (e.g., 'Close' price)\n",
    "target_variable = 'Close'\n",
    "\n",
    "# Define your features (exclude the target variable)\n",
    "features = [col for col in df.columns if col != target_variable]\n",
    "\n",
    "# Split the data into features (X) and target (y)\n",
    "X = df[features]\n",
    "y = df[target_variable]\n",
    "\n",
    "# Split the data into training and testing sets\n",
    "X_train, X_test, y_train, y_test = train_test_split(X, y, test_size=0.2, random_state=42)\n"
   ]
  },
  {
   "cell_type": "code",
   "execution_count": 18,
   "id": "39aa9590",
   "metadata": {
    "execution": {
     "iopub.execute_input": "2024-09-24T18:01:10.909168Z",
     "iopub.status.busy": "2024-09-24T18:01:10.907889Z",
     "iopub.status.idle": "2024-09-24T18:01:10.921803Z",
     "shell.execute_reply": "2024-09-24T18:01:10.920632Z"
    },
    "id": "Fsx_Kjitz_Fb",
    "papermill": {
     "duration": 0.03303,
     "end_time": "2024-09-24T18:01:10.924724",
     "exception": false,
     "start_time": "2024-09-24T18:01:10.891694",
     "status": "completed"
    },
    "tags": []
   },
   "outputs": [],
   "source": [
    "# Feature scaling (optional but can improve performance)\n",
    "scaler = StandardScaler()\n",
    "X_train = scaler.fit_transform(X_train)\n",
    "X_test = scaler.transform(X_test)"
   ]
  },
  {
   "cell_type": "markdown",
   "id": "6ad6b13d",
   "metadata": {
    "id": "o_FWeKvA0LAc",
    "papermill": {
     "duration": 0.014476,
     "end_time": "2024-09-24T18:01:10.954061",
     "exception": false,
     "start_time": "2024-09-24T18:01:10.939585",
     "status": "completed"
    },
    "tags": []
   },
   "source": [
    "# Linear Regression model"
   ]
  },
  {
   "cell_type": "code",
   "execution_count": 19,
   "id": "57e9d38e",
   "metadata": {
    "execution": {
     "iopub.execute_input": "2024-09-24T18:01:10.986083Z",
     "iopub.status.busy": "2024-09-24T18:01:10.985011Z",
     "iopub.status.idle": "2024-09-24T18:01:11.019264Z",
     "shell.execute_reply": "2024-09-24T18:01:11.018078Z"
    },
    "id": "vyNNPdyL0GVT",
    "outputId": "839900f7-4c33-4b48-8fe9-43d82359bed4",
    "papermill": {
     "duration": 0.05302,
     "end_time": "2024-09-24T18:01:11.021857",
     "exception": false,
     "start_time": "2024-09-24T18:01:10.968837",
     "status": "completed"
    },
    "tags": []
   },
   "outputs": [
    {
     "name": "stdout",
     "output_type": "stream",
     "text": [
      "Linear Regression:\n",
      "Mean Squared Error: 0.15835670661571058\n",
      "Root Mean Squared Error: 0.3979405817653065\n",
      "R-squared: 0.9999336270386097\n",
      "Linear Regression Accuracy: 99.99%\n"
     ]
    }
   ],
   "source": [
    "# Create and train the Linear Regression model\n",
    "linear_model = LinearRegression()\n",
    "linear_model.fit(X_train, y_train)\n",
    "\n",
    "# Make predictions on the test set\n",
    "y_pred_linear = linear_model.predict(X_test)\n",
    "\n",
    "# Evaluate the model\n",
    "mse_linear = mean_squared_error(y_test, y_pred_linear)\n",
    "rmse_linear = np.sqrt(mse_linear)\n",
    "r2_linear = r2_score(y_test, y_pred_linear)\n",
    "\n",
    "# Print Linear Regression results\n",
    "print(f'Linear Regression:')\n",
    "print(f'Mean Squared Error: {mse_linear}')\n",
    "print(f'Root Mean Squared Error: {rmse_linear}')\n",
    "print(f'R-squared: {r2_linear}')\n",
    "print(f\"Linear Regression Accuracy: {r2_linear * 100:.2f}%\")\n"
   ]
  },
  {
   "cell_type": "markdown",
   "id": "0da2db3a",
   "metadata": {
    "id": "TsdgyQw20NEL",
    "papermill": {
     "duration": 0.0149,
     "end_time": "2024-09-24T18:01:11.051910",
     "exception": false,
     "start_time": "2024-09-24T18:01:11.037010",
     "status": "completed"
    },
    "tags": []
   },
   "source": [
    "# Decision Tree model"
   ]
  },
  {
   "cell_type": "code",
   "execution_count": 20,
   "id": "feb1e210",
   "metadata": {
    "execution": {
     "iopub.execute_input": "2024-09-24T18:01:11.084913Z",
     "iopub.status.busy": "2024-09-24T18:01:11.084406Z",
     "iopub.status.idle": "2024-09-24T18:01:11.115338Z",
     "shell.execute_reply": "2024-09-24T18:01:11.113636Z"
    },
    "id": "vN8xVmni0QML",
    "outputId": "dbf2f0ad-7db2-4fbb-d0ad-3717661ee76a",
    "papermill": {
     "duration": 0.05116,
     "end_time": "2024-09-24T18:01:11.118179",
     "exception": false,
     "start_time": "2024-09-24T18:01:11.067019",
     "status": "completed"
    },
    "tags": []
   },
   "outputs": [
    {
     "name": "stdout",
     "output_type": "stream",
     "text": [
      "\n",
      "Decision Tree:\n",
      "Mean Squared Error: 0.7963452088452095\n",
      "Root Mean Squared Error: 0.8923817618291006\n",
      "R-squared: 0.9996662232315279\n",
      "Decision Tree Accuracy: 99.97%\n"
     ]
    }
   ],
   "source": [
    "# Create and train the Decision Tree model\n",
    "tree_model = DecisionTreeRegressor()\n",
    "tree_model.fit(X_train, y_train)\n",
    "\n",
    "# Make predictions on the test set\n",
    "y_pred_tree = tree_model.predict(X_test)\n",
    "\n",
    "# Evaluate the model\n",
    "mse_tree = mean_squared_error(y_test, y_pred_tree)\n",
    "rmse_tree = np.sqrt(mse_tree)\n",
    "r2_tree = r2_score(y_test, y_pred_tree)\n",
    "\n",
    "# Print Decision Tree results\n",
    "print(f'\\nDecision Tree:')\n",
    "print(f'Mean Squared Error: {mse_tree}')\n",
    "print(f'Root Mean Squared Error: {rmse_tree}')\n",
    "print(f'R-squared: {r2_tree}')\n",
    "print(f\"Decision Tree Accuracy: {r2_tree * 100:.2f}%\")\n"
   ]
  },
  {
   "cell_type": "markdown",
   "id": "03f19102",
   "metadata": {
    "id": "wR6PJwVb0X2E",
    "papermill": {
     "duration": 0.014879,
     "end_time": "2024-09-24T18:01:11.148294",
     "exception": false,
     "start_time": "2024-09-24T18:01:11.133415",
     "status": "completed"
    },
    "tags": []
   },
   "source": [
    "# Random Forest model"
   ]
  },
  {
   "cell_type": "code",
   "execution_count": 21,
   "id": "6a8d6833",
   "metadata": {
    "execution": {
     "iopub.execute_input": "2024-09-24T18:01:11.180828Z",
     "iopub.status.busy": "2024-09-24T18:01:11.180390Z",
     "iopub.status.idle": "2024-09-24T18:01:12.191258Z",
     "shell.execute_reply": "2024-09-24T18:01:12.189831Z"
    },
    "id": "XEgpv8Ze0VYj",
    "outputId": "0e418db9-0260-4ede-c605-3293df1e7bde",
    "papermill": {
     "duration": 1.030539,
     "end_time": "2024-09-24T18:01:12.194041",
     "exception": false,
     "start_time": "2024-09-24T18:01:11.163502",
     "status": "completed"
    },
    "tags": []
   },
   "outputs": [
    {
     "name": "stdout",
     "output_type": "stream",
     "text": [
      "\n",
      "Random Forest:\n",
      "Mean Squared Error: 0.421169012285023\n",
      "Root Mean Squared Error: 0.6489753556838834\n",
      "R-squared: 0.999823472998469\n",
      "Random Forest Accuracy: 99.98%\n"
     ]
    }
   ],
   "source": [
    "# Create and train the Random Forest model\n",
    "forest_model = RandomForestRegressor(n_estimators=100, random_state=42)\n",
    "forest_model.fit(X_train, y_train)\n",
    "\n",
    "# Make predictions on the test set\n",
    "y_pred_forest = forest_model.predict(X_test)\n",
    "\n",
    "# Evaluate the model\n",
    "mse_forest = mean_squared_error(y_test, y_pred_forest)\n",
    "rmse_forest = np.sqrt(mse_forest)\n",
    "r2_forest = r2_score(y_test, y_pred_forest)\n",
    "\n",
    "# Print Random Forest results\n",
    "print(f'\\nRandom Forest:')\n",
    "print(f'Mean Squared Error: {mse_forest}')\n",
    "print(f'Root Mean Squared Error: {rmse_forest}')\n",
    "print(f'R-squared: {r2_forest}')\n",
    "print(f\"Random Forest Accuracy: {r2_forest * 100:.2f}%\")\n"
   ]
  },
  {
   "cell_type": "markdown",
   "id": "1203fca1",
   "metadata": {
    "papermill": {
     "duration": 0.014951,
     "end_time": "2024-09-24T18:01:12.224263",
     "exception": false,
     "start_time": "2024-09-24T18:01:12.209312",
     "status": "completed"
    },
    "tags": []
   },
   "source": [
    "# Thank you "
   ]
  },
  {
   "cell_type": "code",
   "execution_count": null,
   "id": "56b1e393",
   "metadata": {
    "papermill": {
     "duration": 0.015097,
     "end_time": "2024-09-24T18:01:12.254456",
     "exception": false,
     "start_time": "2024-09-24T18:01:12.239359",
     "status": "completed"
    },
    "tags": []
   },
   "outputs": [],
   "source": []
  }
 ],
 "metadata": {
  "colab": {
   "provenance": []
  },
  "kaggle": {
   "accelerator": "none",
   "dataSources": [],
   "dockerImageVersionId": 30775,
   "isGpuEnabled": false,
   "isInternetEnabled": true,
   "language": "python",
   "sourceType": "notebook"
  },
  "kernelspec": {
   "display_name": "Python 3",
   "language": "python",
   "name": "python3"
  },
  "language_info": {
   "codemirror_mode": {
    "name": "ipython",
    "version": 3
   },
   "file_extension": ".py",
   "mimetype": "text/x-python",
   "name": "python",
   "nbconvert_exporter": "python",
   "pygments_lexer": "ipython3",
   "version": "3.10.14"
  },
  "papermill": {
   "default_parameters": {},
   "duration": 13.221409,
   "end_time": "2024-09-24T18:01:13.102250",
   "environment_variables": {},
   "exception": null,
   "input_path": "__notebook__.ipynb",
   "output_path": "__notebook__.ipynb",
   "parameters": {},
   "start_time": "2024-09-24T18:00:59.880841",
   "version": "2.6.0"
  }
 },
 "nbformat": 4,
 "nbformat_minor": 5
}
